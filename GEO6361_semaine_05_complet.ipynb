{
  "nbformat": 4,
  "nbformat_minor": 0,
  "metadata": {
    "colab": {
      "provenance": [],
      "collapsed_sections": [
        "SmYbBbduXX5B",
        "p4wjjylVXRlz",
        "CSh7-u42sN0D"
      ],
      "include_colab_link": true
    },
    "kernelspec": {
      "name": "python3",
      "display_name": "Python 3"
    },
    "language_info": {
      "name": "python"
    }
  },
  "cells": [
    {
      "cell_type": "markdown",
      "metadata": {
        "id": "view-in-github",
        "colab_type": "text"
      },
      "source": [
        "<a href=\"https://colab.research.google.com/github/Bastien-Boucherat/GEO6361/blob/main/GEO6361_semaine_05_complet.ipynb\" target=\"_parent\"><img src=\"https://colab.research.google.com/assets/colab-badge.svg\" alt=\"Open In Colab\"/></a>"
      ]
    },
    {
      "cell_type": "markdown",
      "source": [
        "# **Aperçu de NumPy**"
      ],
      "metadata": {
        "id": "t8StQfWJKul9"
      }
    },
    {
      "cell_type": "code",
      "execution_count": null,
      "metadata": {
        "id": "WEfsevXEKgZq"
      },
      "outputs": [],
      "source": [
        "# Avant toute chose, on doit s'assurer que NumPy est bien disponible dans notre carnet puisque c'est un module externe.\n",
        "# Comme NumPy est préinstallé dans Google Colab, il suffit de l'importer.\n",
        "import numpy as np"
      ]
    },
    {
      "cell_type": "markdown",
      "source": [
        "### **Génération d'arrays NumPy**"
      ],
      "metadata": {
        "id": "SmYbBbduXX5B"
      }
    },
    {
      "cell_type": "code",
      "source": [
        "# Créons une liste Python standard...\n",
        "ma_liste = [1, 2, 3, 4]\n",
        "# ... et convertissons-la en \"array\" NumPy\n",
        "mon_array = np.array(ma_liste)\n",
        "print(ma_liste, mon_array)"
      ],
      "metadata": {
        "colab": {
          "base_uri": "https://localhost:8080/"
        },
        "id": "Brhj8GX3K-Py",
        "outputId": "e294ddd5-a2d3-4699-e69c-f1f399c8d8ae"
      },
      "execution_count": null,
      "outputs": [
        {
          "output_type": "stream",
          "name": "stdout",
          "text": [
            "[1, 2, 3, 4] [1 2 3 4]\n"
          ]
        }
      ]
    },
    {
      "cell_type": "code",
      "source": [
        "# Même chose à partir d'une liste 2D (matrice)\n",
        "ma_liste_2d = [[1, 2, 3],\n",
        "               [4, 5, 6],\n",
        "               [7, 8, 9]]\n",
        "np.array(ma_liste_2d)"
      ],
      "metadata": {
        "colab": {
          "base_uri": "https://localhost:8080/"
        },
        "id": "MrDs_6Z5LnL1",
        "outputId": "e68f4964-bf36-49be-918c-36e75d1c09ff"
      },
      "execution_count": null,
      "outputs": [
        {
          "output_type": "execute_result",
          "data": {
            "text/plain": [
              "array([[1, 2, 3],\n",
              "       [4, 5, 6],\n",
              "       [7, 8, 9]])"
            ]
          },
          "metadata": {},
          "execution_count": 4
        }
      ]
    },
    {
      "cell_type": "code",
      "source": [
        "# Créer un objet array avec \"arange\" (equivalent de \"range\" mais pour les arrays NumPy) :\n",
        "arr = np.arange(2,10,2) # crée une array allant de 2 (inclusivement) à 10 (exclusivement), avec un pas de 2."
      ],
      "metadata": {
        "id": "_25Gr8FXL_gF"
      },
      "execution_count": null,
      "outputs": []
    },
    {
      "cell_type": "code",
      "source": [
        "# Créer un array rempli de uns :\n",
        "print(np.ones(15))\n",
        "#... ou de zéros :\n",
        "a = np.zeros(10)\n",
        "print(a)\n",
        "#... ou d'une autre valeur :\n",
        "a = np.full(20,99)\n",
        "print(a)"
      ],
      "metadata": {
        "colab": {
          "base_uri": "https://localhost:8080/"
        },
        "id": "yDLO8c5fMxC8",
        "outputId": "494b2cdb-e3ef-439b-f0d8-59566ced6f88"
      },
      "execution_count": null,
      "outputs": [
        {
          "output_type": "stream",
          "name": "stdout",
          "text": [
            "[1. 1. 1. 1. 1. 1. 1. 1. 1. 1. 1. 1. 1. 1. 1.]\n",
            "[0. 0. 0. 0. 0. 0. 0. 0. 0. 0.]\n",
            "[99 99 99 99 99 99 99 99 99 99 99 99 99 99 99 99 99 99 99 99]\n"
          ]
        }
      ]
    },
    {
      "cell_type": "code",
      "source": [
        "# Pour créer un array 2D :\n",
        "np.zeros((3,4))"
      ],
      "metadata": {
        "colab": {
          "base_uri": "https://localhost:8080/"
        },
        "id": "qhM3titIN8ZB",
        "outputId": "f85bc598-a2d1-4f24-d386-718bbbe741fe"
      },
      "execution_count": null,
      "outputs": [
        {
          "output_type": "execute_result",
          "data": {
            "text/plain": [
              "array([[0., 0., 0., 0.],\n",
              "       [0., 0., 0., 0.],\n",
              "       [0., 0., 0., 0.]])"
            ]
          },
          "metadata": {},
          "execution_count": 9
        }
      ]
    },
    {
      "cell_type": "code",
      "source": [
        "# On peut itérer à travers des arrays comme on le fait avec des listes\n",
        "arr = np.array([[1,2,3],[4,5,6],[7,8,9]])\n",
        "for ligne in arr: # on itère à travers les lignes\n",
        "    for element in ligne: # on itère à travers les colonnes de chaque ligne\n",
        "        print(ligne,element)"
      ],
      "metadata": {
        "colab": {
          "base_uri": "https://localhost:8080/"
        },
        "id": "HN2apKSOyNsm",
        "outputId": "73692bc4-d636-4a44-e507-49c9f90fd06e"
      },
      "execution_count": null,
      "outputs": [
        {
          "output_type": "stream",
          "name": "stdout",
          "text": [
            "[1 2 3] 1\n",
            "[1 2 3] 2\n",
            "[1 2 3] 3\n",
            "[4 5 6] 4\n",
            "[4 5 6] 5\n",
            "[4 5 6] 6\n",
            "[7 8 9] 7\n",
            "[7 8 9] 8\n",
            "[7 8 9] 9\n"
          ]
        }
      ]
    },
    {
      "cell_type": "markdown",
      "source": [
        "### **Manipulations d'arrays**"
      ],
      "metadata": {
        "id": "p4wjjylVXRlz"
      }
    },
    {
      "cell_type": "code",
      "source": [
        "# Transformer un array 1D en 2D :\n",
        "a = np.zeros(16) # création d'un array à 1D de 16 éléments\n",
        "a = a.reshape(4,4) # le produit des dimensions doit être égal à la taille de l'array\n",
        "print(a)\n",
        "\n",
        "# Pour connaître la forme d'un array...\n",
        "print(f\"La longueur des axes de l'array est de {a.shape}.\")\n",
        "\n",
        "# ...et le nombre total d'éléments (la taille de l'array):\n",
        "print(f\"Le nombre total d'éléments dans l'array est de {a.size}.\")"
      ],
      "metadata": {
        "colab": {
          "base_uri": "https://localhost:8080/"
        },
        "id": "lVgdJxEbPWSa",
        "outputId": "dac96ede-9704-4c1c-bf3e-17670562d840"
      },
      "execution_count": null,
      "outputs": [
        {
          "output_type": "stream",
          "name": "stdout",
          "text": [
            "[[0. 0. 0. 0.]\n",
            " [0. 0. 0. 0.]\n",
            " [0. 0. 0. 0.]\n",
            " [0. 0. 0. 0.]]\n",
            "La longueur des axes de l'array est de (4, 4).\n",
            "Le nombre total d'éléments dans l'array est de 16.\n"
          ]
        }
      ]
    },
    {
      "cell_type": "code",
      "source": [
        "# Empiler des arrays\n",
        "a = np.ones((4,2))\n",
        "b = np.zeros((3,2))\n",
        "\n",
        "print(np.vstack((a,b))) # pour l'empilement vertical, les deux arrays doivent avoir le même nombre de colonnes\n",
        "\n",
        "c = np.zeros((4,10))\n",
        "print(np.hstack((a,c))) # pour l'empilement horizontal, les deux arrays doivent avoir le même nombre de lignes"
      ],
      "metadata": {
        "colab": {
          "base_uri": "https://localhost:8080/"
        },
        "id": "OGpe-IGL_0YC",
        "outputId": "b600a95d-1a70-4913-9ae4-c044cf9ab086"
      },
      "execution_count": null,
      "outputs": [
        {
          "output_type": "stream",
          "name": "stdout",
          "text": [
            "[[1. 1.]\n",
            " [1. 1.]\n",
            " [1. 1.]\n",
            " [1. 1.]\n",
            " [0. 0.]\n",
            " [0. 0.]\n",
            " [0. 0.]]\n",
            "[[1. 1. 0. 0. 0. 0. 0. 0. 0. 0. 0. 0.]\n",
            " [1. 1. 0. 0. 0. 0. 0. 0. 0. 0. 0. 0.]\n",
            " [1. 1. 0. 0. 0. 0. 0. 0. 0. 0. 0. 0.]\n",
            " [1. 1. 0. 0. 0. 0. 0. 0. 0. 0. 0. 0.]]\n"
          ]
        }
      ]
    },
    {
      "cell_type": "code",
      "source": [
        "# Pour connaitre le nombre de dimensions d'un array (ndim) :\n",
        "a = np.array([0,1,2,3,4])\n",
        "b = np.array([5,6,7,8,9])\n",
        "c = np.vstack((a,b))\n",
        "for i in [a, b, c]:\n",
        "    print(f\"L'Array {i} a {i.ndim} dimension(s).\") # Exemple un peu sophistiqué, mais on peut simplement appeler l'attribut \"ndim\" sur l'array."
      ],
      "metadata": {
        "colab": {
          "base_uri": "https://localhost:8080/"
        },
        "id": "kZv0pFtMjq3M",
        "outputId": "3c9bbea8-4c05-4bcc-cfb8-794219c05c68"
      },
      "execution_count": null,
      "outputs": [
        {
          "output_type": "stream",
          "name": "stdout",
          "text": [
            "L'Array [0 1 2 3 4] a 1 dimension(s).\n",
            "L'Array [5 6 7 8 9] a 1 dimension(s).\n",
            "L'Array [[0 1 2 3 4]\n",
            " [5 6 7 8 9]] a 2 dimension(s).\n"
          ]
        }
      ]
    },
    {
      "cell_type": "code",
      "source": [
        "# Pour connaître la forme d'un array\n",
        "print(f\"La forme de l'array a est {a.shape}\")\n",
        "print(f\"La forme de l'array c est {c.shape}\")"
      ],
      "metadata": {
        "colab": {
          "base_uri": "https://localhost:8080/"
        },
        "id": "NsXyNf_Vj8aC",
        "outputId": "808596ed-f4ec-4879-967c-180a8cabe519"
      },
      "execution_count": null,
      "outputs": [
        {
          "output_type": "stream",
          "name": "stdout",
          "text": [
            "La forme de l'array a est (5,)\n",
            "La forme de l'array c est (2, 5)\n"
          ]
        }
      ]
    },
    {
      "cell_type": "markdown",
      "source": [
        "### **Accéder à (et changer) des éléments des arrays**"
      ],
      "metadata": {
        "id": "vqETPmcmk1IN"
      }
    },
    {
      "cell_type": "code",
      "source": [
        "# Récupérer des données dans un array 1D :\n",
        "a = np.array([0,1,2,3,4])\n",
        "v = a[3]\n",
        "print(v, type(v), v.dtype) # on peut également trouver le type avec la fonction Python du même nom, ou en appelant l'attribut \"dtype\" sur l'array lui-même.\n",
        "\n",
        "a = np.array([0,1,2,3,4], dtype='int16')  # au passage, on peut forcer le type de valeurs au moment de la création de l'array. Nombre maximum = 2**16 dans ce cas.\n",
        "v = a[3]\n",
        "print(v, type(v), v.dtype)"
      ],
      "metadata": {
        "id": "b0tXibm3gDbE",
        "colab": {
          "base_uri": "https://localhost:8080/"
        },
        "outputId": "7fb96734-3136-407c-bc4a-111eabad5747"
      },
      "execution_count": null,
      "outputs": [
        {
          "output_type": "stream",
          "name": "stdout",
          "text": [
            "3 <class 'numpy.int64'> int64\n",
            "3 <class 'numpy.int16'> int16\n"
          ]
        }
      ]
    },
    {
      "cell_type": "code",
      "source": [
        "# Dans un array 2D\n",
        "a = np.random.choice(np.arange(0, 100), replace=False, size=(3, 3))\n",
        "print(a)\n",
        "print(a[1,2]) # Accéder à l'élément situé dans la 3e colonne de la deuxième ligne\n",
        "\n",
        "# Dans un array 3D\n",
        "a = np.random.choice(np.arange(0, 100), replace=False, size=(3, 3, 3))\n",
        "\n",
        "print(a)\n",
        "print(a[2,1,0]) # Accéder à l'élément situé dans la 3e tranche de la première colonne de la première ligne"
      ],
      "metadata": {
        "colab": {
          "base_uri": "https://localhost:8080/"
        },
        "id": "pY1c7xwxkd2y",
        "outputId": "6b91d900-636b-40d2-d582-678a388a0da0"
      },
      "execution_count": null,
      "outputs": [
        {
          "output_type": "stream",
          "name": "stdout",
          "text": [
            "[[ 8  3  2]\n",
            " [61 41 46]\n",
            " [97 98 72]]\n",
            "46\n",
            "[[[63  6 57]\n",
            "  [18 73 11]\n",
            "  [94  4 83]]\n",
            "\n",
            " [[26 20 82]\n",
            "  [16 36 65]\n",
            "  [49 84  0]]\n",
            "\n",
            " [[14 70 74]\n",
            "  [34 41 80]\n",
            "  [55 71 28]]]\n",
            "34\n"
          ]
        }
      ]
    },
    {
      "cell_type": "code",
      "source": [
        "# Pour accéder à une ligne spécifique :\n",
        "a = np.random.choice(np.arange(0, 100), replace=False, size=(3, 3))\n",
        "print(a)\n",
        "print()\n",
        "\n",
        "print(a[1], a[1, :]) # accéder à la deuxième ligne (deux façons...)\n",
        "print()\n",
        "\n",
        "# Pour accéder à une colonne spécifique :\n",
        "print(a[:, 2]) # accéder à la troisième colonne"
      ],
      "metadata": {
        "colab": {
          "base_uri": "https://localhost:8080/"
        },
        "id": "vx4OfdiXmih5",
        "outputId": "7a007a45-60e9-41cd-92f0-5a762dce4a68"
      },
      "execution_count": null,
      "outputs": [
        {
          "output_type": "stream",
          "name": "stdout",
          "text": [
            "[[70 46 68]\n",
            " [84  2 98]\n",
            " [ 1 73 58]]\n",
            "\n",
            "[84  2 98] [84  2 98]\n",
            "\n",
            "[68 98 58]\n"
          ]
        }
      ]
    },
    {
      "cell_type": "code",
      "source": [
        "# Plus sophistiqué (extra):\n",
        "a = np.random.choice(np.arange(0, 100), replace=False, size=(3, 7))\n",
        "print(a)\n",
        "print(a[1, 1:6:2]) # accéder aux éléments de 2e ligne en partant du deuxième (inclus) jusqu'au 7e avec un pas de 2."
      ],
      "metadata": {
        "colab": {
          "base_uri": "https://localhost:8080/"
        },
        "id": "rJhtJrHWm2n9",
        "outputId": "c5425251-50e5-4654-eaee-1a875a2a08ad"
      },
      "execution_count": null,
      "outputs": [
        {
          "output_type": "stream",
          "name": "stdout",
          "text": [
            "[[17 53 47 54 15 71 83]\n",
            " [ 5 89 85  2 16 13  4]\n",
            " [46  0 32 86 48 99 29]]\n",
            "[89  2 13]\n"
          ]
        }
      ]
    },
    {
      "cell_type": "code",
      "source": [
        "print(a)\n",
        "# Pour modifier les valeurs à l'intérieur d'un array\n",
        "a[1,4] = 40 # modifier la valeur située dans la 6e colonne de la deuxième ligne\n",
        "print('\\n',a)\n",
        "\n",
        "a[:,2] = 99 # toute la 3e colonne sera modifiée avec la même valeur\n",
        "print('\\n',a)"
      ],
      "metadata": {
        "colab": {
          "base_uri": "https://localhost:8080/"
        },
        "id": "jUTm86TCnF1j",
        "outputId": "5f478c12-1423-41e6-c93e-e65c8de363b7"
      },
      "execution_count": null,
      "outputs": [
        {
          "output_type": "stream",
          "name": "stdout",
          "text": [
            "[[17 53 47 54 15 71 83]\n",
            " [ 5 89 85  2 16 13  4]\n",
            " [46  0 32 86 48 99 29]]\n",
            "\n",
            " [[17 53 47 54 15 71 83]\n",
            " [ 5 89 85  2 40 13  4]\n",
            " [46  0 32 86 48 99 29]]\n",
            "\n",
            " [[17 53 99 54 15 71 83]\n",
            " [ 5 89 99  2 40 13  4]\n",
            " [46  0 99 86 48 99 29]]\n"
          ]
        }
      ]
    },
    {
      "cell_type": "markdown",
      "source": [
        "### **Génération de nombres aléatoires**"
      ],
      "metadata": {
        "id": "-YkKB7Sfe1Pl"
      }
    },
    {
      "cell_type": "code",
      "source": [
        "# Nombre aléatoires entre 0 et 1, selon une distribution uniforme. Voir : https://numpy.org/doc/1.16/reference/routines.random.html\n",
        "\n",
        "import time\n",
        "t0 = time.time() # Au passage, on chronométrera l'opération...\n",
        "\n",
        "a = np.random.rand(25000000) # C'est ici qu'on génère l'array 2D rempli de nombres aléatoires uniformément distribués\n",
        "print(f\"La génération de {a.size} nombres aléatoires avec NumPy a pris {round(time.time() - t0, 2)}s\")\n",
        "print(f\"La moyenne de tous ces nombre est de {round(a.mean(),3)}.\")\n",
        "\n",
        "# Pendant qu'on y est, et puisqu'on a parlé de la rapidité relative de NumPy par rapport à Python pur,\n",
        "# comparons la durée de la génération de la même liste en Python pur...\n",
        "import random\n",
        "t0 = time.time()\n",
        "\n",
        "l = []\n",
        "for i in range(25000000):\n",
        "    l.append(random.random())\n",
        "print(f\"La génération de {len(l)} nombres aléatoires en Python pur a pris {round(time.time() - t0, 2)}s\")\n"
      ],
      "metadata": {
        "colab": {
          "base_uri": "https://localhost:8080/"
        },
        "id": "Lrj-YQeYpuT6",
        "outputId": "21209c3c-7561-4b3a-ba63-3c4aae7ea0f1"
      },
      "execution_count": null,
      "outputs": [
        {
          "output_type": "stream",
          "name": "stdout",
          "text": [
            "La génération de 25000000 nombres aléatoires avec NumPy a pris 0.29s\n",
            "La moyenne de tous ces nombre est de 0.5.\n",
            "La génération de 25000000 nombres aléatoires en Python pur a pris 6.49s\n"
          ]
        }
      ]
    },
    {
      "cell_type": "code",
      "source": [
        "# Nombres entiers (bornés) aléatoires\n",
        "np.random.seed(12) # on peut spécifier une \"seed\" pour obtenir toujours les mêmes nombre aléatoires à l'intérieur de la même cellule.\n",
        "np.random.randint(1,7,size=(3,3)) # Randint requiert le nombre minimum (inclus), le nombre maximum (exclus) et la taille/forme de l'array"
      ],
      "metadata": {
        "colab": {
          "base_uri": "https://localhost:8080/"
        },
        "id": "sDQ72b1Vp6cL",
        "outputId": "ea9842f5-44fe-4bca-b23f-4f5e9e47c323"
      },
      "execution_count": null,
      "outputs": [
        {
          "output_type": "execute_result",
          "data": {
            "text/plain": [
              "array([[4, 4, 6],\n",
              "       [2, 3, 4],\n",
              "       [4, 5, 1]])"
            ]
          },
          "metadata": {},
          "execution_count": 29
        }
      ]
    },
    {
      "cell_type": "markdown",
      "source": [
        "### **Un peu de maths...**"
      ],
      "metadata": {
        "id": "CSh7-u42sN0D"
      }
    },
    {
      "cell_type": "code",
      "source": [
        "# Opérations arithmétiques (élément par élément) :\n",
        "a = np.array([1,2,3,4])\n",
        "print(a)\n",
        "\n",
        "print(a + 2)\n",
        "print(a - 2)\n",
        "print(a * 2)\n",
        "print(a / 2)\n",
        "print(a ** 2)"
      ],
      "metadata": {
        "colab": {
          "base_uri": "https://localhost:8080/"
        },
        "id": "9SmyXFoMsVIZ",
        "outputId": "bfc5551d-77ad-4230-839f-cc3da53ffb42"
      },
      "execution_count": null,
      "outputs": [
        {
          "output_type": "stream",
          "name": "stdout",
          "text": [
            "[1 2 3 4]\n",
            "[3 4 5 6]\n",
            "[-1  0  1  2]\n",
            "[2 4 6 8]\n",
            "[0.5 1.  1.5 2. ]\n",
            "[ 1  4  9 16]\n"
          ]
        }
      ]
    },
    {
      "cell_type": "code",
      "source": [
        "# Opération entre arrays de même taille\n",
        "b = np.ones(4)\n",
        "print(a + b) # Additionner deux arrays 1D\n",
        "print()\n",
        "\n",
        "a = np.random.randint(1,7,16).reshape((4,4))\n",
        "b = np.ones(16).reshape((4,4))\n",
        "print(a + b) # Additionner deux arrays 2D"
      ],
      "metadata": {
        "colab": {
          "base_uri": "https://localhost:8080/"
        },
        "id": "kGtacjk5xyX7",
        "outputId": "2c9c98d3-a614-4595-bf93-7e2d6f6f5ae5"
      },
      "execution_count": null,
      "outputs": [
        {
          "output_type": "stream",
          "name": "stdout",
          "text": [
            "[[3. 6. 7. 7.]\n",
            " [3. 4. 5. 4.]\n",
            " [2. 7. 2. 6.]\n",
            " [7. 4. 3. 5.]]\n",
            "\n",
            "[[6. 5. 3. 2.]\n",
            " [4. 4. 2. 6.]\n",
            " [5. 7. 3. 7.]\n",
            " [2. 2. 5. 5.]]\n"
          ]
        }
      ]
    },
    {
      "cell_type": "code",
      "source": [
        "# Trigonométrie...\n",
        "print(np.sin(a))\n",
        "print(np.cos(a))"
      ],
      "metadata": {
        "colab": {
          "base_uri": "https://localhost:8080/"
        },
        "id": "n9VmeqA-yetl",
        "outputId": "370a8e40-9c0c-427f-f734-77e360694c29"
      },
      "execution_count": null,
      "outputs": [
        {
          "output_type": "stream",
          "name": "stdout",
          "text": [
            "[[-0.95892427 -0.7568025   0.90929743  0.84147098]\n",
            " [ 0.14112001  0.14112001  0.84147098 -0.95892427]\n",
            " [-0.7568025  -0.2794155   0.90929743 -0.2794155 ]\n",
            " [ 0.84147098  0.84147098 -0.7568025  -0.7568025 ]]\n",
            "[[ 0.28366219 -0.65364362 -0.41614684  0.54030231]\n",
            " [-0.9899925  -0.9899925   0.54030231  0.28366219]\n",
            " [-0.65364362  0.96017029 -0.41614684  0.96017029]\n",
            " [ 0.54030231  0.54030231 -0.65364362 -0.65364362]]\n"
          ]
        }
      ]
    },
    {
      "cell_type": "code",
      "source": [
        "# Algèbre linéaire\n",
        "a = np.ones((2,3))\n",
        "print(a)\n",
        "b = np.full((3,2), 4) # Crée un array de 3 x 2 rempli avec des 4\n",
        "print(b)\n",
        "\n",
        "# Produit de matrices (les matrices doivent être compatibles, c.a.d que le nombre de colonnes de l'une doit être égal au nombre de lignes de l'autre)\n",
        "print(\"Produit de matrices :\", np.matmul(a, b))\n",
        "\n",
        "# Inversion\n",
        "a = np.random.rand(3,3) # Matrice carrée\n",
        "print(\"Inversion de matrice\", np.linalg.inv(a))\n",
        "\n",
        "# Valeurs propres (eigenvalues) et vecteurs propres (eighenvector) d'une matrice\n",
        "print(\"Valeurs propres et vecteur propre :\",np.linalg.eigh(a))"
      ],
      "metadata": {
        "colab": {
          "base_uri": "https://localhost:8080/"
        },
        "id": "p6sJwPPKz-bU",
        "outputId": "d74ccc79-c91a-4dc1-aa76-b5e0b3f595b2"
      },
      "execution_count": null,
      "outputs": [
        {
          "output_type": "stream",
          "name": "stdout",
          "text": [
            "[[1. 1. 1.]\n",
            " [1. 1. 1.]]\n",
            "[[4 4]\n",
            " [4 4]\n",
            " [4 4]]\n",
            "Produit de matrices : [[12. 12.]\n",
            " [12. 12.]]\n",
            "Inversion de matrice [[-1.33292498  2.54888381 -0.71878312]\n",
            " [ 3.91873995 -2.2212403  -0.65196356]\n",
            " [-5.42233784  2.11265152  3.00712618]]\n",
            "Valeurs propres et vecteur propre : EighResult(eigenvalues=array([-0.42960636,  0.20536334,  2.02267726]), eigenvectors=array([[ 0.3901202 , -0.80519149, -0.44662389],\n",
            "       [-0.7334535 ,  0.02148708, -0.67939994],\n",
            "       [ 0.55664369,  0.59262549, -0.58218797]]))\n"
          ]
        }
      ]
    },
    {
      "cell_type": "markdown",
      "source": [
        "### **Statistiques descriptives**"
      ],
      "metadata": {
        "id": "gmxTlBqgACIV"
      }
    },
    {
      "cell_type": "code",
      "source": [
        "# min/max sur une array 1D\n",
        "a = np.random.randint(1, 7, 50) # produire un array de 50 entiers aléatoire (uniformément distribués) entre 1 (inclusivement) et 7 (exclusivement). On fait un simulateur de lancé de dés, en somme :\n",
        "\n",
        "print(a)\n",
        "print(f\"La valeur minimum est de {np.min(a)}.\")\n",
        "print(f\"La valeur maximum est de {np.max(a)}.\")\n",
        "print(f\"La moyenne est de {np.mean(a)}.\")\n",
        "print(f\"La médiane est de {np.median(a)}.\")"
      ],
      "metadata": {
        "colab": {
          "base_uri": "https://localhost:8080/"
        },
        "id": "U4Oo1c-4_n17",
        "outputId": "9dee1ed0-6df1-48d1-80be-259bc5f84a43"
      },
      "execution_count": null,
      "outputs": [
        {
          "output_type": "stream",
          "name": "stdout",
          "text": [
            "[5 6 4 6 4 5 1 3 6 4 3 5 3 3 4 5 4 2 5 4 6 2 5 6 2 6 4 6 4 1 4 3 2 6 5 3 4\n",
            " 4 3 5 6 3 1 1 6 5 1 4 6 2]\n",
            "La valeur minimum est de 1.\n",
            "La valeur maximum est de 6.\n",
            "La moyenne est de 3.96.\n",
            "La médiane est de 4.0.\n"
          ]
        }
      ]
    },
    {
      "cell_type": "code",
      "source": [
        "# Sur un array 2D :\n",
        "np.random.seed(1)\n",
        "a = np.random.randint(1, 7, 60).reshape(10, 6) # Ce \"reshape\" transforme l'array de 1D à 2D\n",
        "a[2,4] = 10 # on modifie la matrice en remplaçant une des valeurs par 10\n",
        "\n",
        "print(a)\n",
        "print(\"Min. sur l'ensemble des valeurs :\", np.min(a)) # min sur l'ensemble des valeurs\n",
        "print(\"Max. sur l'ensemble des valeurs :\", np.max(a)) # max sur l'ensemble des valeurs\n",
        "\n",
        "# Les axes NumPy : https://www.sharpsightlabs.com/blog/numpy-axes-explained/\n",
        "print(\"\\nMin. colonne par colonne :\", np.min(a, axis = 0)) # min des colonnes\n",
        "print(\"Max. colonne par colonne :\", np.max(a, axis = 0)) # max des colonnes\n",
        "print(\"\\nMin. ligne par ligne :\", np.min(a, axis = 1)) # min des lignes\n",
        "print(\"Max. ligne par ligne :\", np.max(a, axis = 1)) # max des lignes\n",
        "\n",
        "# Moyenne selon les axes\n",
        "print(\"\\nMoyenne sur l'ensemble de l'array 2D :\", np.mean(a)) # moyenne sur l'ensemble des valeurs\n",
        "print(\"Moyenne colonne par colonne :\", np.mean(a, axis = 0)) # moyenne des colonnes\n",
        "print(\"Moyenne ligne par ligne :\", np.mean(a, axis = 1)) # moyenne des lignes\n"
      ],
      "metadata": {
        "colab": {
          "base_uri": "https://localhost:8080/"
        },
        "id": "1Ngnx3jYAMUv",
        "outputId": "878c4b9d-8522-4a43-91b0-133f4722162d"
      },
      "execution_count": null,
      "outputs": [
        {
          "output_type": "stream",
          "name": "stdout",
          "text": [
            "[[ 6  4  5  1  2  4]\n",
            " [ 6  1  1  2  5  6]\n",
            " [ 5  2  3  5 10  3]\n",
            " [ 5  4  5  3  5  6]\n",
            " [ 3  5  2  2  1  6]\n",
            " [ 2  2  6  2  2  1]\n",
            " [ 5  2  1  1  6  4]\n",
            " [ 3  2  1  4  6  2]\n",
            " [ 2  4  5  1  2  4]\n",
            " [ 5  3  5  1  6  4]]\n",
            "Min. sur l'ensemble des valeurs : 1\n",
            "Max. sur l'ensemble des valeurs : 10\n",
            "\n",
            "Min. colonne par colonne : [2 1 1 1 1 1]\n",
            "Max. colonne par colonne : [ 6  5  6  5 10  6]\n",
            "\n",
            "Min. ligne par ligne : [1 1 2 3 1 1 1 1 1 1]\n",
            "Max. ligne par ligne : [ 6  6 10  6  6  6  6  6  5  6]\n",
            "\n",
            "Moyenne sur l'ensemble de l'array 2D : 3.533333333333333\n",
            "Moyenne colonne par colonne : [4.2 2.9 3.4 2.2 4.5 4. ]\n",
            "Moyenne ligne par ligne : [3.66666667 3.5        4.66666667 4.66666667 3.16666667 2.5\n",
            " 3.16666667 3.         3.         4.        ]\n"
          ]
        }
      ]
    },
    {
      "cell_type": "code",
      "source": [
        "# Centiles\n",
        "a = np.random.randn(100).reshape(10, 10)\n",
        "#print(a)\n",
        "np.percentile(a, 50) # 50e percentile est équivalent à la médiane"
      ],
      "metadata": {
        "colab": {
          "base_uri": "https://localhost:8080/"
        },
        "id": "fSmfKP8BAnOM",
        "outputId": "f9338360-8a82-4c52-f77e-a367bc778d18"
      },
      "execution_count": null,
      "outputs": [
        {
          "output_type": "execute_result",
          "data": {
            "text/plain": [
              "0.1824989972275086"
            ]
          },
          "metadata": {},
          "execution_count": 38
        }
      ]
    },
    {
      "cell_type": "markdown",
      "source": [
        "\n",
        "NumPy, bien qu'excellent pour le maniement de matrices et les calculs associés (algèbre linéaire...), n'est pas très adapté à la manipulation de tableaux contenant des types de valeurs divers (cf. Pandas.)."
      ],
      "metadata": {
        "id": "hZFF4MYNKz3N"
      }
    }
  ]
}