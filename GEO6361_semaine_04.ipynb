{
  "nbformat": 4,
  "nbformat_minor": 0,
  "metadata": {
    "colab": {
      "provenance": [],
      "include_colab_link": true
    },
    "kernelspec": {
      "name": "python3",
      "display_name": "Python 3"
    },
    "language_info": {
      "name": "python"
    }
  },
  "cells": [
    {
      "cell_type": "markdown",
      "metadata": {
        "id": "view-in-github",
        "colab_type": "text"
      },
      "source": [
        "<a href=\"https://colab.research.google.com/github/Bastien-Boucherat/GEO6361/blob/main/GEO6361_semaine_04.ipynb\" target=\"_parent\"><img src=\"https://colab.research.google.com/assets/colab-badge.svg\" alt=\"Open In Colab\"/></a>"
      ]
    },
    {
      "cell_type": "code",
      "source": [
        "inscrits = [\n",
        "        [\"Alex\", \"GÉO6361\",  \"Montréal\", 65],\n",
        "        [\"Val\", \"GÉO6361\",  \"Laval\", 85],\n",
        "        [\"Toni\", \"GÉO6361\",  \"Montréal\", 90],\n",
        "        [\"Dom\", \"GÉO6361\",  \"Longueil\", 75]\n",
        "    ]"
      ],
      "metadata": {
        "id": "bjWYK2cUxCGS"
      },
      "execution_count": null,
      "outputs": []
    },
    {
      "cell_type": "code",
      "execution_count": null,
      "metadata": {
        "id": "vDn5svtTc3Sq"
      },
      "outputs": [],
      "source": [
        "# Ex1 : Itération à travers les données des étudiants et concaténation des informations\n",
        "print(\"* Exercice 1\")\n",
        "for i in inscrits:\n",
        "        # Afficher: Cette personne prend le cours 6361 et habite dans cette ville\n",
        "\n",
        "print()\n"
      ]
    },
    {
      "cell_type": "code",
      "source": [
        "# Ex2 : Calculer la moyenne de la classe\n",
        "print(\"* Exercice 2\")\n",
        "\n",
        "# J'initialise une variable \"somme\" de valeur 0\n",
        "somme = 0\n",
        "\n",
        "# Itération à travers les données des étudiant.e.s\n",
        "for i in inscrits:\n",
        "    # J'incrémente la valeur de la somme à chaque nouvelle ligne du tableau\n",
        "    somme += i[3]\n",
        "\n",
        "# Je calcule et j'imprime la moyenne dans la console\n"
      ],
      "metadata": {
        "id": "JZK5Q8P8xFup"
      },
      "execution_count": null,
      "outputs": []
    },
    {
      "cell_type": "code",
      "source": [
        "# Ex3 : Quelle est la note la plus élevée, et la plus faible ?\n",
        "print(\"* Exercice 3\")\n",
        "\n",
        "# J'initialise une liste vierge\n",
        "notes_seules = []\n",
        "\n",
        "# Itération à travers les données des étudiant.e.s\n",
        "for i in inscrits:\n",
        "    # J'ajoute la note, et seulement la note, à la liste \"notes_seules\"\n",
        "\n",
        "\n",
        "# Extraction de la note la plus élevée avec la fonction max()\n",
        "\n",
        "\n",
        "# Extraction de la note la plus faible avec la fonction min()\n",
        "\n",
        "print()"
      ],
      "metadata": {
        "id": "WA9ZSA-CxI0F"
      },
      "execution_count": null,
      "outputs": []
    },
    {
      "cell_type": "code",
      "source": [
        "# Ex4 : Qui a la note la plus élevée, et la plus faible ?\n",
        "print(\"* Exercice 4\")\n",
        "\n",
        "# Extraction de la note la plus basse avec \"lambda\" qui permet, dans ce cas précis, de trier une liste à deux dimensions selon la valeur de la 4e colonne\n",
        "\n",
        "# Extraction de la note la plus élevée avec \"lambda\" qui permet, dans ce cas précis, de trier une liste à deux dimensions selon la valeur de la 4e colonne\n",
        "\n",
        "print()"
      ],
      "metadata": {
        "id": "J9tFgAUCxLoa"
      },
      "execution_count": null,
      "outputs": []
    },
    {
      "cell_type": "code",
      "source": [
        "# Ex5 : Et seulement à Montréal ?\n",
        "print(\"* Exercice 5\")"
      ],
      "metadata": {
        "colab": {
          "base_uri": "https://localhost:8080/"
        },
        "id": "GljA8KlxxOj2",
        "outputId": "50ce16ea-b831-4379-a34a-cbb84ec62763"
      },
      "execution_count": 1,
      "outputs": [
        {
          "output_type": "stream",
          "name": "stdout",
          "text": [
            "* Exercice 5\n"
          ]
        }
      ]
    },
    {
      "cell_type": "code",
      "source": [
        "# Ex6 : Créons une fonction pour répondre à la question 5\n",
        "print(\"* Exercice 6\")"
      ],
      "metadata": {
        "id": "Lr1G1VYOxP8V"
      },
      "execution_count": null,
      "outputs": []
    },
    {
      "cell_type": "code",
      "source": [
        "# Ex7 : Optimisation de code\n",
        "print(\"* Exercice 7\")"
      ],
      "metadata": {
        "id": "0N6p5jJjxYSa"
      },
      "execution_count": null,
      "outputs": []
    }
  ]
}