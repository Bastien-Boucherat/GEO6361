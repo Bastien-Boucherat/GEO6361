{
  "nbformat": 4,
  "nbformat_minor": 0,
  "metadata": {
    "colab": {
      "private_outputs": true,
      "provenance": [],
      "collapsed_sections": [
        "gcjNLCLTI7qU"
      ]
    },
    "kernelspec": {
      "name": "python3",
      "display_name": "Python 3"
    },
    "language_info": {
      "name": "python"
    }
  },
  "cells": [
    {
      "cell_type": "markdown",
      "source": [
        "**GEO6361, semaine 11** : Utilisation d'API\n",
        "\n",
        "Voyons comment se connecter à des bases de données distantes en utilisant des APIs."
      ],
      "metadata": {
        "id": "OVCcj9ModLN1"
      }
    },
    {
      "cell_type": "code",
      "source": [
        "%%capture\n",
        "!pip install mapclassify"
      ],
      "metadata": {
        "id": "XebO8DNEdHCM"
      },
      "execution_count": null,
      "outputs": []
    },
    {
      "cell_type": "markdown",
      "source": [
        "## **1. Automatiser l'extraction de données par API**"
      ],
      "metadata": {
        "id": "gqRQ3rR1dXeV"
      }
    },
    {
      "cell_type": "markdown",
      "source": [
        "### **1.1 Importons les modules requis pour cette section**"
      ],
      "metadata": {
        "id": "OZQdcr91de6I"
      }
    },
    {
      "cell_type": "code",
      "execution_count": null,
      "metadata": {
        "id": "n4S5WsDtFpLS"
      },
      "outputs": [],
      "source": [
        "import pandas as pd # On importe pandas, on lui attribut l'alias pd\n",
        "import geopandas as gpd # On import GeoPandas et on lui attribut l'alias gpd\n",
        "import matplotlib.pyplot as plt # On importe Matplotlib pour afficher figures et cartes\n",
        "import seaborn as sns # On importe SeaBorn qui ajoute des fonctionnalités à Matplotlib\n",
        "import mapclassify"
      ]
    },
    {
      "cell_type": "markdown",
      "source": [
        "### **1.2 API de l'USGS**"
      ],
      "metadata": {
        "id": "gcjNLCLTI7qU"
      }
    },
    {
      "cell_type": "markdown",
      "source": [
        "L'institut d'études géologiques des États-Unis (USGS) propose des flux de données issus d'un réseau international de sismographes.\n",
        "\n",
        "L'API est disponible à cette adresse : https://earthquake.usgs.gov/earthquakes/feed/. Les données peuvent être récupérées sous différents formats (csv, geojson, kml, etc.).\n",
        "\n",
        "Connectons-nous à cette API pour récupérer un CSV et effectuer des analyses simples. Commençons par récupérer le fichier contenant tous les événements sismiques des 30 derniers jours (all_month.csv sur la page https://earthquake.usgs.gov/earthquakes/feed/v1.0/csv.php)"
      ],
      "metadata": {
        "id": "EQrlH3yjJCOY"
      }
    },
    {
      "cell_type": "code",
      "source": [
        "# Charger le contenu dans une DataFrame Pandas\n",
        "df = pd.read_csv('https://earthquake.usgs.gov/earthquakes/feed/v1.0/summary/all_month.csv')"
      ],
      "metadata": {
        "id": "Wllf9R5KKAUY"
      },
      "execution_count": null,
      "outputs": []
    },
    {
      "cell_type": "code",
      "source": [
        "# Nombre d'enregistrements récupérés grâce à l'API\n"
      ],
      "metadata": {
        "id": "Jl2XSiSfPVcZ"
      },
      "execution_count": null,
      "outputs": []
    },
    {
      "cell_type": "code",
      "source": [
        "# Afficher la liste des colonnes\n",
        " # explication des colonnes : https://earthquake.usgs.gov/data/comcat/"
      ],
      "metadata": {
        "id": "vSMoMN2eluL7"
      },
      "execution_count": null,
      "outputs": []
    },
    {
      "cell_type": "code",
      "source": [
        "# On convertit le type des données pour refléter leur contenu\n",
        "df['time'] = pd.to_datetime(df['time']) # Pour interpréter le contenu de la colonne time comme des dates"
      ],
      "metadata": {
        "id": "Luvo2nKsQoaL"
      },
      "execution_count": null,
      "outputs": []
    },
    {
      "cell_type": "code",
      "source": [
        "print(f\"La date de l'évènement le plus ancien dans les données : {df['time'].min().day}/{df['time'].min().month}/{df['time'].min().year}\")\n",
        "print(f\"La date de l'évènement le plus récent dans les données : {df['time'].max().day}/{df['time'].max().month}/{df['time'].max().year}\")"
      ],
      "metadata": {
        "id": "MN34iREmQ7Nz"
      },
      "execution_count": null,
      "outputs": []
    },
    {
      "cell_type": "markdown",
      "source": [
        "Nous voyons que les données ont une colonne \"type\", quels sont ces types ?"
      ],
      "metadata": {
        "id": "z2dH7dmBWMmO"
      }
    },
    {
      "cell_type": "code",
      "source": [
        "# Quels sont les différents types de séismes enregistrés ?\n",
        "df['type'].unique()"
      ],
      "metadata": {
        "id": "m6YmI4jAmSlA"
      },
      "execution_count": null,
      "outputs": []
    },
    {
      "cell_type": "markdown",
      "source": [
        "Visualisons la distribution de la magnitude pour chacun de ces types :"
      ],
      "metadata": {
        "id": "yaGejkg1WTpH"
      }
    },
    {
      "cell_type": "code",
      "source": [
        "sns.set_style(\"whitegrid\")\n",
        "fig = sns.displot(df, # Voir la doc : https://seaborn.pydata.org/generated/seaborn.displot.html\n",
        "                  x=\"mag\", # la colonne à visualiser\n",
        "                  hue=\"type\", # la catégorie à partir de laquelle nous voulons séparer l'histogramme: ici type\n",
        "                  height=5, # la hauteur de la figure\n",
        "                  aspect=1.5, # le rapport hauteur/largeur\n",
        "                  fill=True, # remplir l'histogramme d'une couleur (avec transparence)\n",
        "                  kind=\"hist\", # type de représentation (on peut aussi passer \"kde\" pour calculer la densité)\n",
        "                  binwidth=.1, # largeur des classes\n",
        "                # common_norm=False # Utile pour la visualisation par densité\n",
        "                  )\n",
        "fig.set(xlim=(0, 8)) # limites de l'axe des abscisses, pour limiter l'emprise des données\n",
        "fig.set(title='Distribution des évènements sismiques', xlabel='Magnitude', ylabel='Fréquence') # Pour modifier les titres et les noms des axes\n",
        "fig._legend.set_title(\"Type d'évènement\") # Titre de la légende"
      ],
      "metadata": {
        "id": "NbEjTPpgx54k"
      },
      "execution_count": null,
      "outputs": []
    },
    {
      "cell_type": "markdown",
      "source": [
        "Les données ont une dimension spatiale (les coordonnées géographiques dans les colonnes \"longitude\" et \"latitude\"), créons une GeoDataFrame à partir de la DataFrame :"
      ],
      "metadata": {
        "id": "mAbjt1ZSWZgd"
      }
    },
    {
      "cell_type": "code",
      "source": [
        "# On convertit la DataFrame en GeoDataFrame\n",
        "gdf = #### (\n",
        "    df,\n",
        "    geometry=gpd.points_from_xy(df.longitude, df.latitude) # df.longitude est équivalent à df['latitude']\n",
        ")\n",
        "\n",
        "# On renseigne son système de coordonnées\n",
        "gdf.crs = 'EPSG:4326'"
      ],
      "metadata": {
        "id": "YrRLk8mELMJ3"
      },
      "execution_count": null,
      "outputs": []
    },
    {
      "cell_type": "markdown",
      "source": [
        "Visualisons les données spatiales :"
      ],
      "metadata": {
        "id": "h3GM1JodWs51"
      }
    },
    {
      "cell_type": "code",
      "source": [
        "# Un rapide coup d'oeil aux données avec la méthode plot()\n"
      ],
      "metadata": {
        "id": "Nt0gG_5_rrff"
      },
      "execution_count": null,
      "outputs": []
    },
    {
      "cell_type": "code",
      "source": [
        "# On charge les données d'un fond de carte venant de https://www.naturalearthdata.com\n",
        "fond = gpd.read_file('/content/fond_natural_earth.geojson')"
      ],
      "metadata": {
        "id": "K45wlcONK6tH"
      },
      "execution_count": null,
      "outputs": []
    },
    {
      "cell_type": "code",
      "source": [
        "# On crée un cadre pour la carte\n",
        "fig, ax = plt.subplots(figsize=(15,15))\n",
        "\n",
        "# On affiche le fond de carte dans ce cadre\n",
        "fond.plot(ax=ax, alpha=0.4, color='grey')\n",
        "\n",
        "# On affiche les données de la GeoDataFrame par dessus le fond de carte\n",
        "gdf.plot(column='type', markersize=1, cmap='prism', ax=ax, legend=True) # jeu de couleurs disponibles: https://matplotlib.org/stable/users/explain/colors/colormaps.html\n",
        "\n",
        "# On ajoute un titre\n",
        "plt.title('Séismes (30 derniers jours).')\n",
        "\n",
        "# On peut sauvegarder l'image\n",
        "from datetime import datetime\n",
        "date = datetime.today().strftime('%d-%m-%Y')\n",
        "plt.savefig(f'/content/Séismes_30_derniers_jours_{date}.png', bbox_inches='tight', dpi=300)"
      ],
      "metadata": {
        "id": "1M4MvMeQ-UeA"
      },
      "execution_count": null,
      "outputs": []
    },
    {
      "cell_type": "markdown",
      "source": [
        "Utilisons un système de cartographie interactive avec le module \"Folium\" pour afficher une carte de chaleur (heatmap) :"
      ],
      "metadata": {
        "id": "p6HGKNaYUEgx"
      }
    },
    {
      "cell_type": "code",
      "source": [
        "import folium\n",
        "from folium import plugins\n",
        "\n",
        "# On crée une carte dynamique Folium (vide)\n",
        "carte_seismes = folium.Map(location=[0,0], tiles='Cartodb Positron', width=\"100%\", height=\"100%\", zoom_start=2)\n",
        "\n",
        "#print(gdf.geometry.head())\n",
        "#print(gdf.geometry[0])\n",
        "#print(gdf.geometry[0].xy)\n",
        "\n",
        "# On extrait les données sous la forme latitude-longitude depuis la colonne gemetry (format WKT)\n",
        "heat_data = []\n",
        "for point in gdf.geometry:\n",
        "    heat_data.append([point.xy[1][0], point.xy[0][0]])\n",
        "\n",
        "# On ajoute une carte de chaleur (heatmap) à la carte dynamique Folium\n",
        "plugins.HeatMap(heat_data).add_to(carte_seismes) # On doit fournir une liste de données de la forme latitude-longtitude\n",
        "\n",
        "# On affiche la carte\n",
        "carte_seismes"
      ],
      "metadata": {
        "id": "505T2kVx4WZU"
      },
      "execution_count": null,
      "outputs": []
    },
    {
      "cell_type": "markdown",
      "source": [
        "### **1.3 API d'Inaturalist**"
      ],
      "metadata": {
        "id": "0HKE-THqCB4i"
      }
    },
    {
      "cell_type": "markdown",
      "source": [
        "Inaturalist possède une API (https://pyinaturalist.readthedocs.io/en/stable/) permettant de soumettre des observations de manière automatique, ainsi que d'interroger la base de données. Essayons de télécharger des données qui pourront être réutilisées dans des analyses Python."
      ],
      "metadata": {
        "id": "4lgzEgONCOKA"
      }
    },
    {
      "cell_type": "code",
      "source": [
        "# Installer Pyinaturalist\n",
        "%%capture\n",
        "!pip install pyinaturalist"
      ],
      "metadata": {
        "id": "Z-w7oyviDJdr"
      },
      "execution_count": null,
      "outputs": []
    },
    {
      "cell_type": "code",
      "source": [
        "# Importons les fonctions Pyinaturalist dont nous aurons besoin\n",
        "from pyinaturalist import get_observations, get_places_autocomplete"
      ],
      "metadata": {
        "id": "gFeoZsUmC_aS"
      },
      "execution_count": null,
      "outputs": []
    },
    {
      "cell_type": "markdown",
      "source": [
        "Nous pouvons effectuer des recherches par lieux. Les lieux sont codifiés dans la base de données d'Inaturalist. Détectons ici quel est le code pour le Québec\n"
      ],
      "metadata": {
        "id": "RYf3HQkwBE-B"
      }
    },
    {
      "cell_type": "code",
      "source": [
        "# Faisons une requête sur la base de données pour le terme générique \"quebec\"\n",
        "response = get_places_autocomplete(q='quebec')\n",
        "\n",
        "# Affichons le contenu de la réponse\n",
        "for i in response['results']:\n",
        "    print(i['id'], i['name'])"
      ],
      "metadata": {
        "id": "9U0QBoFYEBKM"
      },
      "execution_count": null,
      "outputs": []
    },
    {
      "cell_type": "code",
      "source": [
        "# Interrogeons la base de données d'Inaturalist :\n",
        "response = get_observations(\n",
        "    taxon_name='Cirsium vulgare', # indiquer le taxon\n",
        "    #taxon_name='Ulmus pumila',\n",
        "    #taxon_name='Odocoileus virginianus',\n",
        "    d1='2023', # Date de l'observation la plus ancienne que l'on souhaite récupérer\n",
        "    d2='2024', # Date de l'observation la plus récente\n",
        "    geo=True, # Indiquer que nous souhaitons récupérer les données possédant une dimension spatiale\n",
        "    geoprivacy='open',\n",
        "    place_id=13336, # Identifiant du lieu sur lequel nous souhaitons faire la recherche\n",
        "    page='all' # Récupérer tous les résultats\n",
        ")"
      ],
      "metadata": {
        "id": "8t-USHWmEoeq"
      },
      "execution_count": null,
      "outputs": []
    },
    {
      "cell_type": "code",
      "source": [
        "# Affichons le nombre de résultats contenus dans la réponse à notre requête\n",
        "print(f\"{len(response['results'])} observations ont été récupérées sur le site d'iNaturalist.\")\n",
        "print(f\"{response['total_results']} observations ont été récupérées sur le site d'iNaturalist.\")\n",
        "\n",
        "# Stockons le contenu de la réponse dans une DataFrame\n",
        "df = pd.json_normalize(response['results']) # Voir https://pandas.pydata.org/docs/reference/api/pandas.json_normalize.html"
      ],
      "metadata": {
        "id": "34KGEMSYQQ_r"
      },
      "execution_count": null,
      "outputs": []
    },
    {
      "cell_type": "code",
      "source": [
        "df['location']"
      ],
      "metadata": {
        "id": "kTQBxPdBGnWg"
      },
      "execution_count": null,
      "outputs": []
    },
    {
      "cell_type": "code",
      "source": [
        "# Créons de nouvelles colonnes pour stocker les coordonnées géographiques issues de la requête :\n",
        "df['lat'] = df['location'].apply(lambda x: x[0])\n",
        "df['lng'] = df['location'].apply(lambda x: x[1])"
      ],
      "metadata": {
        "id": "OkCtg_EpGV9z"
      },
      "execution_count": null,
      "outputs": []
    },
    {
      "cell_type": "code",
      "source": [
        "# La dataframe contient beaucoup d'informations, simplifions-là en ne retenant que les informations utiles pour nous :\n",
        "df = df[['observed_on_details.date', 'quality_grade', 'taxon_geoprivacy', 'lat', 'lng']]"
      ],
      "metadata": {
        "id": "K_UIPq00Gwvl"
      },
      "execution_count": null,
      "outputs": []
    },
    {
      "cell_type": "code",
      "source": [
        "# Comme les données sont géoréférencées, nous pouvons transformer la DatFrame en GeoDataFrame :\n",
        "gdf = ###(df, geometry=gpd.points_from_xy(df['lng'], df['lat']))"
      ],
      "metadata": {
        "id": "fYeWabEmG99w"
      },
      "execution_count": null,
      "outputs": []
    },
    {
      "cell_type": "code",
      "source": [
        "# Affichons les données et faisons ressortir leur niveau de qualité\n",
        "gdf.plot(\n",
        "    column='quality_grade',\n",
        "    legend=True,\n",
        "    figsize=(20,20))"
      ],
      "metadata": {
        "id": "S2J8Pl-hHH0z"
      },
      "execution_count": null,
      "outputs": []
    },
    {
      "cell_type": "code",
      "source": [
        "# On crée une carte dynamique Folium (vide) centrée sur\n",
        "carte_inaturalist = folium.Map(location=[51.265736539784356, -72.8824016746752], tiles='Cartodb Positron', width=\"90%\", height=\"90%\", zoom_start=5)\n",
        "\n",
        "# On extrait les données sous la forme latitude-longitude depuis la colonne gemetry (format WKT)\n",
        "heat_data = []\n",
        "for point in gdf.geometry:\n",
        "    heat_data.append([point.xy[1][0], point.xy[0][0]])\n",
        "\n",
        "# On ajoute une carte de chaleur (heatmap) à la carte dynamique Folium\n",
        "plugins.HeatMap(heat_data).add_to(carte_inaturalist)\n",
        "\n",
        "# On affiche la carte\n",
        "carte_inaturalist"
      ],
      "metadata": {
        "id": "pDpgLdeqHs5Y"
      },
      "execution_count": null,
      "outputs": []
    },
    {
      "cell_type": "markdown",
      "source": [
        "## **2. Un peu d'analyse des réseaux**"
      ],
      "metadata": {
        "id": "wQzaGfBUbdoI"
      }
    },
    {
      "cell_type": "markdown",
      "source": [
        "### **2.1 API d'Open Street Map**"
      ],
      "metadata": {
        "id": "WoF8VW-v_QSR"
      }
    },
    {
      "cell_type": "markdown",
      "source": [
        "Utilisons ici **OSMNX** (https://github.com/gboeing/osmnx), un module conçu pour extraire de nombreuses informations d'Open Street Map sous forme :\n",
        "* de réseaux (voirie, réseaux techniques)\n",
        "* de polygones (ex : emprise du bâti)\n",
        "* ou bien des méta-données sur ces objets (restaurant, résidentiel, etc.).\n",
        "\n",
        "Voyons ici un court exemple d'**analyse de réseau de voirie**..."
      ],
      "metadata": {
        "id": "5wbwv3tFxonk"
      }
    },
    {
      "cell_type": "markdown",
      "source": [
        "Pour commencer, installons OSMNX :"
      ],
      "metadata": {
        "id": "56J9DPuR526k"
      }
    },
    {
      "cell_type": "code",
      "source": [
        "%%capture\n",
        "!pip install osmnx"
      ],
      "metadata": {
        "id": "rQhNTGlvKH9t"
      },
      "execution_count": null,
      "outputs": []
    },
    {
      "cell_type": "code",
      "source": [
        "# Importons les modules utiles à notre démonstration\n",
        "import osmnx as ox\n",
        "ox.settings.log_console=True\n",
        "ox.settings.use_cache=True\n",
        "\n",
        "# Pour l'analyse de réseaux\n",
        "import networkx as nx\n",
        "\n",
        "# Classiques\n",
        "import numpy as np\n",
        "import matplotlib.cm as cm\n",
        "import matplotlib.colors as colors"
      ],
      "metadata": {
        "id": "yCQMTAtqYHVS"
      },
      "execution_count": null,
      "outputs": []
    },
    {
      "cell_type": "markdown",
      "source": [
        "Nous pouvons maintenant importer les données d'un réseau routier d'intérêt :"
      ],
      "metadata": {
        "id": "OMHbWaQm3ocR"
      }
    },
    {
      "cell_type": "code",
      "source": [
        "# À partir d'un nom de lieu\n",
        "#ville = \"Montréal, Quebec\"\n",
        "#reseau = ox.graph_from_place(ville, network_type='drive', simplify=True)\n",
        "\n",
        "# À partir d'un point géographique\n",
        "lieu = 45.5230, -73.6195 # Ici, campus MIL\n",
        "dist = 1500 # distance autour du point (buffer) en mètres\n",
        "reseau = ox.graph_from_point(lieu, dist=dist, network_type='drive', simplify=True)\n",
        "\n",
        "print(f\"Le réseau de voirie de cette zone compte {len(reseau.nodes)} intersections et {len(reseau.edges)} segments.\")"
      ],
      "metadata": {
        "id": "yEKst2xNcZG2"
      },
      "execution_count": null,
      "outputs": []
    },
    {
      "cell_type": "markdown",
      "source": [
        "Et l'afficher de manière à représenter les nœuds du réseau et les liens entre eux :"
      ],
      "metadata": {
        "id": "rOrLNKIy3wv9"
      }
    },
    {
      "cell_type": "code",
      "source": [
        "# Visualisons rapidement le réseau obtenu\n",
        "fig, ax = ox.plot_graph(reseau, node_size=20, bgcolor='w', node_color='w', node_edgecolor='k', node_zorder=1, figsize=(10,10))"
      ],
      "metadata": {
        "id": "AEAFoNZaiGwe"
      },
      "execution_count": null,
      "outputs": []
    },
    {
      "cell_type": "markdown",
      "source": [
        "Créons une carte interactive :"
      ],
      "metadata": {
        "id": "FQt3xxAI35xx"
      }
    },
    {
      "cell_type": "code",
      "source": [
        "# Grâce à la méthode explore() de GeoPandas\n",
        "ox.graph_to_gdfs(reseau, nodes=False).explore()"
      ],
      "metadata": {
        "id": "0vT-ih2oxZWn"
      },
      "execution_count": null,
      "outputs": []
    },
    {
      "cell_type": "markdown",
      "source": [
        "Calculons quelques mesures de centralité (cf. des mesures du niveau auquel les nœuds du réseaux sont \"centraux\", ou contribuent à la connectivité générale du réseau). Plus particulièrement, nous mesurerons la **centralité \"betweeness\"** (la fréquence à laquelle chacun des nœuds se trouve sur le plus court chemin entre chaque paire de nœuds dans le réseau). **D'après Goeff Being (https://github.com/gboeing/osmnx)**. Pour plus d'exemples, voir la page: https://github.com/gboeing/osmnx-examples/tree/main/notebooks"
      ],
      "metadata": {
        "id": "A5X0Jmmg39hX"
      }
    },
    {
      "cell_type": "code",
      "source": [
        "reseau_oriente = nx.DiGraph(reseau)\n",
        "mesure_bet_centrality = nx.betweenness_centrality(reseau_oriente)"
      ],
      "metadata": {
        "id": "sI12T2hokVKO"
      },
      "execution_count": null,
      "outputs": []
    },
    {
      "cell_type": "code",
      "source": [
        "# Créeons une dataframe\n",
        "df = ###(data=pd.Series(mesure_bet_centrality).sort_values(), columns=['centrality'])\n",
        "\n",
        "# Configurons l'affichage\n",
        "df['colors'] = ox.plot.get_colors(n=len(df), cmap='inferno', start=0.2)\n",
        "df = df.reindex(reseau.nodes())\n",
        "\n",
        "node_centrality = df['colors'].tolist()\n",
        "\n",
        "# Affichons le réseau sur une figure\n",
        "fig, ax = ox.plot_graph(reseau, bgcolor='k', node_size=30, node_color=node_centrality, node_edgecolor='none', edge_color='#555555', edge_linewidth=1.5, edge_alpha=1, figsize=(10,10))\n",
        "\n",
        "# fig.savefig(f'/content/MIL_nodes.png', bbox_inches='tight', dpi=300)"
      ],
      "metadata": {
        "id": "qEb-RwvUkXCH"
      },
      "execution_count": null,
      "outputs": []
    },
    {
      "cell_type": "markdown",
      "source": [
        "Représentons cette mesure en inversant les nœuds et les arêtes (représentation plus fréquente pour ce genre de problème...)"
      ],
      "metadata": {
        "id": "FP8e_iDv49EG"
      }
    },
    {
      "cell_type": "code",
      "source": [
        "edge_centrality = nx.betweenness_centrality(nx.line_graph(reseau_oriente))"
      ],
      "metadata": {
        "id": "h-dbHPAarqR2"
      },
      "execution_count": null,
      "outputs": []
    },
    {
      "cell_type": "code",
      "source": [
        "edge_values = []\n",
        "for edge in reseau.edges():\n",
        "    edge_values.append(edge_centrality[edge])\n",
        "\n",
        "cmap = cm.ScalarMappable(norm=colors.Normalize(vmin=min(edge_values)*0.8, vmax=max(edge_values)), cmap=cm.inferno)\n",
        "\n",
        "edge_colors = []\n",
        "for cl in edge_values:\n",
        "    edge_colors.append(cmap.to_rgba(cl))\n",
        "\n",
        "fig, ax = ox.plot_graph(reseau, bgcolor='k', node_size=0, node_color=node_centrality, node_edgecolor='none', edge_color=edge_colors, edge_linewidth=3.5, edge_alpha=1, figsize=(10,10))\n",
        "\n",
        "# fig.savefig(f'/content/MIL_edges.png', bbox_inches='tight', dpi=300)"
      ],
      "metadata": {
        "id": "EKN_PZ2CsONT"
      },
      "execution_count": null,
      "outputs": []
    },
    {
      "cell_type": "markdown",
      "source": [
        "Nous pouvons également **convertir le réseau en GeoDataFrame** :"
      ],
      "metadata": {
        "id": "AKgPltmt6IBR"
      }
    },
    {
      "cell_type": "code",
      "source": [
        "# On récupère dans deux dataframes séparées, respectivement l'ensemble des intersections (nodes) et l'ensemble des rues (edges)\n",
        "intersections, rues = ox.graph_to_gdfs(reseau)"
      ],
      "metadata": {
        "id": "2W3n4zeW4U3Y"
      },
      "execution_count": null,
      "outputs": []
    },
    {
      "cell_type": "markdown",
      "source": [
        "Et visualisiser **toutes sortes de statistiques** :"
      ],
      "metadata": {
        "id": "wMN8536v6R4O"
      }
    },
    {
      "cell_type": "code",
      "source": [
        "# Analysons le type des rues\n",
        "types_rues = pd.DataFrame(rues[\"highway\"].apply(pd.Series)[0].value_counts().reset_index())\n",
        "types_rues.columns = [\"type\", \"nombre\"]"
      ],
      "metadata": {
        "id": "iPjGibJX-X2v"
      },
      "execution_count": null,
      "outputs": []
    },
    {
      "cell_type": "code",
      "source": [
        "fig, ax = plt.subplots(figsize=(12,10))\n",
        "plt.pie(types_rues['nombre'], labels = types_rues['type'], autopct='%.0f%%')\n",
        "plt.show()"
      ],
      "metadata": {
        "id": "bdm0aYSFGSX7"
      },
      "execution_count": null,
      "outputs": []
    },
    {
      "cell_type": "code",
      "source": [
        "# Affichons les rues\n",
        "rues.plot(figsize=(10,10))"
      ],
      "metadata": {
        "id": "9U5gYuqB7T5m"
      },
      "execution_count": null,
      "outputs": []
    },
    {
      "cell_type": "markdown",
      "source": [
        "Maintenant, regardons l'empreinte du bâti."
      ],
      "metadata": {
        "id": "UAXD5uj49anD"
      }
    },
    {
      "cell_type": "code",
      "source": [
        "t = {'building':True}\n",
        "# t = {'amenity':True, 'landuse':['retail','commercial']}"
      ],
      "metadata": {
        "id": "E6QvpX-28jiN"
      },
      "execution_count": null,
      "outputs": []
    },
    {
      "cell_type": "code",
      "source": [
        "# Faisons une requête auprès d'Open Street Map concernant le bâti\n",
        "bati = ox.features_from_point(lieu, tags=t, dist=1500)\n",
        "bati.shape"
      ],
      "metadata": {
        "id": "zSnzYoI5TUd5"
      },
      "execution_count": null,
      "outputs": []
    },
    {
      "cell_type": "code",
      "source": [
        "# Affichons le résultat\n",
        "ox.plot_footprints(bati, color='w', figsize=(10,10))"
      ],
      "metadata": {
        "id": "ati9w3uO-eHL"
      },
      "execution_count": null,
      "outputs": []
    }
  ]
}