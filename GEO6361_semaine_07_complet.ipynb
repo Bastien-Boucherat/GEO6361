{
  "nbformat": 4,
  "nbformat_minor": 0,
  "metadata": {
    "colab": {
      "private_outputs": true,
      "provenance": []
    },
    "kernelspec": {
      "name": "python3",
      "display_name": "Python 3"
    },
    "language_info": {
      "name": "python"
    }
  },
  "cells": [
    {
      "cell_type": "markdown",
      "source": [
        "**GEO6361 (semaine 7) : Application de Pandas + Introduction à GeoPandas**\n",
        "\n",
        "Cette semaine, nous allons utiliser la bibliothèque Pandas sur un jeu de données, et nous allons découvrir l'extension spatiale de Pandas (GeoPandas).\n",
        "\n",
        "Nous verrons comment :\n",
        "1. Manipuler des DataFrames\n",
        "2. Visualiser leur contenu (surtout des distributions)\n",
        "3. Faire des jointures spatiales\n",
        "4. Produire des cartes."
      ],
      "metadata": {
        "id": "zgv_bTOVjMdj"
      }
    },
    {
      "cell_type": "markdown",
      "source": [
        "## **1. Application de Pandas**"
      ],
      "metadata": {
        "id": "wEtHEaXLj8Kk"
      }
    },
    {
      "cell_type": "markdown",
      "source": [
        "### **1.1 Importons Pandas et les bilbiothèques utiles**"
      ],
      "metadata": {
        "id": "w-DQCHLPcbOy"
      }
    },
    {
      "cell_type": "code",
      "execution_count": null,
      "metadata": {
        "id": "L1pCYi4Pa3-E"
      },
      "outputs": [],
      "source": [
        "# Tout d'abord, on importe Pandas car c'est un module externe (mais préinstallé dans Google Colab)\n",
        "import pandas as pd\n",
        "\n",
        "# On importe également NumPy\n",
        "import numpy as np\n",
        "\n",
        "# Et le module maths dont on aura besoin dans les démonstrations\n",
        "import math"
      ]
    },
    {
      "cell_type": "markdown",
      "source": [
        "### **1.2 Lisons notre fichier CSV contenant les données et créons une DataFrame**"
      ],
      "metadata": {
        "id": "3_W6DSIgciZv"
      }
    },
    {
      "cell_type": "code",
      "source": [
        "df = pd.read_csv('/content/data_immo_quebec_2023.csv') # Les données sont aimablement fournies par Thibault Lecorre (UdeM)"
      ],
      "metadata": {
        "id": "v4dCyCkrbTjS"
      },
      "execution_count": null,
      "outputs": []
    },
    {
      "cell_type": "markdown",
      "source": [
        "**À quoi ressemblent les donnnées ?**\n",
        "\n",
        "Affichons les premières lignes (pour se faire une idée)"
      ],
      "metadata": {
        "id": "-UPeDPfKcmx3"
      }
    },
    {
      "cell_type": "code",
      "source": [
        "df.head()"
      ],
      "metadata": {
        "id": "-FTvsQSCbnNd"
      },
      "execution_count": null,
      "outputs": []
    },
    {
      "cell_type": "markdown",
      "source": [
        "**Combien d'enregistrements le jeu de données possède-t-il ?**"
      ],
      "metadata": {
        "id": "wTanddwvTXdg"
      }
    },
    {
      "cell_type": "code",
      "source": [
        "print(f\"Le jeu de données possède {len(df)} lignes.\")"
      ],
      "metadata": {
        "id": "0_QTP94u8hUz"
      },
      "execution_count": null,
      "outputs": []
    },
    {
      "cell_type": "markdown",
      "source": [
        "**On retire tous les enregistrements dont le prix est inférieur à 10,000\\$**"
      ],
      "metadata": {
        "id": "hlj6GTgc7ixZ"
      }
    },
    {
      "cell_type": "code",
      "source": [
        "# Filtrer des données\n",
        "print(len(df))\n",
        "df = df[(df['Prix'] > 10000)]\n",
        "print(len(df))"
      ],
      "metadata": {
        "id": "Ek_gNO976v4W"
      },
      "execution_count": null,
      "outputs": []
    },
    {
      "cell_type": "markdown",
      "source": [
        "### **1.3 Gestion des données manquantes ?**"
      ],
      "metadata": {
        "id": "4D1GtPxZdHCP"
      }
    },
    {
      "cell_type": "code",
      "source": [
        "df.isnull()"
      ],
      "metadata": {
        "id": "TSPMbeTGTxuZ"
      },
      "execution_count": null,
      "outputs": []
    },
    {
      "cell_type": "code",
      "source": [
        "df.isnull().sum()"
      ],
      "metadata": {
        "id": "xqLKVgEpDEg-"
      },
      "execution_count": null,
      "outputs": []
    },
    {
      "cell_type": "markdown",
      "source": [
        "**Certaines variables possédant des valeurs manquantes ne nous sont pas vraiment nécessaires:**"
      ],
      "metadata": {
        "id": "DsUIlDQ_oE3Q"
      }
    },
    {
      "cell_type": "code",
      "source": [
        "df = df.drop(['Num_Street', 'Street', 'BathRoom', 'ID', 'Unnamed: 0'], axis='columns')"
      ],
      "metadata": {
        "id": "ImgtcYYcoEL8"
      },
      "execution_count": null,
      "outputs": []
    },
    {
      "cell_type": "markdown",
      "source": [
        "**On décide (c'est une décision contextuelle) de supprimer les lignes dont certaines données sont manquantes**"
      ],
      "metadata": {
        "id": "xhBoFe31fGaS"
      }
    },
    {
      "cell_type": "code",
      "source": [
        "ndf = df.dropna()\n",
        "print(f\"Le jeu de données possède désormais {len(ndf)} lignes.\")"
      ],
      "metadata": {
        "id": "KcdBy-DFejfH"
      },
      "execution_count": null,
      "outputs": []
    },
    {
      "cell_type": "markdown",
      "source": [
        "**Revérifions la quantité de données nulles**"
      ],
      "metadata": {
        "id": "d5ku2RXLUER0"
      }
    },
    {
      "cell_type": "code",
      "source": [
        "ndf.isnull().sum()"
      ],
      "metadata": {
        "id": "pio8XrV5dMNC"
      },
      "execution_count": null,
      "outputs": []
    },
    {
      "cell_type": "markdown",
      "source": [
        "**Trouver la liste des villes disponibles dans les données** (City)"
      ],
      "metadata": {
        "id": "xbdzzyYl2s2g"
      }
    },
    {
      "cell_type": "code",
      "source": [
        "villes = ndf['City'].unique()\n",
        "print(f\"Le jeu de données contient {len(villes)} villes\")"
      ],
      "metadata": {
        "id": "-bkyPy2PrGXV"
      },
      "execution_count": null,
      "outputs": []
    },
    {
      "cell_type": "markdown",
      "source": [
        "**Et à Montréal ?**"
      ],
      "metadata": {
        "id": "M05Fvu8a0dpE"
      }
    },
    {
      "cell_type": "code",
      "source": [
        "c = 1\n",
        "for city in ndf['City'].unique():\n",
        "    if 'Montréal' in city:\n",
        "        print(c, city)\n",
        "        c += 1\n",
        "print()"
      ],
      "metadata": {
        "id": "gL8vaDC25HMx"
      },
      "execution_count": null,
      "outputs": []
    },
    {
      "cell_type": "code",
      "source": [
        "# On peut aussi faire comme ceci:\n",
        "ndf2 = ndf[ ndf['City'].str.contains('Montréal')]\n",
        "ndf[ ndf['City'].str.contains('Montréal')]['City'].unique()"
      ],
      "metadata": {
        "id": "GPIDmB7PMMdY"
      },
      "execution_count": null,
      "outputs": []
    },
    {
      "cell_type": "markdown",
      "source": [
        "### **1.4 Quelques figures**"
      ],
      "metadata": {
        "id": "tYS2qGcS01h9"
      }
    },
    {
      "cell_type": "markdown",
      "source": [
        "#### **Pandas peut produire des figures d'assez bonne qualité.**\n",
        "\n",
        "Voir : https://pandas.pydata.org/pandas-docs/stable/user_guide/visualization.html"
      ],
      "metadata": {
        "id": "yBjRJW2H1Cdl"
      }
    },
    {
      "cell_type": "markdown",
      "source": [
        "**Histogramme des prix :**"
      ],
      "metadata": {
        "id": "1gO-7zgLfMgY"
      }
    },
    {
      "cell_type": "code",
      "source": [
        "taille_classe = 1e5 # dessiner l'histogramme par tranches de 100,000$\n",
        "nbins = math.ceil((ndf['Prix'].max() - ndf['Prix'].min()) / taille_classe) # calcul du nombre de classes en fonction de leur taille\n",
        "ndf['Prix'].plot.hist(bins=nbins, xlim=(0,2e6))"
      ],
      "metadata": {
        "id": "sMh3f_joesl4"
      },
      "execution_count": null,
      "outputs": []
    },
    {
      "cell_type": "markdown",
      "source": [
        "**Pointes de tarte pour les variables catégorielles :**"
      ],
      "metadata": {
        "id": "ctFdLRALfRMw"
      }
    },
    {
      "cell_type": "markdown",
      "source": [
        "Avec la variable \"Category\" :"
      ],
      "metadata": {
        "id": "TjeFddJXfoSQ"
      }
    },
    {
      "cell_type": "code",
      "source": [
        "ndf['Category'].value_counts()"
      ],
      "metadata": {
        "id": "Wdk5QnIxft4f"
      },
      "execution_count": null,
      "outputs": []
    },
    {
      "cell_type": "code",
      "source": [
        "ndf['Category'].value_counts().plot.pie(figsize=(6, 6));"
      ],
      "metadata": {
        "id": "yT1_khEG2yms"
      },
      "execution_count": null,
      "outputs": []
    },
    {
      "cell_type": "markdown",
      "source": [
        "Avec la variable \"BedRoom\" :"
      ],
      "metadata": {
        "id": "QnbPYQckf1gZ"
      }
    },
    {
      "cell_type": "code",
      "source": [
        "ndf['BedRoom'].value_counts().plot.pie(figsize=(6, 6));"
      ],
      "metadata": {
        "id": "K5eW25mBf0eb"
      },
      "execution_count": null,
      "outputs": []
    },
    {
      "cell_type": "markdown",
      "source": [
        "####**On peut également utiliser un autre module : Seaborn.** Voir : https://seaborn.pydata.org"
      ],
      "metadata": {
        "id": "aMb_GUoQ3puf"
      }
    },
    {
      "cell_type": "code",
      "source": [
        "import seaborn as sns\n",
        "import matplotlib.pyplot as plt"
      ],
      "metadata": {
        "id": "EjIJlHZOgOyK"
      },
      "execution_count": null,
      "outputs": []
    },
    {
      "cell_type": "code",
      "source": [
        "sns.set_style(\"whitegrid\")\n",
        "fig = sns.displot(ndf2, # Voir la documentation : https://seaborn.pydata.org/generated/seaborn.displot.html\n",
        "                  x=\"Prix\", # la colonne à visualiser\n",
        "                  hue=\"Category\", # la catégorie à partir de laquelle nous voulons séparer l'histogramme\n",
        "                  height=5, # la hauteur de la figure\n",
        "                  aspect=1.5, # le rapport hauteur/largeur\n",
        "                  fill=True, # remplir l'histogramme d'une couleur (avec transparence)\n",
        "                  kind=\"hist\", # type de représentation (on peut aussi passer \"kde\" pour calculer la densité)\n",
        "                  binwidth=50000) # largeur des classes\n",
        "fig.set(xlim=(0, 2e6)) # pour limiter l'emprise des données\n",
        "fig.set(title='Distribution des prix des biens immobiliers', xlabel='Prix', ylabel='Fréquence') # Pour modifier les titres et noms des axes\n",
        "fig._legend.set_title('Type de bien') # Titre de la légende\n",
        "fig.savefig(\"/content/figure_1_histogramme.png\", dpi=500) # Pour exporter la figure"
      ],
      "metadata": {
        "id": "FxSld3qkvfD5"
      },
      "execution_count": null,
      "outputs": []
    },
    {
      "cell_type": "code",
      "source": [
        "sns.set_style(\"whitegrid\")\n",
        "fig = sns.displot(ndf,\n",
        "                  x=\"Prix\",\n",
        "                  hue=\"Category\",\n",
        "                  height=5,\n",
        "                  aspect=1.5,\n",
        "                  fill=False,\n",
        "                  kind=\"kde\",\n",
        "                  common_norm=False,)\n",
        "fig.set(xlim=(0, 2e6)) # pour limiter l'emprise des données\n",
        "fig.set(title='Distribution des prix des biens immobiliers par type', xlabel='Prix', ylabel='Densité') # Pour modifier les titres et noms des axes\n",
        "fig._legend.set_title('Type de bien') # Titre de la légende\n",
        "fig.savefig(\"/content/figure_1_densité.png\", dpi=500) # Pour exporter la figure"
      ],
      "metadata": {
        "id": "jZCCDgUXhhq6"
      },
      "execution_count": null,
      "outputs": []
    },
    {
      "cell_type": "markdown",
      "source": [
        "**Afficher des statistiques descriptives par quartier :**"
      ],
      "metadata": {
        "id": "-3YW5GeS6AeC"
      }
    },
    {
      "cell_type": "code",
      "source": [
        "ndf2.groupby('City')['Prix'].describe().transpose()"
      ],
      "metadata": {
        "id": "utw0gDwO3uz1"
      },
      "execution_count": null,
      "outputs": []
    },
    {
      "cell_type": "code",
      "source": [
        "sns.set_style(\"whitegrid\")\n",
        "fig = sns.displot(ndf2,\n",
        "                  x=\"Prix\",\n",
        "                  hue=\"Category\",\n",
        "                  common_norm=False,\n",
        "                  height=5,\n",
        "                  aspect=2,\n",
        "                  fill=True,\n",
        "                  linewidth = 1,\n",
        "                  kind=\"kde\")\n",
        "fig.set(xlim=(0, 2e6)) # pour limiter l'emprise des données\n",
        "fig.set(title=\"Distribution des prix des biens immobiliers sur l'île de Montréal\", xlabel='Prix', ylabel='Densité') # Pour modifier les titres et noms des axes\n",
        "fig._legend.set_title('Arrondissement') # Titre de la légende\n",
        "fig.savefig(\"/content/figure_2_densité.png\", dpi=500) # Pour exporter la figure"
      ],
      "metadata": {
        "id": "kcfMazzb8YBm"
      },
      "execution_count": null,
      "outputs": []
    },
    {
      "cell_type": "code",
      "source": [
        "# Produisons un graphique de corrélations sur un sous-tableau :\n",
        "ndf_pairs = ndf2[['Category', 'Prix', 'BedRoom']]"
      ],
      "metadata": {
        "id": "NWK_O5oaAW_L"
      },
      "execution_count": null,
      "outputs": []
    },
    {
      "cell_type": "code",
      "source": [
        "ndf_pairs.head()"
      ],
      "metadata": {
        "id": "vpGZjaC_CkWZ"
      },
      "execution_count": null,
      "outputs": []
    },
    {
      "cell_type": "code",
      "source": [
        "# Explorer des relations :\n",
        "sns.pairplot(ndf_pairs, hue=\"Category\", height=4, aspect=1)"
      ],
      "metadata": {
        "id": "6g3eQBF6_C2B"
      },
      "execution_count": null,
      "outputs": []
    },
    {
      "cell_type": "markdown",
      "source": [
        "## **2. GeoPandas (Pandas spatial)**"
      ],
      "metadata": {
        "id": "A8VA6QJbJSBQ"
      }
    },
    {
      "cell_type": "markdown",
      "source": [
        "**Attention** : avant d'utiliser GeoPandas, nous devons installer des bibliothèques externes. Pour cela, décommentez les lignes de la cellule suivante et exécutez-la (ça peut prendre du temps !). Recommentez ensuite ces lignes pour ne pas les ré-exécuter par inadvertance."
      ],
      "metadata": {
        "id": "fwfyMLP0JVE7"
      }
    },
    {
      "cell_type": "markdown",
      "source": [
        "### **2.1 Installons les modules requis pour cette section, et importons-les**"
      ],
      "metadata": {
        "id": "KMQqHopTGaSw"
      }
    },
    {
      "cell_type": "code",
      "source": [
        "# %%capture fait en sorte que les multiples sorties de la cellule ne soient pas affichées dans la console\n",
        "%%capture\n",
        "\n",
        "#!pip install geopandas\n",
        "!pip install mapclassify\n",
        "!pip install contextily"
      ],
      "metadata": {
        "id": "aoQjqx61JQkr"
      },
      "execution_count": null,
      "outputs": []
    },
    {
      "cell_type": "code",
      "source": [
        "# On importe GeoPandas et on lui attribue l'alias gpd\n",
        "import geopandas as gpd"
      ],
      "metadata": {
        "id": "zIIsqkLI5YMP"
      },
      "execution_count": null,
      "outputs": []
    },
    {
      "cell_type": "markdown",
      "source": [
        "### **2.2 Produisons des couches spatiales**"
      ],
      "metadata": {
        "id": "cPvC4jJWD3HC"
      }
    },
    {
      "cell_type": "markdown",
      "source": [
        "#### **Convertir notre Dataframe en GeoDataFrame**"
      ],
      "metadata": {
        "id": "gznB1tz9JoG9"
      }
    },
    {
      "cell_type": "code",
      "source": [
        "# on peut créer une GeoDataFrame à partir d'une DataFrame possédant des information spatiales\n",
        "gdf = gpd.GeoDataFrame(ndf, geometry=gpd.points_from_xy(ndf['lon'], ndf['lat']))\n",
        "gdf.crs = \"EPSG:4326\" # Pour attribuer un système de projection\n",
        "gdf = gdf.to_crs(\"epsg:32188\") # Pour reprojeter (MTM Zone 8)"
      ],
      "metadata": {
        "id": "fRiw_vQiJM1W"
      },
      "execution_count": null,
      "outputs": []
    },
    {
      "cell_type": "code",
      "source": [
        "# On peut produire des cartes simples très rapidement avec GeoPandas\n",
        "gdf.plot(markersize=5,\n",
        "         figsize=(10, 10))"
      ],
      "metadata": {
        "id": "STb9cJ6TK_ty"
      },
      "execution_count": null,
      "outputs": []
    },
    {
      "cell_type": "markdown",
      "source": [
        "#### **Créons une couche GPD à partir d'un GeoJSON externe**"
      ],
      "metadata": {
        "id": "nOrhQLFUELuE"
      }
    },
    {
      "cell_type": "code",
      "source": [
        "quartiers = gpd.read_file('/content/quartiers_mtl.geojson')\n",
        "print(quartiers.crs)\n",
        "\n",
        "# Spécifier le système de projection du fichier (c'est du WGS84, donc EPSG4326) car GeoJson ne contient pas l'information de CRS\n",
        "quartiers.crs = \"EPSG:4326\"\n",
        "\n",
        "# Le convertir en ESPG32188\n",
        "quartiers = quartiers.to_crs(\"epsg:32188\")\n",
        "\n",
        "# Afficher les données\n",
        "quartiers.plot(markersize=5, figsize=(12, 12),\n",
        "         alpha=0.5,\n",
        "         #color='blue',\n",
        "         edgecolor='black')"
      ],
      "metadata": {
        "id": "3eYGxUksKV7K"
      },
      "execution_count": null,
      "outputs": []
    },
    {
      "cell_type": "markdown",
      "source": [
        "### **2.3. Faire une jointure spatiale pour calculer les prix par quartiers**"
      ],
      "metadata": {
        "id": "aIYZkR2IQ3zb"
      }
    },
    {
      "cell_type": "markdown",
      "source": [
        "\n",
        "**On possède une gdf des biens immobiliers au Québec, et une gdf des polygones des quartiers de l'île de Montréal. Nous voulons combiner ces deux jeux de données**.\n",
        "\n",
        "Pour rappel, dans le cas des jeux de données aspatiales, nous pouvons combiner les informations de deux jeux de données en faisant correspondre les valeurs d'une colonne. Ainsi, si deux enregistrements partagent la même valeur pour cette colonne en particulier, alors les informations seront concaténées.\n",
        "\n",
        "Avec les jeux de données spatiales, nous pouvons aussi utiliser les relations spatiales pour combiner deux jeux de données. Ainsi, si une relation spatiale est identifiée entre deux enregistrements, alors les informations seront concaténées.\n",
        "\n",
        "Ici, nous voudrions concaténer les informations sur les polygones des quartiers aux enregistrements sur les biens immobiliers. C'est-à-dire, si un logement est géographiquement localisé dans un quartier, alors les informations du quartier seront ajoutées. À la fin de la jointure, la gdf des biens immobiliers sera enrichie des informations spatiales (le polygone) des quartiers.\n"
      ],
      "metadata": {
        "id": "xwD_UMvmGnQX"
      }
    },
    {
      "cell_type": "code",
      "source": [
        "# Associer chaque annonce au polygone du quartier auquel elle appartient :\n",
        "prix_quartier = gpd.sjoin(quartiers, gdf, how=\"inner\", predicate='contains') # https://geopandas.org/en/stable/gallery/spatial_joins.html\n",
        "#quartiers.sindex.valid_query_predicates\n",
        "#inner = intersection entre les deux jeux de données\n",
        "#contains = relation spatiale\n",
        "prix_quartier.tail()"
      ],
      "metadata": {
        "id": "8CD3iJ9DRHW2"
      },
      "execution_count": null,
      "outputs": []
    },
    {
      "cell_type": "markdown",
      "source": [
        "**Nous pouvons maintenant effectuer une opération de dissolution (aggregation) sur nos enregistrements**\n",
        "\n",
        "Tous les enregistrement possèdant le même nom de quartier seront aggrégés et leurs colonnes moyennées."
      ],
      "metadata": {
        "id": "Xakoc4OtKUDS"
      }
    },
    {
      "cell_type": "code",
      "source": [
        "prix_quartier2 = prix_quartier[['Prix', 'nom','geometry',]]\n",
        "prix_quartier_dissolved = prix_quartier2.dissolve(by='nom', aggfunc='mean') #numeric_only=True, or several categories for the by argument"
      ],
      "metadata": {
        "id": "KQgZX0jJcD4V"
      },
      "execution_count": null,
      "outputs": []
    },
    {
      "cell_type": "markdown",
      "source": [
        "### **2.4. Un peu de cartographie (simple)**"
      ],
      "metadata": {
        "id": "FnoNfFZUeLgH"
      }
    },
    {
      "cell_type": "markdown",
      "source": [
        "**Produisons une carte choroplèthe des prix moyens par quartier.**"
      ],
      "metadata": {
        "id": "hprMC_GJLze4"
      }
    },
    {
      "cell_type": "code",
      "source": [
        "prix_quartier_dissolved.plot(column='Prix',\n",
        "                             legend=True,\n",
        "                             cmap='OrRd',\n",
        "                             scheme='natural_breaks',\n",
        "                             k=10,\n",
        "                             figsize=(10, 10))"
      ],
      "metadata": {
        "id": "ncSotsVKeWP2"
      },
      "execution_count": null,
      "outputs": []
    },
    {
      "cell_type": "markdown",
      "source": [
        "**Ajouter un fond de carte (personnalisé)**"
      ],
      "metadata": {
        "id": "l88pmT1JRA2V"
      }
    },
    {
      "cell_type": "code",
      "source": [
        "import contextily as cx"
      ],
      "metadata": {
        "id": "jlnj_jwqwQKx"
      },
      "execution_count": null,
      "outputs": []
    },
    {
      "cell_type": "code",
      "source": [
        "prix_quartier_dissolved = prix_quartier_dissolved.to_crs('EPSG:3857')"
      ],
      "metadata": {
        "id": "AHiz2YGhkr3T"
      },
      "execution_count": null,
      "outputs": []
    },
    {
      "cell_type": "code",
      "source": [
        "couche_1 = prix_quartier_dissolved.plot(column='Prix',\n",
        "                                 legend=True,\n",
        "                                 cmap='OrRd',\n",
        "                                 scheme='natural_breaks',\n",
        "                                 alpha=0.5,\n",
        "                                 figsize=(10, 10))\n",
        "\n",
        "cx.add_basemap(couche_1,\n",
        "               zoom=12\n",
        "               #source=cx.providers.CartoDB.PositronNoLabels # différents styles : https://geopandas.org/en/stable/gallery/plotting_basemap_background.html\n",
        "               )\n",
        "cx.add_basemap(couche_1, source=cx.providers.CartoDB.PositronOnlyLabels, zoom=11)\n",
        "\n",
        "\n",
        "couche_1.set_axis_off()\n",
        "\n",
        "plt.savefig('/content/prix_par_quartier.png', dpi=500)"
      ],
      "metadata": {
        "id": "ZV7UWWsZLsT3"
      },
      "execution_count": null,
      "outputs": []
    },
    {
      "cell_type": "markdown",
      "source": [
        "### **2.4. Exporter des données spatiales**"
      ],
      "metadata": {
        "id": "1wyqnSXJgPun"
      }
    },
    {
      "cell_type": "code",
      "source": [
        "prix_quartier_dissolved.to_file(\"/content/prix_par_quartier.geojson\", driver='GeoJSON')"
      ],
      "metadata": {
        "id": "10hYu07ggRzV"
      },
      "execution_count": null,
      "outputs": []
    }
  ]
}