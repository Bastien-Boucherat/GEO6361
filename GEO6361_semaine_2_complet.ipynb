{
  "nbformat": 4,
  "nbformat_minor": 0,
  "metadata": {
    "colab": {
      "provenance": [],
      "include_colab_link": true
    },
    "kernelspec": {
      "name": "python3",
      "display_name": "Python 3"
    },
    "language_info": {
      "name": "python"
    }
  },
  "cells": [
    {
      "cell_type": "markdown",
      "metadata": {
        "id": "view-in-github",
        "colab_type": "text"
      },
      "source": [
        "<a href=\"https://colab.research.google.com/github/Bastien-Boucherat/GEO6361/blob/main/GEO6361_semaine_2_complet.ipynb\" target=\"_parent\"><img src=\"https://colab.research.google.com/assets/colab-badge.svg\" alt=\"Open In Colab\"/></a>"
      ]
    },
    {
      "cell_type": "markdown",
      "source": [
        "#Les bases de la programmation Python, partie 1"
      ],
      "metadata": {
        "id": "zLbMssU99qlv"
      }
    },
    {
      "cell_type": "markdown",
      "source": [
        "## Les variables"
      ],
      "metadata": {
        "id": "nSS4d-yL-CEX"
      }
    },
    {
      "cell_type": "markdown",
      "source": [
        "1. Assignez aux variables les valeurs suivantes :\n",
        "\n",
        "*   Votre prénom\n",
        "*   Votre nom\n",
        "*   Le département du cours (GEO)\n",
        "*   Le numéro du cours (6361)\n",
        "*   Un booléen indiquant si vous êtes inscrit au cours\n",
        "*   La durée du cours en heures (disons, pour l'exercice, que le cours dure 2h30)"
      ],
      "metadata": {
        "id": "aynuzhme-UWM"
      }
    },
    {
      "cell_type": "code",
      "execution_count": 3,
      "metadata": {
        "id": "oqEAiyP69Z5y",
        "colab": {
          "base_uri": "https://localhost:8080/"
        },
        "outputId": "81e4aae9-af85-4abe-f9b1-88e73594ce14"
      },
      "outputs": [
        {
          "output_type": "stream",
          "name": "stdout",
          "text": [
            "Tout semble fonctionner ! :)\n"
          ]
        }
      ],
      "source": [
        "prenom = \"Bastien\"\n",
        "nom = \"Boucherat\"\n",
        "dept_cours = \"GEO\"\n",
        "num_cours = 6361\n",
        "inscrit = True\n",
        "duree_cours = 2.5\n",
        "\n",
        "# Code pour la correction automatique, ne pas modifier !\n",
        "if not isinstance(prenom, str) or not isinstance(nom, str) or not isinstance(dept_cours, str):\n",
        "    print(\"Il y a une erreur avec les variables 'prenom' ou 'nom' ou 'dept_cours'\")\n",
        "elif not isinstance(num_cours, int):\n",
        "    print(\"Il y a une erreur avec la variable 'num_cours'\")\n",
        "elif not isinstance(inscrit, bool):\n",
        "    print(\"Il y a une erreur avec la variable 'inscrit'\")\n",
        "elif not isinstance(duree_cours, float):\n",
        "    print(\"Il y a une erreur avec la variable 'duree_cours'\")\n",
        "else:\n",
        "    print(\"Tout semble fonctionner ! :)\")\n",
        "# fin du code de la correction automatique"
      ]
    },
    {
      "cell_type": "markdown",
      "source": [
        "2. Il y a une erreur par ligne, corrigez ces erreurs et exécutez la cellule :"
      ],
      "metadata": {
        "id": "3C2huOoAEmHL"
      }
    },
    {
      "cell_type": "code",
      "source": [
        "prenom = \"Bastien\" # prenom doit être de type \"str\"\n",
        "inscrit = True # inscrit doit être de type \"bool\"\n",
        "duree_cours = \"2.5\" # duree_cours doit être de type \"float\"\n",
        "dept_cours = \"GEO\" # dept_cours doit être de type \"string\"\n",
        "num_cours = 6361 # num_cours doit être de type \"int\""
      ],
      "metadata": {
        "id": "vYC_hF2f_tVi"
      },
      "execution_count": null,
      "outputs": []
    },
    {
      "cell_type": "markdown",
      "source": [
        "3. créez une variable \"c\" qui est la somme des variables \"a\" et \"b\" (indice : il faut changer le type d'une des variables \"a\" ou \"b\")"
      ],
      "metadata": {
        "id": "Qtdgysd9HYmK"
      }
    },
    {
      "cell_type": "code",
      "source": [
        "a = 1\n",
        "b = \"2\"\n",
        "c = a + int(b)\n",
        "print(c)"
      ],
      "metadata": {
        "id": "l8bXMG3eHzGN",
        "colab": {
          "base_uri": "https://localhost:8080/"
        },
        "outputId": "6be99ee5-7150-4e01-9a38-fc2976a2fbbb"
      },
      "execution_count": 4,
      "outputs": [
        {
          "output_type": "stream",
          "name": "stdout",
          "text": [
            "3\n"
          ]
        }
      ]
    },
    {
      "cell_type": "markdown",
      "source": [
        "4. Imprimer à la ligne 3 la chaîne de caractères \"12\" en effectuant une opération sur les variables \"a\" et \"b\"\n",
        "(indice : il faut changer le type d'une des variables \"a\" ou \"b\")"
      ],
      "metadata": {
        "id": "FWQPbq_uH9Ht"
      }
    },
    {
      "cell_type": "code",
      "source": [
        "a = 1\n",
        "b = \"2\"\n",
        "print(str(a)+b)"
      ],
      "metadata": {
        "id": "T58lARfFH5nK",
        "colab": {
          "base_uri": "https://localhost:8080/"
        },
        "outputId": "89750f4d-106a-478e-9b2c-4150dd8fff24"
      },
      "execution_count": 5,
      "outputs": [
        {
          "output_type": "stream",
          "name": "stdout",
          "text": [
            "12\n"
          ]
        }
      ]
    },
    {
      "cell_type": "markdown",
      "source": [
        "## Les listes"
      ],
      "metadata": {
        "id": "p01rOSBfcGfH"
      }
    },
    {
      "cell_type": "markdown",
      "source": [
        "Pour chaque exercice, commentez votre code afin d'expliquer comment vous procédez pour résoudre la question. Par exemple, pour répondre à la question \"Afficher la mot bonjour\":"
      ],
      "metadata": {
        "id": "D5V9K4jEjY7y"
      }
    },
    {
      "cell_type": "code",
      "source": [
        "# J'utilise la fonction Python \"print\"\n",
        "print(\"Bonjour !\")"
      ],
      "metadata": {
        "colab": {
          "base_uri": "https://localhost:8080/"
        },
        "id": "3CWye9xTj8Fh",
        "outputId": "bc9534e4-012e-4587-80f7-d6dc28d5b109"
      },
      "execution_count": null,
      "outputs": [
        {
          "output_type": "stream",
          "name": "stdout",
          "text": [
            "Bonjour !\n"
          ]
        }
      ]
    },
    {
      "cell_type": "markdown",
      "source": [
        "1. En une seule ligne, créez une liste appelée \"nombres\" contenant les numéros de 1 à 4."
      ],
      "metadata": {
        "id": "FUPgAOoKcKFb"
      }
    },
    {
      "cell_type": "code",
      "source": [
        "nombres = [1,2,3,4]\n",
        "\n",
        "# Autre manière utilisant range\n",
        "nombres = list(range(1,5))\n",
        "\n",
        "print(nombres)"
      ],
      "metadata": {
        "id": "mwOPYkJqfk4N",
        "colab": {
          "base_uri": "https://localhost:8080/"
        },
        "outputId": "60ae9712-e0a6-475d-9b30-d2272383f3a9"
      },
      "execution_count": 27,
      "outputs": [
        {
          "output_type": "stream",
          "name": "stdout",
          "text": [
            "[1, 2, 3, 4]\n"
          ]
        }
      ]
    },
    {
      "cell_type": "markdown",
      "source": [
        "2. Utilisez la méthode \"extend\" pour ajouter les valeurs 6, 7, et 8 à la liste nombres, puis imprimez la liste nombres."
      ],
      "metadata": {
        "id": "LOJdIETti7nK"
      }
    },
    {
      "cell_type": "code",
      "source": [
        "nombres.extend([5,6,7])\n",
        "print(nombres)"
      ],
      "metadata": {
        "id": "X7pIndZih56u",
        "colab": {
          "base_uri": "https://localhost:8080/"
        },
        "outputId": "af0140ff-85e7-4f31-ab99-6b4af0734af8"
      },
      "execution_count": 28,
      "outputs": [
        {
          "output_type": "stream",
          "name": "stdout",
          "text": [
            "[1, 2, 3, 4, 5, 6, 7]\n"
          ]
        }
      ]
    },
    {
      "cell_type": "markdown",
      "source": [
        "3. Utilisez la méthode \"remove\" pour retirer le numéro 5 de la liste nombres, puis imprimez la liste \"nombres\"."
      ],
      "metadata": {
        "id": "JiUOXhXekMh0"
      }
    },
    {
      "cell_type": "code",
      "source": [
        "nombres.remove(5)\n",
        "print(nombres)"
      ],
      "metadata": {
        "id": "ovyLmJcXily-",
        "colab": {
          "base_uri": "https://localhost:8080/"
        },
        "outputId": "02c22543-35d9-4959-ade4-42d4d9cb9280"
      },
      "execution_count": 29,
      "outputs": [
        {
          "output_type": "stream",
          "name": "stdout",
          "text": [
            "[1, 2, 3, 4, 6, 7]\n"
          ]
        }
      ]
    },
    {
      "cell_type": "markdown",
      "source": [
        "4. Utilisez la méthode pop pour retirer le 3e élément de la liste \"nombres\". Imprimez cet élément."
      ],
      "metadata": {
        "id": "U_7aeQT9kg9t"
      }
    },
    {
      "cell_type": "code",
      "source": [
        "nombres.pop(3)\n",
        "print(nombres)"
      ],
      "metadata": {
        "id": "WzoOuoX-kPCh",
        "colab": {
          "base_uri": "https://localhost:8080/"
        },
        "outputId": "b9d61128-2cce-43f0-f9c6-671c28091543"
      },
      "execution_count": 30,
      "outputs": [
        {
          "output_type": "stream",
          "name": "stdout",
          "text": [
            "[1, 2, 3, 6, 7]\n"
          ]
        }
      ]
    },
    {
      "cell_type": "markdown",
      "source": [
        "5. Utilisez la méthode pop pour retirer le chiffre 7\n",
        " de la liste \"nombres\". Imprimez cet élément."
      ],
      "metadata": {
        "id": "Q7zVEv0nJZRq"
      }
    },
    {
      "cell_type": "code",
      "source": [
        "nombres.pop(4)\n",
        "print(nombres)"
      ],
      "metadata": {
        "id": "UIRHQcOaJZzg",
        "colab": {
          "base_uri": "https://localhost:8080/"
        },
        "outputId": "e424acf0-7b78-40d6-fc19-3aac23dae93f"
      },
      "execution_count": 31,
      "outputs": [
        {
          "output_type": "stream",
          "name": "stdout",
          "text": [
            "[1, 2, 3, 6]\n"
          ]
        }
      ]
    },
    {
      "cell_type": "markdown",
      "source": [
        "6. Imaginons que la liste \"nombres\" soit très longue et que nous ne savons pas combien d'éléments elle contient. Utilisez la méthode pop pour retirer le dernier élément de cette liste. Imprimez la nouvelle liste."
      ],
      "metadata": {
        "id": "IhfyM-9_lDwg"
      }
    },
    {
      "cell_type": "code",
      "source": [
        "print(nombres[len(nombres)-1])"
      ],
      "metadata": {
        "id": "zxs9s-9Zko2r",
        "colab": {
          "base_uri": "https://localhost:8080/"
        },
        "outputId": "55b706a4-2384-450b-e092-978da40e14ef"
      },
      "execution_count": 32,
      "outputs": [
        {
          "output_type": "stream",
          "name": "stdout",
          "text": [
            "6\n"
          ]
        }
      ]
    },
    {
      "cell_type": "markdown",
      "source": [
        "7. Accédez au deuxième élément de la liste nombres et imprimez-le."
      ],
      "metadata": {
        "id": "MjCIV4Htlx47"
      }
    },
    {
      "cell_type": "code",
      "source": [
        "print(nombres[2])"
      ],
      "metadata": {
        "id": "Ggnfp7OukUhX",
        "colab": {
          "base_uri": "https://localhost:8080/"
        },
        "outputId": "288476ec-c3f4-4050-acd2-075f47685604"
      },
      "execution_count": 33,
      "outputs": [
        {
          "output_type": "stream",
          "name": "stdout",
          "text": [
            "3\n"
          ]
        }
      ]
    },
    {
      "cell_type": "markdown",
      "source": [
        "8. Créez une liste vide appelée fruits."
      ],
      "metadata": {
        "id": "gytLL9-SJC6o"
      }
    },
    {
      "cell_type": "code",
      "source": [
        "fruits=[]\n",
        "print(fruits)"
      ],
      "metadata": {
        "id": "FD1ACKa06e5Q",
        "colab": {
          "base_uri": "https://localhost:8080/"
        },
        "outputId": "3326d673-3af8-409d-b524-134fd965ee02"
      },
      "execution_count": 34,
      "outputs": [
        {
          "output_type": "stream",
          "name": "stdout",
          "text": [
            "[]\n"
          ]
        }
      ]
    },
    {
      "cell_type": "markdown",
      "source": [
        "3. Utilisez la méthode \"append\" pour ajouter \"pomme\", \"banane\", \"fraise\" et \"cerise\" à la liste fruits (vous pouvez utiliser plusieurs lignes de code)."
      ],
      "metadata": {
        "id": "T3dsoGTSiCCV"
      }
    },
    {
      "cell_type": "code",
      "source": [
        "fruits.append(\"pomme\")\n",
        "fruits.append(\"banane\")\n",
        "fruits.append(\"fraise\")\n",
        "fruits.append(\"cerise\")\n",
        "print(fruits)"
      ],
      "metadata": {
        "id": "dNA4wKn_ltZn",
        "colab": {
          "base_uri": "https://localhost:8080/"
        },
        "outputId": "31f49004-f770-426f-adae-de033c75e3eb"
      },
      "execution_count": 35,
      "outputs": [
        {
          "output_type": "stream",
          "name": "stdout",
          "text": [
            "['pomme', 'banane', 'fraise', 'cerise']\n"
          ]
        }
      ]
    },
    {
      "cell_type": "markdown",
      "source": [
        "9. Créez une nouvelle liste à deux dimensions appellée \"inventaire\" qui contiendrait la liste \"fruits\", puis la liste \"nombres\" (la première ligne de la liste \"inventaire\" contiendrait donc les noms des fruits et la seconde contiendrait la quantité correspondante).\n"
      ],
      "metadata": {
        "id": "XxtPbod8lzzO"
      }
    },
    {
      "cell_type": "code",
      "source": [
        "inventaire = [fruits, nombres]\n",
        "print(inventaire)"
      ],
      "metadata": {
        "id": "oQ3geHHYncUp",
        "colab": {
          "base_uri": "https://localhost:8080/"
        },
        "outputId": "09a5268f-be14-4788-9880-824283a4c655"
      },
      "execution_count": 36,
      "outputs": [
        {
          "output_type": "stream",
          "name": "stdout",
          "text": [
            "[['pomme', 'banane', 'fraise', 'cerise'], [1, 2, 3, 6]]\n"
          ]
        }
      ]
    },
    {
      "cell_type": "markdown",
      "source": [
        "10. Accédez (en l'imprimant dans la console) à l'élément \"banane\" à partir de cette nouvelle structure.\n"
      ],
      "metadata": {
        "id": "FKGD7syYKxrH"
      }
    },
    {
      "cell_type": "code",
      "source": [
        "print(inventaire[0][1])"
      ],
      "metadata": {
        "id": "gm4BSoheKx0c",
        "colab": {
          "base_uri": "https://localhost:8080/"
        },
        "outputId": "4f875967-88e1-4945-b693-3ddd1f603523"
      },
      "execution_count": 38,
      "outputs": [
        {
          "output_type": "stream",
          "name": "stdout",
          "text": [
            "banane\n"
          ]
        }
      ]
    }
  ]
}