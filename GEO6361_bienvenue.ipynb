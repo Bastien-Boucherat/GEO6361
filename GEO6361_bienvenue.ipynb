{
  "nbformat": 4,
  "nbformat_minor": 0,
  "metadata": {
    "colab": {
      "provenance": [],
      "authorship_tag": "ABX9TyMyzf6P7re7bba0EmlkXm/P",
      "include_colab_link": true
    },
    "kernelspec": {
      "name": "python3",
      "display_name": "Python 3"
    },
    "language_info": {
      "name": "python"
    }
  },
  "cells": [
    {
      "cell_type": "markdown",
      "metadata": {
        "id": "view-in-github",
        "colab_type": "text"
      },
      "source": [
        "<a href=\"https://colab.research.google.com/github/Bastien-Boucherat/GEO6361/blob/main/GEO6361_bienvenue.ipynb\" target=\"_parent\"><img src=\"https://colab.research.google.com/assets/colab-badge.svg\" alt=\"Open In Colab\"/></a>"
      ]
    },
    {
      "cell_type": "markdown",
      "source": [
        "# Bienvenue au cours GEO6361 !\n",
        "Automatisation des processus d'analyse spatiale\n",
        "\n"
      ],
      "metadata": {
        "id": "eL_8v7bKZ7w3"
      }
    },
    {
      "cell_type": "markdown",
      "source": [
        "Ceci est un bloc de texte"
      ],
      "metadata": {
        "id": "IdfF4VZfaUlp"
      }
    },
    {
      "cell_type": "code",
      "source": [
        "# Ceci est un bloc de code"
      ],
      "metadata": {
        "id": "JwDpu6IsZ766"
      },
      "execution_count": null,
      "outputs": []
    }
  ]
}