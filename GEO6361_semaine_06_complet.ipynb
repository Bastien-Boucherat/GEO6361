{
  "nbformat": 4,
  "nbformat_minor": 0,
  "metadata": {
    "colab": {
      "private_outputs": true,
      "provenance": [],
      "include_colab_link": true
    },
    "kernelspec": {
      "name": "python3",
      "display_name": "Python 3"
    },
    "language_info": {
      "name": "python"
    }
  },
  "cells": [
    {
      "cell_type": "markdown",
      "metadata": {
        "id": "view-in-github",
        "colab_type": "text"
      },
      "source": [
        "<a href=\"https://colab.research.google.com/github/Bastien-Boucherat/GEO6361/blob/main/GEO6361_semaine_06_complet.ipynb\" target=\"_parent\"><img src=\"https://colab.research.google.com/assets/colab-badge.svg\" alt=\"Open In Colab\"/></a>"
      ]
    },
    {
      "cell_type": "markdown",
      "source": [
        "# **Aperçu de Pandas**\n",
        "\n",
        "**GEO6361, semaine 6 : Pandas (les Series et les DataFrames)**\n",
        "Cette semaine, nous découvrons le module externe Pandas, et ses structures de données : les **Series** et les **DataFrames** (DF).\n",
        "Nous verrons comment :\n",
        "1. créer des **Series** et des **DataFrames**,\n",
        "2. comment **localiser** et **extraire des sous-ensembles** de données,\n",
        "3. **créer de nouvelles colonnes**,\n",
        "4. **filtrer les données**,\n",
        "5. **grouper** par attributs,\n",
        "6. **calculer des statistiques**, et\n",
        "7. **exporter** une DataFrame."
      ],
      "metadata": {
        "id": "Dhx8Q4peD821"
      }
    },
    {
      "cell_type": "code",
      "execution_count": null,
      "metadata": {
        "id": "HBALLo1xqnW5"
      },
      "outputs": [],
      "source": [
        "# En tout premier lieu, on importe Pandas puisque c'est un module externe\n",
        "# Étant donné sa popularité, Pandas est préinstallé dans les notebooks Google Colab.\n",
        "import pandas as pd\n",
        "\n",
        "# On importe également NumPy dont on aura besoin pendant les démonstrations :\n",
        "import numpy as np"
      ]
    },
    {
      "cell_type": "markdown",
      "source": [
        "# **1. Les Series Pandas**"
      ],
      "metadata": {
        "id": "V8Y-RBDiEkHe"
      }
    },
    {
      "cell_type": "markdown",
      "source": [
        "## **1.1. Créer des Series Pandas**"
      ],
      "metadata": {
        "id": "Rvaej7fFCdmm"
      }
    },
    {
      "cell_type": "markdown",
      "source": [
        "Les séries Pandas sont contruites sur la base d'arrays Numpy, auxquelles on peut appliquer des étiquettes (\"label\" ou \"index\")."
      ],
      "metadata": {
        "id": "5iq0J-JDDH9R"
      }
    },
    {
      "cell_type": "code",
      "source": [
        "# Créons une liste Python standard...\n",
        "ma_liste = [1, 2, 3, 4]\n",
        "\n",
        "# Convertissons-la en \"serie\" Pandas\n",
        "s = pd.Series(ma_liste) # par défaut, Pandas attribue des étiquettes numériques à chaque valeur\n",
        "print(\"Série (sans étiquettes) créée à partir d'une liste Python :\")\n",
        "print(s)\n",
        "\n",
        "# On peut faire la même chose à partir d'un array NumPy :\n",
        "import numpy as np\n",
        "arr = np.array([1, 2, 3, 4])\n",
        "s = pd.Series(arr)\n",
        "print(\"\\nSérie (sans étiquettes) créée à partir d'un array NumPy :\")\n",
        "print(s)\n",
        "\n",
        "# On peut attribuer des étiquettes spécifiques aux valeurs :\n",
        "mes_etiquettes = ['rangée_une', 'rangée_deux', 'rangée_trois', 'rangée_quatre']\n",
        "s = pd.Series(ma_liste, index=mes_etiquettes)\n",
        "print('\\nEn ajoutant des étiquettes :')\n",
        "print(s)\n",
        "\n",
        "# On peut également créer une série à partir d'un dictionnaire (les clés correspondront alors aux étiquettes) :\n",
        "dico = {'a': 2.7,\n",
        "          'b': 1.3,\n",
        "          'c': 6.5,\n",
        "          'd': 3.1}\n",
        "s = pd.Series(dico)\n",
        "print('\\nÀ partir d\\'un dictionnaire Python :')\n",
        "print(s)"
      ],
      "metadata": {
        "id": "Y0P-DKh-DJDH"
      },
      "execution_count": null,
      "outputs": []
    },
    {
      "cell_type": "code",
      "source": [
        "# Les séries Pandas peuvent contenir différents types de données:\n",
        "s = pd.Series(['un', 'deux', 'trois', 'quatre'], ['label_un', 'label_deux', 'label_trois', 'label_quatre'])\n",
        "print(s, type(s['label_un']))\n",
        "print('\\n')\n",
        "\n",
        "s = pd.Series([True, False, False, True], ['label_un', 'label_deux', 'label_trois', 'label_quatre'])\n",
        "print(s, type(s['label_un']))\n",
        "print('\\n')\n",
        "\n",
        "s = pd.Series([2.7, 1.3, 6.5, 3.1], ['label_un', 'label_deux', 'label_trois', 'label_quatre'])\n",
        "print(s, type(s['label_un']))\n",
        "print('\\n')\n",
        "\n",
        "s = pd.Series([1, 3, 2, 10], ['label_un', 'label_deux', 'label_trois', 'label_quatre'])\n",
        "print(s, type(s['label_un']))\n",
        "print('\\n')"
      ],
      "metadata": {
        "id": "PMvRbFIYDQj0"
      },
      "execution_count": null,
      "outputs": []
    },
    {
      "cell_type": "markdown",
      "source": [
        "## **1.2. Accéder et modifier des éléments des séries**"
      ],
      "metadata": {
        "id": "phkAOoIuDTlp"
      }
    },
    {
      "cell_type": "code",
      "source": [
        "# Avec la présence d'étiquettes, les séries Pandas peuvent être interrogées comme des dictionnaires\n",
        "print(s['label_un']) # on appelle la valeur par son label\n",
        "print(s['label_quatre'])\n",
        "print('\\n')"
      ],
      "metadata": {
        "id": "1WKy8vUeDcvV"
      },
      "execution_count": null,
      "outputs": []
    },
    {
      "cell_type": "code",
      "source": [
        "# On peut également changer des valeurs :\n",
        "print(s)\n",
        "print('\\n')\n",
        "\n",
        "s['label_un'] = 10 # on affecte la valeur 10 à l'étiquette label_un\n",
        "print(s)\n",
        "print('\\n')"
      ],
      "metadata": {
        "id": "IToRxFhDDm6r"
      },
      "execution_count": null,
      "outputs": []
    },
    {
      "cell_type": "code",
      "source": [
        "# On peut supprimer des valeurs avec \"drop\"\n",
        "s = pd.Series([2.7, 1.3, 6.5, 3.1], ['label_un', 'label_deux', 'label_trois', 'label_quatre'])\n",
        "print(s)\n",
        "print('\\n')\n",
        "\n",
        "s = s.drop('label_deux')\n",
        "print(s)"
      ],
      "metadata": {
        "id": "EEfiRjCTD_5y"
      },
      "execution_count": null,
      "outputs": []
    },
    {
      "cell_type": "markdown",
      "source": [
        "## **1.3. Effectuer des opérations**"
      ],
      "metadata": {
        "id": "2D5CvZUeES98"
      }
    },
    {
      "cell_type": "code",
      "source": [
        "# On peut effectuer des opérations entre des séries (du moment que les labels se correspondent)\n",
        "notes_devoir_1 = pd.Series([76, 86, 67], ['Alex', 'Val', 'Toni'])\n",
        "notes_devoir_2 = pd.Series([93, 84, 89], ['Alex', 'Val', 'Toni'])\n",
        "print(notes_devoir_1 + notes_devoir_2)\n",
        "print('\\n')\n",
        "\n",
        "# S'il ne correspondent pas parfaitement :\n",
        "notes_devoir_2 = pd.Series([93, 84, 89, 96], ['Alex', 'Val', 'Toni','Dom'])\n",
        "print(notes_devoir_1 + notes_devoir_2)"
      ],
      "metadata": {
        "id": "LGLGR5PrEanp"
      },
      "execution_count": null,
      "outputs": []
    },
    {
      "cell_type": "markdown",
      "source": [
        "# **2. Les DataFrames Pandas**"
      ],
      "metadata": {
        "id": "syWv0TNJEsC1"
      }
    },
    {
      "cell_type": "markdown",
      "source": [
        "## **2.1. Créer une DataFrame Pandas**"
      ],
      "metadata": {
        "id": "N7q75oR6fPHz"
      }
    },
    {
      "cell_type": "markdown",
      "source": [
        "Commençons par créer une DataFrame contenant des données aléatoires"
      ],
      "metadata": {
        "id": "VYQ7N37hKW35"
      }
    },
    {
      "cell_type": "code",
      "source": [
        "# Nous pouvons créer une DataFrame de la manière suivante : df = pd.DataFrame(liste_valeurs, liste_noms_lignes, liste_noms_colonnes)\n",
        "\n",
        "colonnes = ['Col 1', 'Col 2', 'Col 3'] # création de la liste des noms de colonnes\n",
        "lignes = ['Li 1', 'Li 2', 'Li 3', 'Li 4'] # création de la liste des étiquettes des lignes\n",
        "valeurs = [[1 ,2 ,3],\n",
        "           [4 ,5 ,6],\n",
        "           [7 ,8 ,9],\n",
        "           [10 ,11 ,12]] # création de la matrice des valeurs (de taille len(lignes) x len(colonnes))\n",
        "df = pd.DataFrame(valeurs, lignes, colonnes) # création de la DataFrame\n",
        "print(df)\n"
      ],
      "metadata": {
        "id": "je5HpPRBFx7x"
      },
      "execution_count": null,
      "outputs": []
    },
    {
      "cell_type": "code",
      "source": [
        "# Pour les données plus volumineuses, nous pouvons importer des fichiers externes :\n",
        "\n",
        "# df = pd.read_excel('data.xlsx') # Excel\n",
        "df = pd.read_csv('data.csv') # CSV\n",
        "df"
      ],
      "metadata": {
        "id": "onofXLsAq8g9"
      },
      "execution_count": null,
      "outputs": []
    },
    {
      "cell_type": "code",
      "source": [
        "# On remarque les labels n'ont pas été attribués (ils ont été importés sous forme de colonne).\n",
        "# Nous pouvons corriger ça en désignant une colonne pour les noms de labels :\n",
        "df = df.set_index('index')\n",
        "df"
      ],
      "metadata": {
        "id": "TTFiRFksy0aU"
      },
      "execution_count": null,
      "outputs": []
    },
    {
      "cell_type": "markdown",
      "source": [
        "## **2.2. Localiser et extraire des sous-ensembles de données**"
      ],
      "metadata": {
        "id": "6bh2L2muO30B"
      }
    },
    {
      "cell_type": "markdown",
      "source": [
        "### **Extraire une ou plusieurs colonnes**"
      ],
      "metadata": {
        "id": "tbwDhq0tPchV"
      }
    },
    {
      "cell_type": "code",
      "source": [
        "# Extraire une colonne :\n",
        "df['Var 2'] # crée une série\n",
        "\n",
        "# Ce que l'on peut vérifier comme ceci:\n",
        "#print('\\n', type(df['Var 2']))"
      ],
      "metadata": {
        "id": "x69DPn6WnWWq"
      },
      "execution_count": null,
      "outputs": []
    },
    {
      "cell_type": "code",
      "source": [
        "# Extraire plusieurs colonnes :\n",
        "df[['Var 1', 'Var 3']] # crée une DF\n",
        "\n",
        "# Ce que l'on peut vérifier comme ceci:\n",
        "#print('\\n', type(df[['Var 1', 'Var 3']]))"
      ],
      "metadata": {
        "id": "8Za45kx5w_T4"
      },
      "execution_count": null,
      "outputs": []
    },
    {
      "cell_type": "markdown",
      "source": [
        "### **Extraire une ou plusieurs lignes**"
      ],
      "metadata": {
        "id": "GY6JqkwIPtZL"
      }
    },
    {
      "cell_type": "markdown",
      "source": [
        "#### Pour accéder aux lignes par leurs étiquettes, nous pouvons utiliser **loc**."
      ],
      "metadata": {
        "id": "AwNjHBoAQgJ3"
      }
    },
    {
      "cell_type": "code",
      "source": [
        "# Extraire une ou plusieurs lignes avec la méthode \"loc\" en invoquant l'étiquette de la ligne :\n",
        "df.loc['Obs 1'] # remarquez que l'on obtient une série"
      ],
      "metadata": {
        "id": "FVV3fbY0wkic"
      },
      "execution_count": null,
      "outputs": []
    },
    {
      "cell_type": "code",
      "source": [
        "df.loc[['Obs 1', 'Obs 3', 'Obs 6']] # pour extraire plusieurs colonnes, passer une liste (notez les crochets)"
      ],
      "metadata": {
        "id": "9ARlcN5fREGk"
      },
      "execution_count": null,
      "outputs": []
    },
    {
      "cell_type": "markdown",
      "source": [
        "#### Pour accéder aux lignes par leurs index, nous pouvons utiliser **iloc**."
      ],
      "metadata": {
        "id": "Ydf5j2NUSvqH"
      }
    },
    {
      "cell_type": "code",
      "source": [
        "# Extraire une ou plusieurs lignes avec la méthode \"iloc\" (permet d'invoquer l'indice) :\n",
        "df.iloc[0]"
      ],
      "metadata": {
        "id": "Dl8fT9PARMDB"
      },
      "execution_count": null,
      "outputs": []
    },
    {
      "cell_type": "code",
      "source": [
        "df.iloc[3:6] # par tranche"
      ],
      "metadata": {
        "id": "nDdUk3CKRQHl"
      },
      "execution_count": null,
      "outputs": []
    },
    {
      "cell_type": "code",
      "source": [
        "df.iloc[0:6:2] # par tranche avec un pas de 2"
      ],
      "metadata": {
        "id": "zQtvmb30RU1t"
      },
      "execution_count": null,
      "outputs": []
    },
    {
      "cell_type": "markdown",
      "source": [
        "#### Pour accéder à un sous ensemble de lignes et de colonnes."
      ],
      "metadata": {
        "id": "81U5YLFYtb-Y"
      }
    },
    {
      "cell_type": "code",
      "source": [
        "# On peut également utiliser loc pour aller chercher une valeur par ses coordonnées\n",
        "df.loc['Obs 6', 'Var 1'] # passer entre crochets le label de la ligne, puis le nom de la colonne"
      ],
      "metadata": {
        "id": "kS3CF7hwrQPp"
      },
      "execution_count": null,
      "outputs": []
    },
    {
      "cell_type": "code",
      "source": [
        " # Extraire un sous-ensemble\n",
        "s_df = df.loc[['Obs 1', 'Obs 3', 'Obs 6'], ['Var 1', 'Var 3']]\n",
        "s_df"
      ],
      "metadata": {
        "id": "drrfjnmF1RJO"
      },
      "execution_count": null,
      "outputs": []
    },
    {
      "cell_type": "markdown",
      "source": [
        "## **2.3. Créer et supprimer des lignes et des colonnes**"
      ],
      "metadata": {
        "id": "GFLjeXEVuN6o"
      }
    },
    {
      "cell_type": "code",
      "source": [
        "# Créer de nouveaux champs\n",
        "df['Var 1 (normalisée)'] = (df['Var 1'] - df['Var 1'].min()) / (df['Var 1'].max() - df['Var 1'].min()) # Juste pour l'exemple, on normalise linéairement les valeurs de Var 1\n",
        "df"
      ],
      "metadata": {
        "id": "2ymMMhQUqiFE"
      },
      "execution_count": null,
      "outputs": []
    },
    {
      "cell_type": "code",
      "source": [
        "# On peut ré-arranger les colonnes en passant simplement la liste des colonnes dans l'ordre que l'on souhaite\n",
        "df = df[['Var 1', 'Var 1 (normalisée)', 'Var 2', 'Var 3']]\n",
        "df"
      ],
      "metadata": {
        "id": "hceyu3d8wUek"
      },
      "execution_count": null,
      "outputs": []
    },
    {
      "cell_type": "code",
      "source": [
        "# Supprimer des lignes :\n",
        "df.drop('Obs 3')"
      ],
      "metadata": {
        "id": "4Bk5jKLVrRMm"
      },
      "execution_count": null,
      "outputs": []
    },
    {
      "cell_type": "code",
      "source": [
        "# Supprimer des colonnes :\n",
        "df.drop(['Var 1', 'Var 3'], axis='columns')"
      ],
      "metadata": {
        "id": "ANGhNxY2tv5r"
      },
      "execution_count": null,
      "outputs": []
    },
    {
      "cell_type": "code",
      "source": [
        "# Vérifions le contenu de df\n",
        "df"
      ],
      "metadata": {
        "id": "F_ZAS3nGr9m1"
      },
      "execution_count": null,
      "outputs": []
    },
    {
      "cell_type": "markdown",
      "source": [
        "Pour rendre toutes ces opérations permanentes, il faut assigner le résultat de ces opérations à un nom de variable :"
      ],
      "metadata": {
        "id": "pD_dgZ45LUYt"
      }
    },
    {
      "cell_type": "code",
      "source": [
        "# on assigne le résultat dans une nouvelle DF\n",
        "n_df = df.drop('Var 3', axis='columns')\n",
        "n_df"
      ],
      "metadata": {
        "id": "XYHhebAULbSM"
      },
      "execution_count": null,
      "outputs": []
    },
    {
      "cell_type": "markdown",
      "source": [
        "## **2.4. Filtrer des DataFrames**"
      ],
      "metadata": {
        "id": "ufVqzK5cCvOr"
      }
    },
    {
      "cell_type": "code",
      "source": [
        "# Si on souhaite extraire un sous-ensemble de données dont les valeurs sont supérieures ou égales à 4\n",
        "df >= 4 # crée une DF de valeur booléennes indiquant si la condition est, ou non, remplie"
      ],
      "metadata": {
        "id": "f0ykW8eXCz28"
      },
      "execution_count": null,
      "outputs": []
    },
    {
      "cell_type": "code",
      "source": [
        "# Je peux utiliser cette DF de valeurs booléennes pour afficher les valeurs du tableau\n",
        "df[df >= 4] # nous obtenons des NaN (Not a Number) qu'il s'agira de traiter par la suite"
      ],
      "metadata": {
        "id": "poqv424JEmSc"
      },
      "execution_count": null,
      "outputs": []
    },
    {
      "cell_type": "code",
      "source": [
        "# On peut aussi filtrer tout une DF en fonction du filtre appliqué à une seule colonne (pratique dans bien des cas)\n",
        "df[df['Var 1'] >= 4]"
      ],
      "metadata": {
        "id": "f6-7M1CHF4gv"
      },
      "execution_count": null,
      "outputs": []
    },
    {
      "cell_type": "code",
      "source": [
        "# On peut alors effectuer d'autres opérations à partir de ce DF résultant\n",
        "df[df['Var 1'] >= 4]['Var 3'].mean() # on a ajouté 1) ['Var 3'] pour extraire cette colonne, puis .mean() pour obtenir la moyenne.\n",
        "# On peut donc effectuer une chaîne de commande ou chaque commande utilise le résultat de la précédente."
      ],
      "metadata": {
        "id": "brD8TyANG__t"
      },
      "execution_count": null,
      "outputs": []
    },
    {
      "cell_type": "code",
      "source": [
        "# Appliquons maintenant plus d'une condition :\n",
        "df[(df['Var 1'] >= 4) & (df['Var 3'] < 4)] # il faut mettre chaque condition entre parenthèses, et les articuler avec des \"et\" (&) ou des \"ou\" (|), selon les mêmes règles logiques qu'en Python pur."
      ],
      "metadata": {
        "id": "GVHvZUgOIpbx"
      },
      "execution_count": null,
      "outputs": []
    },
    {
      "cell_type": "code",
      "source": [
        "df[(df['Var 1'] >= 4) | (df['Var 3'] < 4)] # pour le \"ou\""
      ],
      "metadata": {
        "id": "IRy0-0K7KwPE"
      },
      "execution_count": null,
      "outputs": []
    },
    {
      "cell_type": "markdown",
      "source": [
        "### **4.1 Comment traiter les données manquantes ?**"
      ],
      "metadata": {
        "id": "A_n6lL20PNWe"
      }
    },
    {
      "cell_type": "markdown",
      "source": [
        "Selon le contexte de nos analyses, on a le choix entre :\n",
        "1. Ignorer les données manquantes\n",
        "2. Effacer les lignes ou les colonnes qui contiennent des données manquantes\n",
        "3. Remplacer les données manquantes par d'autres valeurs"
      ],
      "metadata": {
        "id": "Z9PogtXxzoNy"
      }
    },
    {
      "cell_type": "code",
      "source": [
        "# créons une nouvelle colonne (de nombres aléatoires distribués normalement) sur laquelle il nous sera pratique de filtrer\n",
        "np.random.seed(4)\n",
        "df['Var 4'] = np.random.randn(len(df))\n",
        "df"
      ],
      "metadata": {
        "id": "L2cV5cr1NmY8"
      },
      "execution_count": null,
      "outputs": []
    },
    {
      "cell_type": "code",
      "source": [
        "ndf = df[df > 0]\n",
        "ndf"
      ],
      "metadata": {
        "id": "9Er1o4LbX13O"
      },
      "execution_count": null,
      "outputs": []
    },
    {
      "cell_type": "markdown",
      "source": [
        "Éliminer les lignes ou les colonnes contenant des données manquantes :"
      ],
      "metadata": {
        "id": "CyxyjvGM0F2w"
      }
    },
    {
      "cell_type": "code",
      "source": [
        "# On utilise la méthode dropna() pour éliminer des données\n",
        "ndf.dropna() # sans paramètres, dropna() élimine toutes les lignes qui contiennent au moins UNE donnée manquante"
      ],
      "metadata": {
        "id": "zxmYDjH4P0Ye"
      },
      "execution_count": null,
      "outputs": []
    },
    {
      "cell_type": "code",
      "source": [
        "ndf.dropna(axis='columns') # avec le paramètre 'columns', dropna() élimine toutes les colonnes pour lesquelles il y a au moins une donnée manquante"
      ],
      "metadata": {
        "id": "YP3eTHwTP732"
      },
      "execution_count": null,
      "outputs": []
    },
    {
      "cell_type": "code",
      "source": [
        "ndf.dropna(axis='columns', thresh=10) # si au moins 10 valeurs ne sont pas NaN, alors la colonne est préservée"
      ],
      "metadata": {
        "id": "cyLJPz7_VdHo"
      },
      "execution_count": null,
      "outputs": []
    },
    {
      "cell_type": "code",
      "source": [
        "portion = 0.5 # un nombre entre 0 et 1 représentant le seuil exprimé en pourcentage\n",
        "seuil = round(len(ndf) * portion) # si au moins 50% des valeurs ne sont pas NaN, alors les colonnes sont préservées\n",
        "print(f\"Le seuil de préservation sera de {seuil} valeurs ({round(portion * 100)}% des valeurs)\")\n",
        "ndf.dropna(axis='columns', thresh=seuil)"
      ],
      "metadata": {
        "id": "GmFSLL1JaM0T"
      },
      "execution_count": null,
      "outputs": []
    },
    {
      "cell_type": "code",
      "source": [
        "# On peut remplacer les NaN par des valeurs de notre choix\n",
        "ndf.fillna('Donnée modifiée')"
      ],
      "metadata": {
        "id": "2B__be7UcNZy"
      },
      "execution_count": null,
      "outputs": []
    },
    {
      "cell_type": "code",
      "source": [
        "# Ici, on remplit avec la moyenne ou la somme des valeurs de la colonne 'Var 4' (C'est un peu dangereux, mais selon le nombre de valeurs manquante, cela peut être très utile)\n",
        "ndf['Var 4'] = ndf['Var 4'].fillna(ndf['Var 4'].mean())\n",
        "ndf['Var 1 (normalisée)'] = ndf['Var 1 (normalisée)'].fillna(ndf['Var 1 (normalisée)'].sum())\n",
        "ndf"
      ],
      "metadata": {
        "id": "2pafUJZecSZb"
      },
      "execution_count": null,
      "outputs": []
    },
    {
      "cell_type": "markdown",
      "source": [
        "## **2.5. Grouper des données**"
      ],
      "metadata": {
        "id": "-2Q1Q0hQd0kl"
      }
    },
    {
      "cell_type": "markdown",
      "source": [
        "Lorsque nos données possède un champ catégoriel, il est souvent utile de grouper ces données par catégorie pour effectuer des analyses. Voyons comment effectuer cela avec Pandas et sa méthode GroupBy."
      ],
      "metadata": {
        "id": "M8_cpzqasdPz"
      }
    },
    {
      "cell_type": "code",
      "source": [
        "# Créons une nouvelle colonne catégorielle à partir de laquelle nous pourrons grouper nos données\n",
        "np.random.seed(2)\n",
        "df['Année'] = np.random.choice([2024, 2023, 2022, 2021], len(df))\n",
        "df"
      ],
      "metadata": {
        "id": "bSYaP7fRsb_W"
      },
      "execution_count": null,
      "outputs": []
    },
    {
      "cell_type": "code",
      "source": [
        "# Trier des donnnées :\n",
        "df.sort_values('Année')"
      ],
      "metadata": {
        "id": "JxmBjX1W5UyL"
      },
      "execution_count": null,
      "outputs": []
    },
    {
      "cell_type": "code",
      "source": [
        "# Grouper par années, et conserver la moyenne (par années)\n",
        "df.groupby(['Année']).mean()"
      ],
      "metadata": {
        "id": "rvktIkSFM5lu"
      },
      "execution_count": null,
      "outputs": []
    },
    {
      "cell_type": "code",
      "source": [
        "# On peut même grouper selon plusieurs attributs :\n",
        "\n",
        "df['Catégorie'] = np.random.choice(['A', 'B'], len(df)) # On ajoute une nouvelle colonne (catégorie)\n",
        "\n",
        "df.groupby(['Année', 'Catégorie']).mean()"
      ],
      "metadata": {
        "id": "oH2PoyTqtzah"
      },
      "execution_count": null,
      "outputs": []
    },
    {
      "cell_type": "markdown",
      "source": [
        "## **2.6. Quelques statistiques descriptives**"
      ],
      "metadata": {
        "id": "j4agxbBq7TpH"
      }
    },
    {
      "cell_type": "code",
      "source": [
        "df.columns # Pour obtenir un objet listant les colonnes de la DF"
      ],
      "metadata": {
        "id": "yDOoKIKp7dn8"
      },
      "execution_count": null,
      "outputs": []
    },
    {
      "cell_type": "code",
      "source": [
        "df.index # même chose pour les étiquettes"
      ],
      "metadata": {
        "id": "_9ciVEjnAKdl"
      },
      "execution_count": null,
      "outputs": []
    },
    {
      "cell_type": "code",
      "source": [
        "# Pour obtenir un array des valeurs uniques d'une colonne :\n",
        "df['Catégorie'].unique()"
      ],
      "metadata": {
        "id": "SRq6bJO93Mx8"
      },
      "execution_count": null,
      "outputs": []
    },
    {
      "cell_type": "code",
      "source": [
        "# Pour obtenir le décompte du nombre d'occurence d'une valeur dans une colonne :\n",
        "df['Année'].value_counts()"
      ],
      "metadata": {
        "id": "26LrPV3W3l7n"
      },
      "execution_count": null,
      "outputs": []
    },
    {
      "cell_type": "code",
      "source": [
        "ndf =  df[['Var 1', 'Var 1 (normalisée)','Var 2','Var 3','Var 4']]\n",
        "ndf.mean(axis=1) # Méthode pour obtenir la moyenne des lignes\n"
      ],
      "metadata": {
        "id": "bQcKlPiCApcK"
      },
      "execution_count": null,
      "outputs": []
    },
    {
      "cell_type": "code",
      "source": [
        "ndf.mean(axis = 0) # Méthode pour obtenir la moyenne des colonnes"
      ],
      "metadata": {
        "id": "genljHK3AONB"
      },
      "execution_count": null,
      "outputs": []
    },
    {
      "cell_type": "code",
      "source": [
        "ndf.median(axis = 0) # Méthode pour obtenir la médiane des colonnes"
      ],
      "metadata": {
        "id": "UHnbI0P0Abt_"
      },
      "execution_count": null,
      "outputs": []
    },
    {
      "cell_type": "code",
      "source": [
        "# Statistiques descriptives du DF :\n",
        "ndf.describe()"
      ],
      "metadata": {
        "id": "VjSj7A277NHq"
      },
      "execution_count": null,
      "outputs": []
    },
    {
      "cell_type": "code",
      "source": [
        "# On peut conjuguer GroupBy et describe de manière efficace :\n",
        "df.groupby('Année').describe()"
      ],
      "metadata": {
        "id": "-Um-15d22cVT"
      },
      "execution_count": null,
      "outputs": []
    },
    {
      "cell_type": "markdown",
      "source": [
        "## **2.7. Exporter des données**"
      ],
      "metadata": {
        "id": "d1IBvIGI64PK"
      }
    },
    {
      "cell_type": "code",
      "source": [
        "# Pour exporter une DF vers un fichier CSV (ou autre : https://pandas.pydata.org/pandas-docs/stable/user_guide/io.html)\n",
        "df.to_csv('data2.csv')\n",
        "df['Var 1'].to_csv('Var_1.csv')\n",
        "df.groupby('Année').describe().to_csv('Stats_par_années.csv')"
      ],
      "metadata": {
        "id": "fYgzcxr97LiR"
      },
      "execution_count": null,
      "outputs": []
    }
  ]
}