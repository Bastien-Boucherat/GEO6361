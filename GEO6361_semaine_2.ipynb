{
  "nbformat": 4,
  "nbformat_minor": 0,
  "metadata": {
    "colab": {
      "provenance": [],
      "include_colab_link": true
    },
    "kernelspec": {
      "name": "python3",
      "display_name": "Python 3"
    },
    "language_info": {
      "name": "python"
    }
  },
  "cells": [
    {
      "cell_type": "markdown",
      "metadata": {
        "id": "view-in-github",
        "colab_type": "text"
      },
      "source": [
        "<a href=\"https://colab.research.google.com/github/Bastien-Boucherat/GEO6361/blob/main/GEO6361_semaine_2.ipynb\" target=\"_parent\"><img src=\"https://colab.research.google.com/assets/colab-badge.svg\" alt=\"Open In Colab\"/></a>"
      ]
    },
    {
      "cell_type": "markdown",
      "source": [
        "#Les bases de la programmation Python, partie 1"
      ],
      "metadata": {
        "id": "zLbMssU99qlv"
      }
    },
    {
      "cell_type": "markdown",
      "source": [
        "## Les variables"
      ],
      "metadata": {
        "id": "nSS4d-yL-CEX"
      }
    },
    {
      "cell_type": "markdown",
      "source": [
        "1. Assignez aux variables les valeurs suivantes :\n",
        "\n",
        "*   Votre prénom\n",
        "*   Votre nom\n",
        "*   Le département du cours (GEO)\n",
        "*   Le numéro du cours (6361)\n",
        "*   Un booléen indiquant si vous êtes inscrit au cours\n",
        "*   La durée du cours en heures (disons, pour l'exercice, que le cours dure 2h30)"
      ],
      "metadata": {
        "id": "aynuzhme-UWM"
      }
    },
    {
      "cell_type": "code",
      "execution_count": null,
      "metadata": {
        "id": "oqEAiyP69Z5y"
      },
      "outputs": [],
      "source": [
        "prenom =\n",
        "nom =\n",
        "dept_cours =\n",
        "num_cours =\n",
        "inscrit =\n",
        "duree_cours =\n",
        "\n",
        "# Code pour la correction automatique, ne pas modifier !\n",
        "if not isinstance(prenom, str) or not isinstance(nom, str) or not isinstance(dept_cours, str):\n",
        "    print(\"Il y a une erreur avec les variables 'prenom' ou 'nom' ou 'dept_cours'\")\n",
        "elif not isinstance(num_cours, int):\n",
        "    print(\"Il y a une erreur avec la variable 'num_cours'\")\n",
        "elif not isinstance(inscrit, bool):\n",
        "    print(\"Il y a une erreur avec la variable 'inscrit'\")\n",
        "elif not isinstance(duree_cours, float):\n",
        "    print(\"Il y a une erreur avec la variable 'duree_cours'\")\n",
        "else:\n",
        "    print(\"Tout semble fonctionner ! :)\")\n",
        "# fin du code de la correction automatique"
      ]
    },
    {
      "cell_type": "markdown",
      "source": [
        "2. Il y a une erreur par ligne, corrigez ces erreurs et exécutez la cellule :"
      ],
      "metadata": {
        "id": "3C2huOoAEmHL"
      }
    },
    {
      "cell_type": "code",
      "source": [
        "prenom = bastien # prenom doit être de type \"str\"\n",
        "inscrit = \"true\" # inscrit doit être de type \"bool\"\n",
        "durée_cours = \"2.5\" # duree_cours doit être de type \"float\"\n",
        "1_dept_cours = \"GEO\" # dept_cours doit être de type \"string\"\n",
        "2_num_cours = \"6361\" # num_cours doit être de type \"int\""
      ],
      "metadata": {
        "id": "vYC_hF2f_tVi"
      },
      "execution_count": null,
      "outputs": []
    },
    {
      "cell_type": "markdown",
      "source": [
        "3. créez une variable \"c\" qui est la somme des variables \"a\" et \"b\" (indice : il faut changer le type d'une des variables \"a\" ou \"b\")"
      ],
      "metadata": {
        "id": "Qtdgysd9HYmK"
      }
    },
    {
      "cell_type": "code",
      "source": [
        "a = 1\n",
        "b = \"2\""
      ],
      "metadata": {
        "id": "l8bXMG3eHzGN"
      },
      "execution_count": null,
      "outputs": []
    },
    {
      "cell_type": "markdown",
      "source": [
        "4. Imprimer à la ligne 3 la chaîne de caractères \"12\" en effectuant une opération sur les variables \"a\" et \"b\"\n",
        "(indice : il faut changer le type d'une des variables \"a\" ou \"b\")"
      ],
      "metadata": {
        "id": "FWQPbq_uH9Ht"
      }
    },
    {
      "cell_type": "code",
      "source": [
        "a = 1\n",
        "b = \"2\"\n"
      ],
      "metadata": {
        "id": "T58lARfFH5nK"
      },
      "execution_count": null,
      "outputs": []
    },
    {
      "cell_type": "markdown",
      "source": [
        "## Les listes"
      ],
      "metadata": {
        "id": "p01rOSBfcGfH"
      }
    },
    {
      "cell_type": "markdown",
      "source": [
        "Pour chaque exercice, commentez votre code afin d'expliquer comment vous procédez pour résoudre la question. Par exemple, pour répondre à la question \"Afficher la mot bonjour\":"
      ],
      "metadata": {
        "id": "D5V9K4jEjY7y"
      }
    },
    {
      "cell_type": "code",
      "source": [
        "# J'utilise la fonction Python \"print\"\n",
        "print(\"Bonjour !\")"
      ],
      "metadata": {
        "id": "3CWye9xTj8Fh"
      },
      "execution_count": null,
      "outputs": []
    },
    {
      "cell_type": "markdown",
      "source": [
        "1. En une seule ligne, créez une liste appelée \"nombres\" contenant les numéros de 1 à 5."
      ],
      "metadata": {
        "id": "FUPgAOoKcKFb"
      }
    },
    {
      "cell_type": "code",
      "source": [],
      "metadata": {
        "id": "mwOPYkJqfk4N"
      },
      "execution_count": null,
      "outputs": []
    },
    {
      "cell_type": "markdown",
      "source": [
        "2. Utilisez la méthode \"extend\" pour ajouter les valeurs 6, 7, et 8 à la liste nombres, puis imprimez la liste nombres."
      ],
      "metadata": {
        "id": "LOJdIETti7nK"
      }
    },
    {
      "cell_type": "code",
      "source": [],
      "metadata": {
        "id": "X7pIndZih56u"
      },
      "execution_count": null,
      "outputs": []
    },
    {
      "cell_type": "markdown",
      "source": [
        "3. Utilisez la méthode \"remove\" pour retirer le numéro 5 de la liste nombres, puis imprimez la liste \"nombres\"."
      ],
      "metadata": {
        "id": "JiUOXhXekMh0"
      }
    },
    {
      "cell_type": "code",
      "source": [],
      "metadata": {
        "id": "ovyLmJcXily-"
      },
      "execution_count": null,
      "outputs": []
    },
    {
      "cell_type": "markdown",
      "source": [
        "4. Utilisez la méthode pop pour retirer le 3e élément de la liste \"nombres\". Imprimez cet élément."
      ],
      "metadata": {
        "id": "U_7aeQT9kg9t"
      }
    },
    {
      "cell_type": "code",
      "source": [],
      "metadata": {
        "id": "WzoOuoX-kPCh"
      },
      "execution_count": null,
      "outputs": []
    },
    {
      "cell_type": "markdown",
      "source": [
        "5. Utilisez la méthode pop pour retirer le chiffre 7\n",
        " de la liste \"nombres\". Imprimez cet élément."
      ],
      "metadata": {
        "id": "Q7zVEv0nJZRq"
      }
    },
    {
      "cell_type": "code",
      "source": [],
      "metadata": {
        "id": "UIRHQcOaJZzg"
      },
      "execution_count": null,
      "outputs": []
    },
    {
      "cell_type": "markdown",
      "source": [
        "6. Imaginons que la liste \"nombres\" soit très longue et que nous ne savons pas combien d'éléments elle contient. Utilisez la méthode pop pour retirer le dernier élément de cette liste. Imprimez la nouvelle liste."
      ],
      "metadata": {
        "id": "IhfyM-9_lDwg"
      }
    },
    {
      "cell_type": "code",
      "source": [],
      "metadata": {
        "id": "zxs9s-9Zko2r"
      },
      "execution_count": null,
      "outputs": []
    },
    {
      "cell_type": "markdown",
      "source": [
        "7. Accédez au deuxième élément de la liste nombres et imprimez-le."
      ],
      "metadata": {
        "id": "MjCIV4Htlx47"
      }
    },
    {
      "cell_type": "code",
      "source": [],
      "metadata": {
        "id": "Ggnfp7OukUhX"
      },
      "execution_count": null,
      "outputs": []
    },
    {
      "cell_type": "markdown",
      "source": [
        "8. Créez une liste vide appelée fruits."
      ],
      "metadata": {
        "id": "gytLL9-SJC6o"
      }
    },
    {
      "cell_type": "code",
      "source": [],
      "metadata": {
        "id": "FD1ACKa06e5Q"
      },
      "execution_count": null,
      "outputs": []
    },
    {
      "cell_type": "markdown",
      "source": [
        "3. Utilisez la méthode \"append\" pour ajouter \"pomme\", \"banane\", \"fraise\" et \"cerise\" à la liste fruits (vous pouvez utiliser plusieurs lignes de code)."
      ],
      "metadata": {
        "id": "T3dsoGTSiCCV"
      }
    },
    {
      "cell_type": "code",
      "source": [],
      "metadata": {
        "id": "dNA4wKn_ltZn"
      },
      "execution_count": null,
      "outputs": []
    },
    {
      "cell_type": "markdown",
      "source": [
        "9. Créez une nouvelle liste à deux dimensions appellée \"inventaire\" qui contiendrait la liste \"fruits\", puis la liste \"nombres\" (la première ligne de la liste \"inventaire\" contiendrait donc les noms des fruits et la seconde contiendrait la quantité correspondante).\n"
      ],
      "metadata": {
        "id": "XxtPbod8lzzO"
      }
    },
    {
      "cell_type": "code",
      "source": [],
      "metadata": {
        "id": "oQ3geHHYncUp"
      },
      "execution_count": null,
      "outputs": []
    },
    {
      "cell_type": "markdown",
      "source": [
        "10. Accédez (en l'imprimant dans la console) à l'élément \"banane\" à partir de cette nouvelle structure.\n"
      ],
      "metadata": {
        "id": "FKGD7syYKxrH"
      }
    },
    {
      "cell_type": "code",
      "source": [],
      "metadata": {
        "id": "gm4BSoheKx0c"
      },
      "execution_count": null,
      "outputs": []
    }
  ]
}