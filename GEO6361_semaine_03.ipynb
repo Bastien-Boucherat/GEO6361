{
  "nbformat": 4,
  "nbformat_minor": 0,
  "metadata": {
    "colab": {
      "provenance": [],
      "include_colab_link": true
    },
    "kernelspec": {
      "name": "python3",
      "display_name": "Python 3"
    },
    "language_info": {
      "name": "python"
    }
  },
  "cells": [
    {
      "cell_type": "markdown",
      "metadata": {
        "id": "view-in-github",
        "colab_type": "text"
      },
      "source": [
        "<a href=\"https://colab.research.google.com/github/Bastien-Boucherat/GEO6361/blob/main/GEO6361_semaine_03.ipynb\" target=\"_parent\"><img src=\"https://colab.research.google.com/assets/colab-badge.svg\" alt=\"Open In Colab\"/></a>"
      ]
    },
    {
      "cell_type": "code",
      "execution_count": null,
      "metadata": {
        "id": "vDn5svtTc3Sq"
      },
      "outputs": [],
      "source": [
        "inscrits = [\n",
        "        [\"Nico\", \"GÉO6361\",  \"Montréal\", 65],\n",
        "        [\"Val\", \"GÉO6361\",  \"Laval\", 75],\n",
        "        [\"Véro\", \"GÉO6361\",  \"Longueuil\", 90],\n",
        "        [\"Paul\", \"GÉO6361\",  \"Montréal\", 85]\n",
        "    ]\n",
        "\n",
        "# Ex1 : Itération à travers les données des étudiants et concaténation des informations\n",
        "print(\"* Exercice 1\")\n",
        "for i in inscrits:\n",
        "        # Méthode classique de concaténation avec \"+\"\n",
        "        print(i[0] + \" prend le cours \" + i[1] + \" et habite à \" + i[2] + \".\")\n",
        "         # Méthode plus sophistiquée avec une \"f-string\"\n",
        "        print(f\"{i[0]} prend le cours {i[1]} et habite à {i[2]}.\")\n",
        "print()\n",
        "\n",
        "# Ex2 : Calculer la moyenne de la classe\n",
        "print(\"* Exercice 2\")\n",
        "\n",
        "# J'initialise une variable \"somme\" de valeur 0\n",
        "somme = 0\n",
        "\n",
        "# Itération à travers les données des étudiant.e.s\n",
        "for i in inscrits:\n",
        "    # J'incrémente la valeur de la somme à chaque nouvelle ligne du tableau\n",
        "    somme += i[3]\n",
        "\n",
        "# Je calcule et j'imprime la moyenne dans la console\n",
        "\n",
        "# avec des f-strings\n",
        "\n",
        "\n",
        "\n",
        "# Ex3 : Quelle est la note la plus élevée, et la plus faible ?\n",
        "print(\"* Exercice 3\")\n",
        "\n",
        "# J'initialise une liste vierge\n",
        "notes_seules = []\n",
        "\n",
        "# Itération à travers les données des étudiant.e.s\n",
        "for i in inscrits:\n",
        "    # J'ajoute la note, et seulement la note, à la liste \"notes_seules\"\n",
        "\n",
        "\n",
        "# Extraction de la note la plus élevée avec la fonction max()\n",
        "\n",
        "\n",
        "# Extraction de la note la plus faible avec la fonction min()\n",
        "\n",
        "\n",
        "print()\n",
        "\n",
        "# Autre manière d'extraire la valeur la plus faible avec la fonction \"sort\"\n",
        "notes_seules.sort()\n",
        "print(\"(Liste des notes triée par ordre croissant :\",notes_seules,\")\")\n",
        "note_minimum = notes_seules[0]\n",
        "print(\"La note minimum (extraite avec la méthode sort()) est {note}%\".format(note = note_minimum))\n",
        "\n",
        "print()\n",
        "\n",
        "# Ex4 : Qui a la note la plus élevée, et la plus faible ?\n",
        "print(\"* Exercice 4\")\n",
        "\n",
        "# Extraction de la note la plus basse avec \"lambda\" qui permet, dans ce cas précis, de trier une liste à deux dimensions selon la valeur de la 4e colonne\n",
        "\n",
        "# Extraction de la note la plus élevée avec \"lambda\" qui permet, dans ce cas précis, de trier une liste à deux dimensions selon la valeur de la 4e colonne\n",
        "\n",
        "print()\n",
        "\n",
        "# Ex5 : Et seulement à Montréal ?\n",
        "print(\"* Exercice 5\")\n",
        "\n",
        "# J'initialise une nouvelle liste vierge pour recenser seulement les notes des étudiant.e.s habitant à Montréal\n",
        "notes_mtl = []\n",
        "\n",
        "# Itération à travers les données des étudiant.e.s\n",
        "for i in inscrits:\n",
        "    # J'ajoute la note à la liste \"notes_seules_mtl\" si l'étudiant.e prend le cours de Montréal\n",
        "    if i[2] == \"Montréal\":\n"
      ]
    }
  ]
}