{
  "nbformat": 4,
  "nbformat_minor": 0,
  "metadata": {
    "colab": {
      "provenance": [],
      "include_colab_link": true
    },
    "kernelspec": {
      "name": "python3",
      "display_name": "Python 3"
    },
    "language_info": {
      "name": "python"
    }
  },
  "cells": [
    {
      "cell_type": "markdown",
      "metadata": {
        "id": "view-in-github",
        "colab_type": "text"
      },
      "source": [
        "<a href=\"https://colab.research.google.com/github/Bastien-Boucherat/GEO6361/blob/main/GEO6361_semaine_03.ipynb\" target=\"_parent\"><img src=\"https://colab.research.google.com/assets/colab-badge.svg\" alt=\"Open In Colab\"/></a>"
      ]
    },
    {
      "cell_type": "markdown",
      "source": [
        "#Les bases de la programmation Python, partie 2"
      ],
      "metadata": {
        "id": "zLbMssU99qlv"
      }
    },
    {
      "cell_type": "markdown",
      "source": [
        "## Les dictionnaires"
      ],
      "metadata": {
        "id": "p01rOSBfcGfH"
      }
    },
    {
      "cell_type": "markdown",
      "source": [
        "1. La liste suivante contiens des informations sur le nombre et le prix de différents fruits dans un inventaire :\n",
        "\n",
        "[['pomme', 'banane', 'fraise', 'cerise'], [2, 4, 6, 7], [1.5, 4.2, 1.2, 3.1]]\n",
        "\n",
        "* La première ligne fait référence aux dits-fruits\n",
        "* la deuxième fait référence au nombre de ces fruits à l'inventaire\n",
        "* la troisième fait référence au prix au kg\n",
        "\n",
        "Organisez ces données dans un dictionnaire nommé \"inventaire\" où la clé principale serait le nom du produit, et où leur nombre et leur prix seront stockées sous la forme de clés secondaires (respectivement \"nombre\" et \"prix\") dans un dictionnaire imbriqué.\n",
        "\n",
        "Vous pouvez simplement écrire dans le code ci dessous la stucture et le contenu du dictionnaire.\n",
        "\n"
      ],
      "metadata": {
        "id": "QTvUrvpms1Z0"
      }
    },
    {
      "cell_type": "code",
      "source": [
        "inventaire = {\n",
        "    \"pomme\":{\"nombre\":2,\"prix\":1.5},\n",
        "    \"banane\":{\"nombre\":4,\"prix\":4.2},\n",
        "    \"fraise\":{\"nombre\":6,\"prix\":1.2},\n",
        "    \"cerise\":{\"nombre\":7,\"prix\":3.1}\n",
        "}"
      ],
      "metadata": {
        "id": "3CWye9xTj8Fh"
      },
      "execution_count": null,
      "outputs": []
    },
    {
      "cell_type": "markdown",
      "source": [
        "2. Quel est le prix des fraises ? Et le nombre de bananes ? (utilisez la fonction \"print\")"
      ],
      "metadata": {
        "id": "0MTdNN-gzVdz"
      }
    },
    {
      "cell_type": "code",
      "source": [],
      "metadata": {
        "id": "PAufN_fgzdWQ"
      },
      "execution_count": null,
      "outputs": []
    },
    {
      "cell_type": "markdown",
      "source": [
        "3. Ajoutez un nouveau fruit : les mangues, dont le nombre est 3 (il n'y a pas d'information de prix sur les mangues).\n",
        "\n",
        "Imprimez l'inventaire dans la console."
      ],
      "metadata": {
        "id": "FOh6hP6exaVO"
      }
    },
    {
      "cell_type": "code",
      "source": [],
      "metadata": {
        "id": "RKg05_aNr-KP"
      },
      "execution_count": null,
      "outputs": []
    },
    {
      "cell_type": "markdown",
      "source": [
        "4. Mettez à jour le nombre de fraises, qui est désormais de 5."
      ],
      "metadata": {
        "id": "DAZh9b4fyJ4F"
      }
    },
    {
      "cell_type": "code",
      "source": [],
      "metadata": {
        "id": "UzmCkkhFyUuS"
      },
      "execution_count": null,
      "outputs": []
    },
    {
      "cell_type": "markdown",
      "source": [
        "5. Les mangues ont désormais un prix : 5.1\n",
        "Mettez le dictionnaire à jour."
      ],
      "metadata": {
        "id": "noGUtnzbyni_"
      }
    },
    {
      "cell_type": "code",
      "source": [],
      "metadata": {
        "id": "DSDB68jRyi-d"
      },
      "execution_count": null,
      "outputs": []
    },
    {
      "cell_type": "markdown",
      "source": [
        "6. Les pommes ne sont plus à l'inventaire. Supprimez cette clé."
      ],
      "metadata": {
        "id": "Iw0gJVS3yzea"
      }
    },
    {
      "cell_type": "code",
      "source": [],
      "metadata": {
        "id": "MhJa3iKFyxWd"
      },
      "execution_count": null,
      "outputs": []
    },
    {
      "cell_type": "markdown",
      "source": [
        "7. Les cerises n'ont plus d'information de \"nombre\". Effacez-la."
      ],
      "metadata": {
        "id": "c1mxFwNazBYw"
      }
    },
    {
      "cell_type": "code",
      "source": [],
      "metadata": {
        "id": "dDrEK59fzIoq"
      },
      "execution_count": null,
      "outputs": []
    },
    {
      "cell_type": "markdown",
      "source": [
        "##Les conditions"
      ],
      "metadata": {
        "id": "crxKEcWGogQ2"
      }
    },
    {
      "cell_type": "markdown",
      "source": [
        "8. Imprimez dans la console, sous la forme de booléens, les résultats des tests d'égalité, de supériorité, d'infériorité, et d'inégalité entre a et b.\n",
        "\n"
      ],
      "metadata": {
        "id": "j0nOgQnyFbYK"
      }
    },
    {
      "cell_type": "code",
      "source": [],
      "metadata": {
        "id": "IyMQpO-1oh9d"
      },
      "execution_count": null,
      "outputs": []
    },
    {
      "cell_type": "markdown",
      "source": [
        "9.\n",
        "\n",
        "* Est-ce que a est supérieur à b et b inférieur ou égal à c ?\n",
        "* Est-ce que a est différent de b et égale à c ?\n",
        "\n",
        "(imprimez les résultats dans la console)."
      ],
      "metadata": {
        "id": "09xzdCG6HvU9"
      }
    },
    {
      "cell_type": "code",
      "source": [],
      "metadata": {
        "id": "yP9g_JsHIOkX"
      },
      "execution_count": null,
      "outputs": []
    },
    {
      "cell_type": "markdown",
      "source": [
        "10. Corrigez ce code :"
      ],
      "metadata": {
        "id": "xoYKhBzBzr8u"
      }
    },
    {
      "cell_type": "code",
      "source": [
        "if a > b:\n",
        "  print(\"a est supérieur à b.\")\n",
        "else:\n",
        "  print(\"a n'est pas supérieur à b\")"
      ],
      "metadata": {
        "id": "nj5zfrGPGI52"
      },
      "execution_count": null,
      "outputs": []
    },
    {
      "cell_type": "markdown",
      "source": [
        "11. Écrivez un programme qui imprime dans la console la catégorie d'âge correspondant à la variable \"age\". \"Enfant\" devra être affiché pour les âges de 0 à 12 ans, \"Adolescent\" pour les âges de 13 à 19 ans, et \"Adulte\" pour les 20 ans et plus."
      ],
      "metadata": {
        "id": "aAUWjYPcGSal"
      }
    },
    {
      "cell_type": "code",
      "source": [
        "age = 18\n",
        "\n"
      ],
      "metadata": {
        "id": "Bkg1_D5cGs6a"
      },
      "execution_count": null,
      "outputs": []
    },
    {
      "cell_type": "markdown",
      "source": [
        "12. Écrivez un programme qui imprime dans la console \"il y a bien de la pizza et des crêpes menu\""
      ],
      "metadata": {
        "id": "IsZR0R55G50h"
      }
    },
    {
      "cell_type": "code",
      "source": [
        "menu = \"tacos, pizza, crêpes\"\n"
      ],
      "metadata": {
        "id": "epkaUN2UHUZu"
      },
      "execution_count": null,
      "outputs": []
    },
    {
      "cell_type": "markdown",
      "source": [
        "##Les boucles"
      ],
      "metadata": {
        "id": "Av2kmGS8ojAt"
      }
    },
    {
      "cell_type": "markdown",
      "source": [
        "13. Imprimez dans la console, en utilisant le moins de lignes possible (c'est à dire, dans ce cas, en utilisant une boucle \"for\"), tous les nombres entiers consécutifs de 1 à 30."
      ],
      "metadata": {
        "id": "EdyAs8owNs8F"
      }
    },
    {
      "cell_type": "code",
      "source": [],
      "metadata": {
        "id": "xW6-oxwdok54"
      },
      "execution_count": null,
      "outputs": []
    },
    {
      "cell_type": "markdown",
      "source": [
        "14. Reprenez ce code et modifiez-le pour qu'il n'imprime que les nombres pairs (on peut tester si un nombre est pair avec \"nombre % 2 == 0\")"
      ],
      "metadata": {
        "id": "hJePH4aFN5rQ"
      }
    },
    {
      "cell_type": "code",
      "source": [],
      "metadata": {
        "id": "TFn6BcnzOcaL"
      },
      "execution_count": null,
      "outputs": []
    },
    {
      "cell_type": "markdown",
      "source": [
        "15. Corrigez ce code :"
      ],
      "metadata": {
        "id": "gGT-m0uxzuX2"
      }
    },
    {
      "cell_type": "code",
      "source": [
        "for i in range(10)\n",
        "   print(i)"
      ],
      "metadata": {
        "id": "-X3CG-E3zuvE"
      },
      "execution_count": null,
      "outputs": []
    },
    {
      "cell_type": "markdown",
      "source": [
        "16. Imprimez tous les éléments de la liste 2D \"liste\" les uns au dessus des autres :"
      ],
      "metadata": {
        "id": "YQSFR_NInsrV"
      }
    },
    {
      "cell_type": "code",
      "source": [
        "liste = [[1,2,3],[4,5,6],[7,8,9],[10,11,12]]\n",
        "\n"
      ],
      "metadata": {
        "id": "p8SQU39Lnq70"
      },
      "execution_count": null,
      "outputs": []
    }
  ]
}