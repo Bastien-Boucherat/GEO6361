{
  "nbformat": 4,
  "nbformat_minor": 0,
  "metadata": {
    "colab": {
      "private_outputs": true,
      "provenance": [],
      "include_colab_link": true
    },
    "kernelspec": {
      "name": "python3",
      "display_name": "Python 3"
    },
    "language_info": {
      "name": "python"
    }
  },
  "cells": [
    {
      "cell_type": "markdown",
      "metadata": {
        "id": "view-in-github",
        "colab_type": "text"
      },
      "source": [
        "<a href=\"https://colab.research.google.com/github/Bastien-Boucherat/GEO6361/blob/main/GEO6361_semaine_07_vide.ipynb\" target=\"_parent\"><img src=\"https://colab.research.google.com/assets/colab-badge.svg\" alt=\"Open In Colab\"/></a>"
      ]
    },
    {
      "cell_type": "markdown",
      "source": [
        "**GEO6361 (semaine 7) : Application de Pandas + Introduction à GeoPandas**\n",
        "\n",
        "Cette semaine, nous allons utiliser la bibliothèque Pandas sur un jeu de données, et nous allons découvrir l'extension spatiale de Pandas (GeoPandas).\n",
        "\n",
        "Nous verrons comment :\n",
        "1. Manipuler des DataFrames\n",
        "2. Visualiser leur contenu (surtout des distributions)\n",
        "3. Faire des jointures spatiales\n",
        "4. Produire des cartes."
      ],
      "metadata": {
        "id": "zgv_bTOVjMdj"
      }
    },
    {
      "cell_type": "markdown",
      "source": [
        "## **1. Application de Pandas**"
      ],
      "metadata": {
        "id": "wEtHEaXLj8Kk"
      }
    },
    {
      "cell_type": "markdown",
      "source": [
        "### **1.1 Importons Pandas et les bilbiothèques utiles**"
      ],
      "metadata": {
        "id": "w-DQCHLPcbOy"
      }
    },
    {
      "cell_type": "code",
      "execution_count": null,
      "metadata": {
        "id": "L1pCYi4Pa3-E"
      },
      "outputs": [],
      "source": [
        "# Tout d'abord, on importe Pandas car c'est un module externe (mais préinstallé dans Google Colab)\n",
        "import pandas as pd\n",
        "\n",
        "# On importe également NumPy\n",
        "import numpy as np\n",
        "\n",
        "# Et le module maths dont on aura besoin dans les démonstrations\n",
        "import math"
      ]
    },
    {
      "cell_type": "markdown",
      "source": [
        "### **1.2 Lisons notre fichier CSV contenant les données et créons une DataFrame**"
      ],
      "metadata": {
        "id": "3_W6DSIgciZv"
      }
    },
    {
      "cell_type": "code",
      "source": [],
      "metadata": {
        "id": "v4dCyCkrbTjS"
      },
      "execution_count": null,
      "outputs": []
    },
    {
      "cell_type": "markdown",
      "source": [
        "**À quoi ressemblent les donnnées ?**\n",
        "\n",
        "Affichons les premières lignes (pour se faire une idée)"
      ],
      "metadata": {
        "id": "-UPeDPfKcmx3"
      }
    },
    {
      "cell_type": "code",
      "source": [],
      "metadata": {
        "id": "-FTvsQSCbnNd"
      },
      "execution_count": null,
      "outputs": []
    },
    {
      "cell_type": "markdown",
      "source": [
        "**Combien d'enregistrements le jeu de données possède-t-il ?**"
      ],
      "metadata": {
        "id": "wTanddwvTXdg"
      }
    },
    {
      "cell_type": "code",
      "source": [],
      "metadata": {
        "id": "0_QTP94u8hUz"
      },
      "execution_count": null,
      "outputs": []
    },
    {
      "cell_type": "markdown",
      "source": [
        "**On retire tous les enregistrements dont le prix est inférieur à 10,000\\$**"
      ],
      "metadata": {
        "id": "hlj6GTgc7ixZ"
      }
    },
    {
      "cell_type": "code",
      "source": [],
      "metadata": {
        "id": "Ek_gNO976v4W"
      },
      "execution_count": null,
      "outputs": []
    },
    {
      "cell_type": "markdown",
      "source": [
        "### **1.3 Gestion des données manquantes ?**"
      ],
      "metadata": {
        "id": "4D1GtPxZdHCP"
      }
    },
    {
      "cell_type": "code",
      "source": [],
      "metadata": {
        "id": "TSPMbeTGTxuZ"
      },
      "execution_count": null,
      "outputs": []
    },
    {
      "cell_type": "code",
      "source": [],
      "metadata": {
        "id": "xqLKVgEpDEg-"
      },
      "execution_count": null,
      "outputs": []
    },
    {
      "cell_type": "markdown",
      "source": [
        "**Certaines variables possédant des valeurs manquantes ne nous sont pas vraiment nécessaires:**"
      ],
      "metadata": {
        "id": "DsUIlDQ_oE3Q"
      }
    },
    {
      "cell_type": "code",
      "source": [],
      "metadata": {
        "id": "ImgtcYYcoEL8"
      },
      "execution_count": null,
      "outputs": []
    },
    {
      "cell_type": "markdown",
      "source": [
        "**On décide (c'est une décision contextuelle) de supprimer les lignes dont certaines données sont manquantes**"
      ],
      "metadata": {
        "id": "xhBoFe31fGaS"
      }
    },
    {
      "cell_type": "code",
      "source": [],
      "metadata": {
        "id": "KcdBy-DFejfH"
      },
      "execution_count": null,
      "outputs": []
    },
    {
      "cell_type": "markdown",
      "source": [
        "**Revérifions la quantité de données nulles**"
      ],
      "metadata": {
        "id": "d5ku2RXLUER0"
      }
    },
    {
      "cell_type": "code",
      "source": [],
      "metadata": {
        "id": "pio8XrV5dMNC"
      },
      "execution_count": null,
      "outputs": []
    },
    {
      "cell_type": "markdown",
      "source": [
        "**Trouver la liste des villes disponibles dans les données** (City)"
      ],
      "metadata": {
        "id": "xbdzzyYl2s2g"
      }
    },
    {
      "cell_type": "code",
      "source": [],
      "metadata": {
        "id": "-bkyPy2PrGXV"
      },
      "execution_count": null,
      "outputs": []
    },
    {
      "cell_type": "markdown",
      "source": [
        "**Et à Montréal ?**"
      ],
      "metadata": {
        "id": "M05Fvu8a0dpE"
      }
    },
    {
      "cell_type": "code",
      "source": [],
      "metadata": {
        "id": "gL8vaDC25HMx"
      },
      "execution_count": null,
      "outputs": []
    },
    {
      "cell_type": "code",
      "source": [],
      "metadata": {
        "id": "GPIDmB7PMMdY"
      },
      "execution_count": null,
      "outputs": []
    },
    {
      "cell_type": "markdown",
      "source": [
        "### **1.4 Quelques figures**"
      ],
      "metadata": {
        "id": "tYS2qGcS01h9"
      }
    },
    {
      "cell_type": "markdown",
      "source": [
        "#### **Pandas peut produire des figures d'assez bonne qualité.**\n",
        "\n",
        "Voir : https://pandas.pydata.org/pandas-docs/stable/user_guide/visualization.html"
      ],
      "metadata": {
        "id": "yBjRJW2H1Cdl"
      }
    },
    {
      "cell_type": "markdown",
      "source": [
        "**Histogramme des prix :**"
      ],
      "metadata": {
        "id": "1gO-7zgLfMgY"
      }
    },
    {
      "cell_type": "code",
      "source": [],
      "metadata": {
        "id": "sMh3f_joesl4"
      },
      "execution_count": null,
      "outputs": []
    },
    {
      "cell_type": "markdown",
      "source": [
        "**Pointes de tarte pour les variables catégorielles :**"
      ],
      "metadata": {
        "id": "ctFdLRALfRMw"
      }
    },
    {
      "cell_type": "markdown",
      "source": [
        "Avec la variable \"Category\" :"
      ],
      "metadata": {
        "id": "TjeFddJXfoSQ"
      }
    },
    {
      "cell_type": "code",
      "source": [],
      "metadata": {
        "id": "Wdk5QnIxft4f"
      },
      "execution_count": null,
      "outputs": []
    },
    {
      "cell_type": "code",
      "source": [],
      "metadata": {
        "id": "yT1_khEG2yms"
      },
      "execution_count": null,
      "outputs": []
    },
    {
      "cell_type": "markdown",
      "source": [
        "Avec la variable \"BedRoom\" :"
      ],
      "metadata": {
        "id": "QnbPYQckf1gZ"
      }
    },
    {
      "cell_type": "code",
      "source": [],
      "metadata": {
        "id": "K5eW25mBf0eb"
      },
      "execution_count": null,
      "outputs": []
    },
    {
      "cell_type": "markdown",
      "source": [
        "####**On peut également utiliser un autre module : Seaborn.** Voir : https://seaborn.pydata.org"
      ],
      "metadata": {
        "id": "aMb_GUoQ3puf"
      }
    },
    {
      "cell_type": "code",
      "source": [
        "import seaborn as sns\n",
        "import matplotlib.pyplot as plt"
      ],
      "metadata": {
        "id": "EjIJlHZOgOyK"
      },
      "execution_count": null,
      "outputs": []
    },
    {
      "cell_type": "code",
      "source": [],
      "metadata": {
        "id": "FxSld3qkvfD5"
      },
      "execution_count": null,
      "outputs": []
    },
    {
      "cell_type": "code",
      "source": [],
      "metadata": {
        "id": "jZCCDgUXhhq6"
      },
      "execution_count": null,
      "outputs": []
    },
    {
      "cell_type": "markdown",
      "source": [
        "**Afficher des statistiques descriptives par quartier :**"
      ],
      "metadata": {
        "id": "-3YW5GeS6AeC"
      }
    },
    {
      "cell_type": "code",
      "source": [],
      "metadata": {
        "id": "utw0gDwO3uz1"
      },
      "execution_count": null,
      "outputs": []
    },
    {
      "cell_type": "code",
      "source": [],
      "metadata": {
        "id": "kcfMazzb8YBm"
      },
      "execution_count": null,
      "outputs": []
    },
    {
      "cell_type": "code",
      "source": [],
      "metadata": {
        "id": "NWK_O5oaAW_L"
      },
      "execution_count": null,
      "outputs": []
    },
    {
      "cell_type": "code",
      "source": [],
      "metadata": {
        "id": "vpGZjaC_CkWZ"
      },
      "execution_count": null,
      "outputs": []
    },
    {
      "cell_type": "code",
      "source": [],
      "metadata": {
        "id": "6g3eQBF6_C2B"
      },
      "execution_count": null,
      "outputs": []
    },
    {
      "cell_type": "markdown",
      "source": [
        "## **2. GeoPandas (Pandas spatial)**"
      ],
      "metadata": {
        "id": "A8VA6QJbJSBQ"
      }
    },
    {
      "cell_type": "markdown",
      "source": [
        "**Attention** : avant d'utiliser GeoPandas, nous devons installer des bibliothèques externes. Pour cela, décommentez les lignes de la cellule suivante et exécutez-la (ça peut prendre du temps !). Recommentez ensuite ces lignes pour ne pas les ré-exécuter par inadvertance."
      ],
      "metadata": {
        "id": "fwfyMLP0JVE7"
      }
    },
    {
      "cell_type": "markdown",
      "source": [
        "### **2.1 Installons les modules requis pour cette section, et importons-les**"
      ],
      "metadata": {
        "id": "KMQqHopTGaSw"
      }
    },
    {
      "cell_type": "code",
      "source": [
        "# %%capture fait en sorte que les multiples sorties de la cellule ne soient pas affichées dans la console\n",
        "%%capture\n",
        "# %%time nous donnera le temps d'exécution de la cellule\n",
        "%%time\n",
        "\n",
        "!apt-get install -qq curl g++ make\n",
        "!curl -L http://download.osgeo.org/libspatialindex/spatialindex-src-1.8.5.tar.gz | tar xz\n",
        "import os\n",
        "os.chdir('spatialindex-src-1.8.5')\n",
        "!./configure\n",
        "!make\n",
        "!make install\n",
        "!pip install rtree\n",
        "!ldconfig\n",
        "!pip install geopandas\n",
        "!pip install mapclassify\n",
        "!pip install contextily"
      ],
      "metadata": {
        "id": "aoQjqx61JQkr"
      },
      "execution_count": null,
      "outputs": []
    },
    {
      "cell_type": "code",
      "source": [
        "# On importe GeoPandas et on lui attribue l'alias gpd\n",
        "import geopandas as gpd"
      ],
      "metadata": {
        "id": "zIIsqkLI5YMP"
      },
      "execution_count": null,
      "outputs": []
    },
    {
      "cell_type": "markdown",
      "source": [
        "### **2.2 Produisons des couches spatiales**"
      ],
      "metadata": {
        "id": "cPvC4jJWD3HC"
      }
    },
    {
      "cell_type": "markdown",
      "source": [
        "#### **Convertir notre Dataframe en GeoDataFrame**"
      ],
      "metadata": {
        "id": "gznB1tz9JoG9"
      }
    },
    {
      "cell_type": "code",
      "source": [],
      "metadata": {
        "id": "fRiw_vQiJM1W"
      },
      "execution_count": null,
      "outputs": []
    },
    {
      "cell_type": "code",
      "source": [
        "# On peut produire des cartes simples très rapidement avec GeoPandas\n"
      ],
      "metadata": {
        "id": "STb9cJ6TK_ty"
      },
      "execution_count": null,
      "outputs": []
    },
    {
      "cell_type": "markdown",
      "source": [
        "#### **Créons une couche GPD à partir d'un GeoJSON externe**"
      ],
      "metadata": {
        "id": "nOrhQLFUELuE"
      }
    },
    {
      "cell_type": "code",
      "source": [
        "# Importer le fichier geojson externe et vérifier le système de coordonnées\n",
        "\n",
        "\n",
        "# Le convertir\n",
        "\n",
        "\n",
        "# Afficher les données\n"
      ],
      "metadata": {
        "id": "3eYGxUksKV7K"
      },
      "execution_count": null,
      "outputs": []
    },
    {
      "cell_type": "markdown",
      "source": [
        "### **2.3. Faire une jointure spatiale pour calculer les prix par quartiers**"
      ],
      "metadata": {
        "id": "aIYZkR2IQ3zb"
      }
    },
    {
      "cell_type": "code",
      "source": [],
      "metadata": {
        "id": "8CD3iJ9DRHW2"
      },
      "execution_count": null,
      "outputs": []
    },
    {
      "cell_type": "markdown",
      "source": [
        "**Nous pouvons maintenant effectuer une opération de dissolution (aggregation) sur nos enregistrements**\n",
        "\n",
        "Tous les enregistrement possèdant le même nom de quartier seront aggrégés et leurs colonnes moyennées."
      ],
      "metadata": {
        "id": "Xakoc4OtKUDS"
      }
    },
    {
      "cell_type": "code",
      "source": [],
      "metadata": {
        "id": "KQgZX0jJcD4V"
      },
      "execution_count": null,
      "outputs": []
    },
    {
      "cell_type": "markdown",
      "source": [
        "### **2.4. Un peu de cartographie (simple)**"
      ],
      "metadata": {
        "id": "FnoNfFZUeLgH"
      }
    },
    {
      "cell_type": "markdown",
      "source": [
        "**Produisons une carte choroplèthe des prix moyens par quartier.**"
      ],
      "metadata": {
        "id": "hprMC_GJLze4"
      }
    },
    {
      "cell_type": "code",
      "source": [],
      "metadata": {
        "id": "ncSotsVKeWP2"
      },
      "execution_count": null,
      "outputs": []
    },
    {
      "cell_type": "markdown",
      "source": [
        "**Ajouter un fond de carte (personnalisé)**"
      ],
      "metadata": {
        "id": "l88pmT1JRA2V"
      }
    },
    {
      "cell_type": "code",
      "source": [
        "import contextily as cx"
      ],
      "metadata": {
        "id": "jlnj_jwqwQKx"
      },
      "execution_count": null,
      "outputs": []
    },
    {
      "cell_type": "code",
      "source": [],
      "metadata": {
        "id": "AHiz2YGhkr3T"
      },
      "execution_count": null,
      "outputs": []
    },
    {
      "cell_type": "code",
      "source": [],
      "metadata": {
        "id": "ZV7UWWsZLsT3"
      },
      "execution_count": null,
      "outputs": []
    },
    {
      "cell_type": "markdown",
      "source": [
        "### **2.4. Exporter des données spatiales**"
      ],
      "metadata": {
        "id": "1wyqnSXJgPun"
      }
    },
    {
      "cell_type": "code",
      "source": [],
      "metadata": {
        "id": "10hYu07ggRzV"
      },
      "execution_count": null,
      "outputs": []
    }
  ]
}