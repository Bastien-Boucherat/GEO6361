{
  "nbformat": 4,
  "nbformat_minor": 0,
  "metadata": {
    "colab": {
      "provenance": [],
      "include_colab_link": true
    },
    "kernelspec": {
      "name": "python3",
      "display_name": "Python 3"
    },
    "language_info": {
      "name": "python"
    }
  },
  "cells": [
    {
      "cell_type": "markdown",
      "metadata": {
        "id": "view-in-github",
        "colab_type": "text"
      },
      "source": [
        "<a href=\"https://colab.research.google.com/github/Bastien-Boucherat/GEO6361/blob/main/GEO6361_TP1_pr%C3%A9nom_nom.ipynb\" target=\"_parent\"><img src=\"https://colab.research.google.com/assets/colab-badge.svg\" alt=\"Open In Colab\"/></a>"
      ]
    },
    {
      "cell_type": "markdown",
      "source": [
        "TP1 remis par *(à modifiez par vous)*\n",
        "\n",
        "*   *Prénom, nom, matricule*\n",
        "*   *Prénom, nom, matricule*\n"
      ],
      "metadata": {
        "id": "PYyMES-xS-PI"
      }
    },
    {
      "cell_type": "markdown",
      "source": [
        "**Étapes préparatoires** :\n",
        "* **Téléchargez** le fichier \"Inspections des aliments et contrevenants\" au format CSV disponible à cette adresse : https://donnees.montreal.ca/dataset/inspection-aliments-contrevenants\n",
        "Déplacez le fichier dans la partie \"fichiers\" à gauche de l'interface\n",
        "* **Importez** le fichier CSV avec le code suivant :"
      ],
      "metadata": {
        "id": "HPtR8TFSvttp"
      }
    },
    {
      "cell_type": "code",
      "execution_count": null,
      "metadata": {
        "id": "gD29-EpPfHDc"
      },
      "outputs": [],
      "source": [
        "import time\n",
        "t0 = time.time()\n",
        "\n",
        "# Importation du module CSV de Python\n",
        "import csv\n",
        "\n",
        "# ouverture du fichier de données\n",
        "with open('violations.csv', newline='') as f:\n",
        "    # Lecture des données brutes...\n",
        "    donnees_brutes = csv.reader(f)\n",
        "    # ... et conversion en liste :\n",
        "    liste = list(donnees_brutes)"
      ]
    },
    {
      "cell_type": "markdown",
      "source": [
        "**Q1 : Affichez dans la console, en utilisant une boucle \"for\", une liste des variables disponibles dans ce fichier** (1 point)"
      ],
      "metadata": {
        "id": "K-XowtKG1kGZ"
      }
    },
    {
      "cell_type": "markdown",
      "source": [
        "*Écrivez ici une description (un court paragraphe) de votre approche pour résoudre le problème (0,5 point).*"
      ],
      "metadata": {
        "id": "qkvEKfmwyoaP"
      }
    },
    {
      "cell_type": "code",
      "source": [
        "# Écrivez votre code ici"
      ],
      "metadata": {
        "id": "_lkmFHa01jvf"
      },
      "execution_count": null,
      "outputs": []
    },
    {
      "cell_type": "markdown",
      "source": [
        "**Q2 : Affichez dans la console la somme des montants d'infraction à Verdun** (variables \"montant_infr\" et \"ville\") (1 point). **Afin de sophistiquer votre code, faites en sorte que la ville puisse être modifiée en changeant la valeur d'une variable que vous définirez** (1 point)."
      ],
      "metadata": {
        "id": "sKiW56Myj8kR"
      }
    },
    {
      "cell_type": "markdown",
      "source": [
        "*Écrivez ici une description (un court paragraphe) de votre approche pour résoudre le problème (0,5 point).*"
      ],
      "metadata": {
        "id": "GvYePaiMzTz-"
      }
    },
    {
      "cell_type": "code",
      "source": [
        "# Écrivez votre code ici"
      ],
      "metadata": {
        "id": "s2rQqi7Sg1WF"
      },
      "execution_count": null,
      "outputs": []
    },
    {
      "cell_type": "markdown",
      "source": [
        "**Q3 : Dupliquez votre code de la question précédente, et modifiez-le afin de faire en sorte que la recherche puisse être effectuée sur une année en particulier** (l'année devra être mis dans une variable nommée \"annee\") (1 point)."
      ],
      "metadata": {
        "id": "3lPDMuE1GscL"
      }
    },
    {
      "cell_type": "markdown",
      "source": [
        "*Écrivez ici une description (un court paragraphe) de votre approche pour résoudre le problème (0,5 point).*"
      ],
      "metadata": {
        "id": "v2JGGBDjz7_1"
      }
    },
    {
      "cell_type": "code",
      "source": [
        "# Écrivez votre code ici"
      ],
      "metadata": {
        "id": "jE0lxoqJGsCe"
      },
      "execution_count": null,
      "outputs": []
    },
    {
      "cell_type": "markdown",
      "source": [
        "**Q4 : Dupliquez le code de la question précédente, et transformez-le afin d'en faire une fonction** (nommez-la \"cumul_montants_infr\") **qui prendrait comme paramètres \"ville\" et \"annee\", et qui retournerait la somme des montants des infractions** (avec la commande \"return\") (1 point). **Imprimez dans la console deux phrases présentant les résultats de cette fonction pour la ville \"Lachine\" en 2020 et 2021** (1 point). **Améliorez votre code afin de fournir un message d'erreur si la ville ou l'année n'existe pas dans les données** (1 point)"
      ],
      "metadata": {
        "id": "imAFeGClhLLT"
      }
    },
    {
      "cell_type": "markdown",
      "source": [
        "*Écrivez ici une description (un court paragraphe) de votre approche pour résoudre le problème (0,5 point).*"
      ],
      "metadata": {
        "id": "fqo6IJLE1zSG"
      }
    },
    {
      "cell_type": "code",
      "source": [
        "# Écrivez votre code ici"
      ],
      "metadata": {
        "id": "I8I3EjsmhxcT"
      },
      "execution_count": null,
      "outputs": []
    },
    {
      "cell_type": "markdown",
      "source": [
        "**Q5 : Créez une liste, nommée \"liste_villes\", de tous les villes présents dans les données** (sans duplicats) (1 point). PS. pensez à exclure le nom de la variable \"ville\" (titre de la colonne)..."
      ],
      "metadata": {
        "id": "t6H8tl1rk-t4"
      }
    },
    {
      "cell_type": "markdown",
      "source": [
        "*Écrivez ici une description (un court paragraphe) de votre approche pour résoudre le problème (0,5 point).*"
      ],
      "metadata": {
        "id": "Rm8SUTou19kB"
      }
    },
    {
      "cell_type": "code",
      "source": [
        "# Écrivez votre code ici"
      ],
      "metadata": {
        "id": "yq-4j59vk-V6"
      },
      "execution_count": null,
      "outputs": []
    },
    {
      "cell_type": "markdown",
      "source": [
        "**Q6 : Affichez** (en composant une phrase)**, le nom de la ville qui a connu la plus importante augmentation du montant des infractions entre 2020 et 2021**, et **celui qui a connu la plus faible augmentation (ou la plus grande baisse) sur cette période** (2 points). PS. À noter que, compte tenu de la nature des données, ce genre d'analyse ne signifie pas grand chose..."
      ],
      "metadata": {
        "id": "wfRbd8zL-Klh"
      }
    },
    {
      "cell_type": "markdown",
      "source": [
        "*Écrivez ici une description (un court paragraphe) de votre approche pour résoudre le problème (0,5 point).*\n"
      ],
      "metadata": {
        "id": "E0Q6gHEG2H0l"
      }
    },
    {
      "cell_type": "code",
      "source": [
        "# Écrivez votre code ici"
      ],
      "metadata": {
        "id": "wA9lxIE9-BV8"
      },
      "execution_count": null,
      "outputs": []
    },
    {
      "cell_type": "markdown",
      "source": [
        "**Q7 : Dupliquez le code de la question précédente, et transformez-le afin d'indiquer le pourcentage d'augmentation ou de réduction des montants d'infraction arrondi à l'entier le plus proche** (1 point).\n",
        "PS. À noter que, compte tenu de la nature des données, ce genre d'analyse ne signifie pas grand chose..."
      ],
      "metadata": {
        "id": "hPHuoleswiXq"
      }
    },
    {
      "cell_type": "markdown",
      "source": [
        "*Écrivez ici une description (un court paragraphe) de votre approche pour résoudre le problème (0,5 point).*"
      ],
      "metadata": {
        "id": "BZecg7TF2wxe"
      }
    },
    {
      "cell_type": "code",
      "source": [
        "# Écrivez votre code ici"
      ],
      "metadata": {
        "id": "YroImLW-yg0v"
      },
      "execution_count": null,
      "outputs": []
    }
  ]
}