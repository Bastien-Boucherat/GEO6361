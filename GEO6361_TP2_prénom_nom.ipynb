{
  "nbformat": 4,
  "nbformat_minor": 0,
  "metadata": {
    "colab": {
      "provenance": []
    },
    "kernelspec": {
      "name": "python3",
      "display_name": "Python 3"
    },
    "language_info": {
      "name": "python"
    }
  },
  "cells": [
    {
      "cell_type": "markdown",
      "source": [
        "TP2 remis par (à modifiez par vous)\n",
        "\n",
        "*   *Prénom, nom, matricule*\n",
        "*   *Prénom, nom, matricule*"
      ],
      "metadata": {
        "id": "PYyMES-xS-PI"
      }
    },
    {
      "cell_type": "markdown",
      "source": [
        "**Étape préparatoire 1** :\n",
        "* La cellule ci-dessous installe et importe des modules externes Python qui ne sont pas pré-installés dans Google Colab\n",
        "* Avant de commencer à travailler sur votre TP, dé-commentez les lignes de la cellule, exécutez-la, puis recommentez la cellule."
      ],
      "metadata": {
        "id": "HPtR8TFSvttp"
      }
    },
    {
      "cell_type": "code",
      "source": [
        "# %%capture\n",
        "# !pip install contextily\n",
        "# !pip install mapclassify"
      ],
      "metadata": {
        "id": "TFrB1iskuMDu"
      },
      "execution_count": null,
      "outputs": []
    },
    {
      "cell_type": "markdown",
      "source": [
        "**Étape préparatoire 2** : importez le *package* **Pandas** et lui donner l'alias habituel `pd`"
      ],
      "metadata": {
        "id": "wJEa1z8JwTh0"
      }
    },
    {
      "cell_type": "code",
      "source": [
        "import pandas as pd\n",
        "import matplotlib.pyplot as plt"
      ],
      "metadata": {
        "id": "JGkP9keiwk8-"
      },
      "execution_count": null,
      "outputs": []
    },
    {
      "cell_type": "markdown",
      "source": [
        "**Étape préparatoire 3** : `pd.read_csv` pour importer des données au format csv. (données obtenues sur [iNaturalist](https://www.inaturalist.org/observations/export))."
      ],
      "metadata": {
        "id": "9qVt7H2tuPDs"
      }
    },
    {
      "cell_type": "code",
      "source": [
        "df = pd.read_csv(\"/content/iNat_observations.csv\")"
      ],
      "metadata": {
        "id": "Wx01AEMFQC1U"
      },
      "execution_count": null,
      "outputs": []
    },
    {
      "cell_type": "markdown",
      "source": [
        "**Q1 : Pandas a chargé les données et les a organisées dans une *DataFrame*.**\n",
        "\n",
        "1.   Affichons dans la console les cinq premières lignes de cette dataframe (0.5 point)\n",
        "2.   Sélectionnons et réorganisons les colonnes afin que la dataframe contiennent les colonnes suivantes dans cet ordre : 'date', 'nom_scientifique', 'taxon', 'latitude', 'longitude' (0.5 point)\n",
        "3.   Affichons dans la console le nombre de lignes contenues dans le tableau (composez une phrase lorsque vous affichez ce résultat) (0.5 point)."
      ],
      "metadata": {
        "id": "K-XowtKG1kGZ"
      }
    },
    {
      "cell_type": "code",
      "source": [],
      "metadata": {
        "id": "_lkmFHa01jvf"
      },
      "execution_count": null,
      "outputs": []
    },
    {
      "cell_type": "code",
      "source": [],
      "metadata": {
        "id": "iS_QRF8g_Oh5"
      },
      "execution_count": null,
      "outputs": []
    },
    {
      "cell_type": "code",
      "source": [],
      "metadata": {
        "id": "TuoK7GmTgENo"
      },
      "execution_count": null,
      "outputs": []
    },
    {
      "cell_type": "markdown",
      "source": [
        "**Q2 : Imprimez dans la console, en utilisant une boucle \"for\", les variables disponibles dans ce fichier** (1 point).\n",
        "\n",
        "**Résultat attendu** : le nom de chacune des colonnes, affiché dans la console l'un au dessus de l'autre."
      ],
      "metadata": {
        "id": "Plh_GoCYEzvW"
      }
    },
    {
      "cell_type": "code",
      "source": [],
      "metadata": {
        "id": "w5Sg2Rd5_M_U"
      },
      "execution_count": null,
      "outputs": []
    },
    {
      "cell_type": "markdown",
      "source": [
        "**Q3 : Affichez les types de chaque colonne (avec dtypes)** (0,5 point).\n",
        "\n",
        "**Résultat attendu** : le type de chacune des colonnes, affiché dans la console."
      ],
      "metadata": {
        "id": "ueuXtswidoCZ"
      }
    },
    {
      "cell_type": "code",
      "source": [],
      "metadata": {
        "id": "_FLfqDpz_QIY"
      },
      "execution_count": null,
      "outputs": []
    },
    {
      "cell_type": "markdown",
      "source": [
        "**Q4 : On constate que la première colonne est de type `object`. Convertissons-la vers le type qui lui est approprié.** (`pd.to_datetime(une_colonne)` peut convertir vers le format \"date\". **Ré-affichez les types des colonnes une fois la conversion effectuée.** (0,5 point)"
      ],
      "metadata": {
        "id": "iPvuAiCbdzjU"
      }
    },
    {
      "cell_type": "code",
      "source": [],
      "metadata": {
        "id": "CDhDLGqN_ScH"
      },
      "execution_count": null,
      "outputs": []
    },
    {
      "cell_type": "markdown",
      "source": [
        "**Q5 : Affichez le nombre total de valeurs manquantes par colonne** (0.5 point), puis **modifiez la DataFrame afin de retirer les enregistrements pour lesquelles les coordonnées géographiques sont manquantes** (0.5 point).\n",
        "\n",
        "**Résultat attendu** : le nombre de valeurs nulles par colonne."
      ],
      "metadata": {
        "id": "xE3UKVIBgzgB"
      }
    },
    {
      "cell_type": "code",
      "source": [],
      "metadata": {
        "id": "mu2A5A6R_U9n"
      },
      "execution_count": null,
      "outputs": []
    },
    {
      "cell_type": "code",
      "source": [],
      "metadata": {
        "id": "msCTAu6j_bN7"
      },
      "execution_count": null,
      "outputs": []
    },
    {
      "cell_type": "code",
      "source": [],
      "metadata": {
        "id": "RQosi67J_U13"
      },
      "execution_count": null,
      "outputs": []
    },
    {
      "cell_type": "markdown",
      "source": [
        "**Q6 : À partir de la DataFrame originale, créez trois DataFrames distinctes pour les taxons « Aves », « Mammalia » et « Insecta » nommées respectivement `df_aves`, `df_mammalia` et `df_insecta`.** (1,5 points)\n",
        "\n",
        "Affichez le nombre de lignes contenues dans les 3 tableaux (composez une phrase, comme pour la question 1)."
      ],
      "metadata": {
        "id": "3w5hfXqPHMwL"
      }
    },
    {
      "cell_type": "code",
      "source": [],
      "metadata": {
        "id": "6pteW24N_fWq"
      },
      "execution_count": null,
      "outputs": []
    },
    {
      "cell_type": "code",
      "source": [],
      "metadata": {
        "id": "uaG0Mz9X_fNo"
      },
      "execution_count": null,
      "outputs": []
    },
    {
      "cell_type": "markdown",
      "source": [
        "**Q7 : Utilisez la méthode « groupby » pour calculer le nombre d'observations d'oiseaux faites par mois de l'année (1-12). Appelez cette série « df_aves_mois ».** Selon le même schéma, répétez l'opération pour les observations de mammifères et d'insectes. (1 point)\n",
        "\n",
        "PS. On peut utiliser `df['date'].dt.month` pour grouper selon le mois de l'année."
      ],
      "metadata": {
        "id": "MhAdWkhYhjT1"
      }
    },
    {
      "cell_type": "code",
      "source": [],
      "metadata": {
        "id": "baUgnbys_nsv"
      },
      "execution_count": null,
      "outputs": []
    },
    {
      "cell_type": "code",
      "source": [],
      "metadata": {
        "id": "dy3NFvfv_pDj"
      },
      "execution_count": null,
      "outputs": []
    },
    {
      "cell_type": "code",
      "source": [],
      "metadata": {
        "id": "g9-3d8n0_nhA"
      },
      "execution_count": null,
      "outputs": []
    },
    {
      "cell_type": "markdown",
      "source": [
        "**Q8 : Concaténez les Series produites dans la Q7 à l'intérieur d'une DataFrame que vous nommerez \"df_mois\" et veillez à attribuer des titres aux colonnes.** (0.5 point)\n",
        "\n",
        "PS. On peut utiliser `pd.concat([une_serie,une_autre_serie],axis=1)` pour effectuer cette concaténation."
      ],
      "metadata": {
        "id": "cTqScj6vkdVm"
      }
    },
    {
      "cell_type": "code",
      "source": [],
      "metadata": {
        "id": "_VIC1Ksg_s87"
      },
      "execution_count": null,
      "outputs": []
    },
    {
      "cell_type": "code",
      "source": [],
      "metadata": {
        "id": "u8NvroRE_smO"
      },
      "execution_count": null,
      "outputs": []
    },
    {
      "cell_type": "markdown",
      "source": [
        "**Q9 : Utilisez la méthode `.plot.bar` pour visualiser df_mois dans une figure de taille 10x6.** (0.5 point)"
      ],
      "metadata": {
        "id": "ChjBR6fTqNc8"
      }
    },
    {
      "cell_type": "code",
      "source": [],
      "metadata": {
        "id": "qXwUdXcY_usP"
      },
      "execution_count": null,
      "outputs": []
    },
    {
      "cell_type": "markdown",
      "source": [
        "**Q10 : Répétez les opérations des questions 7, 8 et 9 en groupant par année plutôt que par mois** (1 point)"
      ],
      "metadata": {
        "id": "qqF0jJ2Dq68u"
      }
    },
    {
      "cell_type": "code",
      "source": [],
      "metadata": {
        "id": "nNUPalN6_yZ4"
      },
      "execution_count": null,
      "outputs": []
    },
    {
      "cell_type": "code",
      "source": [],
      "metadata": {
        "id": "PITP5ISA_ySq"
      },
      "execution_count": null,
      "outputs": []
    },
    {
      "cell_type": "code",
      "source": [],
      "metadata": {
        "id": "OzOiePz8_0Wn"
      },
      "execution_count": null,
      "outputs": []
    },
    {
      "cell_type": "code",
      "source": [],
      "metadata": {
        "id": "o9hoUyG8_wvV"
      },
      "execution_count": null,
      "outputs": []
    },
    {
      "cell_type": "markdown",
      "source": [
        "**Étape préparatoire à la suite du TP : Importez GeoPandas et donnez-lui l'alias gpd.**"
      ],
      "metadata": {
        "id": "PXOyDZ4Ot7LF"
      }
    },
    {
      "cell_type": "code",
      "source": [
        "import geopandas as gpd"
      ],
      "metadata": {
        "id": "jms0nfjrtavQ"
      },
      "execution_count": null,
      "outputs": []
    },
    {
      "cell_type": "markdown",
      "source": [
        "**Q11 : Convertissez `df` en une `GeoDataframe` nommée \"observations\". Reprojetez cette couche vers EPSG:3857. Vérifiez que tout a fonctionné en affichant la couche avec un `plot` de taille 10x10** (2 points)"
      ],
      "metadata": {
        "id": "y7_quZc6t-8E"
      }
    },
    {
      "cell_type": "code",
      "source": [],
      "metadata": {
        "id": "SAT7LvAh_2Q7"
      },
      "execution_count": null,
      "outputs": []
    },
    {
      "cell_type": "code",
      "source": [],
      "metadata": {
        "id": "LR7DK6UT_3hA"
      },
      "execution_count": null,
      "outputs": []
    },
    {
      "cell_type": "code",
      "source": [],
      "metadata": {
        "id": "jdWCUqsJ_5vL"
      },
      "execution_count": null,
      "outputs": []
    },
    {
      "cell_type": "markdown",
      "source": [
        "**Q12 :** (2 points)\n",
        "* **Produisez un nouvel objet GeoPandas (que vous nommerez \"ad_montreal\"), contenant cette fois le découpage de Statistiques Canada de Montréal par aires de diffusion** (fichier \"limites_AD_montréal.geojson\")\n",
        "* **Assurez-vous que les deux couches sont dans la même projection** (reprojetez une des deux au besoin)\n",
        "* **Vérifiez que tout a fonctionné en affichant la couche avec un `plot` de taille 10x10**"
      ],
      "metadata": {
        "id": "6LzVZGYqwkJj"
      }
    },
    {
      "cell_type": "code",
      "source": [],
      "metadata": {
        "id": "Zb69qrvw__Zp"
      },
      "execution_count": null,
      "outputs": []
    },
    {
      "cell_type": "code",
      "source": [],
      "metadata": {
        "id": "dYFHAPGX__TB"
      },
      "execution_count": null,
      "outputs": []
    },
    {
      "cell_type": "code",
      "source": [],
      "metadata": {
        "id": "mqHq8qeq__Lz"
      },
      "execution_count": null,
      "outputs": []
    },
    {
      "cell_type": "markdown",
      "source": [
        "**Q13: Effectuez une jointure spatiale pour combiner la couche ponctuelle des observations (gdf_obs) à la couche polygonale des aires de diffusion (ad_montreal). Cette jointure deviendra une GeoDataFrame que vous nommerez \"ad_observations\".** (1 point)\n",
        "\n",
        "\n"
      ],
      "metadata": {
        "id": "zToE5cFR7Q2V"
      }
    },
    {
      "cell_type": "code",
      "source": [],
      "metadata": {
        "id": "3dBPW_LUAA0s"
      },
      "execution_count": null,
      "outputs": []
    },
    {
      "cell_type": "markdown",
      "source": [
        "**Q14 : On souhaite maintenant obtenir le nombre d'observations par aire de diffusion pour chaque taxon (oiseaux, insectes, mammifères). Pour cela, nous pouvons effectuer une opération de dissolution (aggregation) sur \"gdf_obs_ad\". Tous les enregistrements possédant le même numéro de \"ADAIDU\" (ID des aires de diffusion) et le même taxon seront aggrégés, et on comptera le nombre d'observations pour chacun de ces groupes (aggfunc = 'count').** (1 point)\n"
      ],
      "metadata": {
        "id": "tiCMF7A9Jc8G"
      }
    },
    {
      "cell_type": "code",
      "source": [],
      "metadata": {
        "id": "XjxQvKCkADC8"
      },
      "execution_count": null,
      "outputs": []
    },
    {
      "cell_type": "code",
      "source": [],
      "metadata": {
        "id": "pPM5zX0tACtT"
      },
      "execution_count": null,
      "outputs": []
    },
    {
      "cell_type": "markdown",
      "source": [
        "**Q15 : Programmez une boucle qui produira une carte choroplèthe par taxon (chaque carte ayant sa propre palette que vous choisirez).** (3 points)\n",
        "\n",
        "**Résultat attendu** : trois cartes, illustrant le nombre total d'observations par aire de diffusion sur la période d'étude.\n",
        "Utiliser la bibliothèque contextily contenant des fonds de cartes."
      ],
      "metadata": {
        "id": "2VqnNkiS9dTy"
      }
    },
    {
      "cell_type": "code",
      "source": [
        "# Importer une bibliothèque contenant des fonds de cartes\n",
        "import contextily as cx"
      ],
      "metadata": {
        "id": "lJC196er2QJG"
      },
      "execution_count": null,
      "outputs": []
    },
    {
      "cell_type": "code",
      "source": [],
      "metadata": {
        "id": "eHXzB1n_AFta"
      },
      "execution_count": null,
      "outputs": []
    },
    {
      "cell_type": "markdown",
      "source": [
        "**Q16 : Comme les cartes produites plus haut sont biaisées par le fait que les polygones n'ont pas la même superficie, reproduisez-les pour montrer, cette fois, la densité d'observations par km carré.** Ajoutez un fond de plan (celui que vous jugerez approprié, utilisez votre meilleur jugement cartographique !) avec `contextily` et exportez la couche \"ad_observations_dissolved\" au format GeoJSON, et la carte sous forme d'image au format .png (2 points)\n",
        "\n",
        "PS. On peut calculer la superficie d'un polygone en appelant \".area\" sur sa colonne \"geometry\"."
      ],
      "metadata": {
        "id": "3jwqcraR9XlU"
      }
    },
    {
      "cell_type": "code",
      "source": [],
      "metadata": {
        "id": "EG0lBx4xAJLH"
      },
      "execution_count": null,
      "outputs": []
    },
    {
      "cell_type": "code",
      "source": [],
      "metadata": {
        "id": "xta-u2tvAJDF"
      },
      "execution_count": null,
      "outputs": []
    },
    {
      "cell_type": "code",
      "source": [],
      "metadata": {
        "id": "R7ManTWmAK0q"
      },
      "execution_count": null,
      "outputs": []
    }
  ]
}
