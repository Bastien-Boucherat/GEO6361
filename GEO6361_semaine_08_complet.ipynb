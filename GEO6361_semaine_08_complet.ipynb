{
  "nbformat": 4,
  "nbformat_minor": 0,
  "metadata": {
    "colab": {
      "private_outputs": true,
      "provenance": []
    },
    "kernelspec": {
      "name": "python3",
      "display_name": "Python 3"
    },
    "language_info": {
      "name": "python"
    }
  },
  "cells": [
    {
      "cell_type": "markdown",
      "source": [
        "**GEO6361 (semaine 8) : Les opérations spatiales avec GeoPandas**\n",
        "\n",
        "Cette semaine, nous allons nous intéresser à quelques opérations fondamentales des SIG qu'il nous est possible d'effectuer avec GeoPandas."
      ],
      "metadata": {
        "id": "40HpogWahDeh"
      }
    },
    {
      "cell_type": "markdown",
      "source": [
        "## **1. Opérations spatiales avec GeoPandas**"
      ],
      "metadata": {
        "id": "rkOXORkzA_V7"
      }
    },
    {
      "cell_type": "markdown",
      "source": [
        "### **1.1 Installons les modules requis pour cette section, et importons-les**"
      ],
      "metadata": {
        "id": "4MZpLK8u_WLZ"
      }
    },
    {
      "cell_type": "code",
      "source": [
        "import pandas as pd # On importe pandas, on lui attribut l'alias pd\n",
        "import geopandas as gpd # On importe GeoPandas et on lui attribut l'alias gpd"
      ],
      "metadata": {
        "id": "zG-C6Z01hDJd"
      },
      "execution_count": null,
      "outputs": []
    },
    {
      "cell_type": "markdown",
      "source": [
        "### **1.2 Création d'objets spatiaux avec GeoPandas**"
      ],
      "metadata": {
        "id": "FTwTX8_Vea6o"
      }
    },
    {
      "cell_type": "markdown",
      "source": [
        "**Commençons par créer les point de ces stations** (pour ça, on importe également quelques outils de création d'objets spatiaux d'un autre module externe : Shapely (https://github.com/shapely/shapely), qui est fortement utilisé par GeoPandas pour représenter ses entités spatiales)"
      ],
      "metadata": {
        "id": "bNclr5P9gafX"
      }
    },
    {
      "cell_type": "code",
      "source": [
        "from shapely.geometry import Polygon, LineString, Point # On peut importer différents types de géométries, même si nous n'utiliserons que \"Point\" aujourd'hui"
      ],
      "metadata": {
        "id": "LvjOtHdagnvm"
      },
      "execution_count": null,
      "outputs": []
    },
    {
      "cell_type": "markdown",
      "source": [
        "Les objets spatiaux Shapely peuvent être créés à partir de liste de coordonnées :"
      ],
      "metadata": {
        "id": "G0sx4J1fmVAD"
      }
    },
    {
      "cell_type": "code",
      "source": [
        "coord1 = [-73.62367, 45.52339]\n",
        "coord2 = [-73.61516, 45.52014]\n",
        "\n",
        "pt1 = Point(coord1) # Créer un point à partir du premier jeu de coordonnées\n",
        "pt2 = Point(coord2) # Créer un point à partir du deuxième jeu de coordonnées\n",
        "\n",
        "print(pt1)\n",
        "print(pt2)"
      ],
      "metadata": {
        "id": "USzEKH9ZfBiU"
      },
      "execution_count": null,
      "outputs": []
    },
    {
      "cell_type": "code",
      "source": [
        "# Ces points ne sont pas encore intégrés à une GeoDataFrame... Faisons-le afin de pouvoir les manipuler avec les fonctions et méthodes GeoPandas :\n",
        "description = {'nom': ['Station Acadie', 'Station Outremont'], 'geometry': [pt1, pt2]} # Création d'un dictionnaire Python\n",
        "\n",
        "# Intégrons ces données dans une GeoDataFrame...\n",
        "points = gpd.GeoDataFrame(description, geometry='geometry')"
      ],
      "metadata": {
        "id": "uo2Z5oRJg0Xx"
      },
      "execution_count": null,
      "outputs": []
    },
    {
      "cell_type": "code",
      "source": [
        "# Quel est le système de projection ?\n",
        "print(points.crs)"
      ],
      "metadata": {
        "id": "t2TycjVvsYeH"
      },
      "execution_count": null,
      "outputs": []
    },
    {
      "cell_type": "code",
      "source": [
        "# Attribuons-lui son système de projection...\n",
        "points.crs = 'EPSG:4326'"
      ],
      "metadata": {
        "id": "p12hF2DOsNOf"
      },
      "execution_count": null,
      "outputs": []
    },
    {
      "cell_type": "code",
      "source": [
        "# ...et vérifions :\n",
        "print(points.crs)\n",
        "points.crs"
      ],
      "metadata": {
        "id": "zEDyFs_OiPHm"
      },
      "execution_count": null,
      "outputs": []
    },
    {
      "cell_type": "code",
      "source": [
        "# De quoi notre GeoDataFrame a-t-elle l'air ?\n",
        "points"
      ],
      "metadata": {
        "id": "R5qf3meFoc04"
      },
      "execution_count": null,
      "outputs": []
    },
    {
      "cell_type": "code",
      "source": [
        "# De quoi ce GDF a-t-il l'air ?\n",
        "points.plot()"
      ],
      "metadata": {
        "id": "9EFT4BkThbQg"
      },
      "execution_count": null,
      "outputs": []
    },
    {
      "cell_type": "markdown",
      "source": [
        "**Quelle distance sépare ces deux points ?** Utilisons la méthode \"[distance](https://geopandas.org/en/stable/docs/reference/api/geopandas.GeoSeries.distance.html)\" de GeoPandas :"
      ],
      "metadata": {
        "id": "k7VOBtlpszTq"
      }
    },
    {
      "cell_type": "code",
      "source": [
        "# Par curiosité, quelle est la distance entre les deux points ?\n",
        "points.iloc[0]['geometry'].distance(points.iloc[1]['geometry']) # prendre une entité et lui appliquer la méthode \"distance\" à laquelle on passe une autre entité"
      ],
      "metadata": {
        "id": "Z_iMtK0AoE8O"
      },
      "execution_count": null,
      "outputs": []
    },
    {
      "cell_type": "markdown",
      "source": [
        "La méthode \"distance\" fournie un résultat dans l'unité du système de coordonnées des points. Les coordonnées géographiques étant exprimées en angles, la distance est exprimée en degrées. **Si l'on souhaite des résultats en mètres, nous devons au préalable reprojeter nos données avec \"[to_crs](https://geopandas.org/en/stable/docs/reference/api/geopandas.GeoDataFrame.to_crs.html)\"** :"
      ],
      "metadata": {
        "id": "0cc01uFws20H"
      }
    },
    {
      "cell_type": "code",
      "source": [
        "# Reprojetons, par exemple vers EPSG:32188 (MTM Zone 8) :\n",
        "points = points.to_crs('epsg:32188')\n",
        "\n",
        "# Puis recalculons la distance :\n",
        "points.iloc[0]['geometry'].distance(points.iloc[1]['geometry'])"
      ],
      "metadata": {
        "id": "EDk7vRQ9s3_m"
      },
      "execution_count": null,
      "outputs": []
    },
    {
      "cell_type": "markdown",
      "source": [
        "### **1.3 Création d'une zone tampon (\"buffer\") de 500m autour de ces deux points**"
      ],
      "metadata": {
        "id": "LnSWS30nkCZr"
      }
    },
    {
      "cell_type": "markdown",
      "source": [
        "**On peut ensuite produire une géométrie du \"[buffer](https://geopandas.org/en/stable/docs/reference/api/geopandas.GeoSeries.buffer.html)\" de la manière suivante :**"
      ],
      "metadata": {
        "id": "2c2PDVBm1bKz"
      }
    },
    {
      "cell_type": "code",
      "source": [
        "# Créons une zone tampons de 500 mètres autour de ces deux points...\n",
        "buffered_points = points.buffer(500, resolution=16)\n",
        "buffered_points"
      ],
      "metadata": {
        "id": "QH37nrkNryB_"
      },
      "execution_count": null,
      "outputs": []
    },
    {
      "cell_type": "code",
      "source": [
        "# ... et visualisons-la\n",
        "buffered_points.plot(alpha=.5, figsize=(6,6))"
      ],
      "metadata": {
        "id": "pu8zNE1fj64C"
      },
      "execution_count": null,
      "outputs": []
    },
    {
      "cell_type": "markdown",
      "source": [
        "### **1.4 Quelle est la superficie de la zone totale ?**"
      ],
      "metadata": {
        "id": "nS20Jms--Miq"
      }
    },
    {
      "cell_type": "markdown",
      "source": [
        "**Nous pouvons agréger ces polygones avec une union géométrique (\"[union_all](https://geopandas.org/en/stable/docs/reference/api/geopandas.GeoSeries.union_all.html)\")**"
      ],
      "metadata": {
        "id": "V2WM1FBdA1fT"
      }
    },
    {
      "cell_type": "code",
      "source": [
        "# Créer la géométrie correspondant à l'aggregation des polygones du GeoDataFrame en utilisant la méthode union_all()\n",
        "buffered_points_union = buffered_points.union_all()\n",
        "print(type(buffered_points_union)) # On vérifie qu'on obtient bien une géométrie\n",
        "\n",
        "# Créer une GeoDataFrame à partir de cette géométrie (pour pouvoir bénéficier des méthodes de GeoPandas)\n",
        "buffered_points_union_gdf = gpd.GeoDataFrame(geometry=[buffered_points_union])\n",
        "\n",
        "# Renseigner son CRS\n",
        "print(buffered_points_union_gdf.crs)\n",
        "buffered_points_union_gdf.crs = 'EPSG:32188'\n",
        "print(buffered_points_union_gdf.crs)"
      ],
      "metadata": {
        "id": "-QuSOk0vrIsN"
      },
      "execution_count": null,
      "outputs": []
    },
    {
      "cell_type": "code",
      "source": [
        "# Visualisons la GeoDataFrame :\n",
        "buffered_points_union_gdf.plot(alpha=.5, figsize=(5,5))"
      ],
      "metadata": {
        "id": "7Z2Ento7DoeD"
      },
      "execution_count": null,
      "outputs": []
    },
    {
      "cell_type": "markdown",
      "source": [
        "**Et obtenir la superficie et le pémimètre en appelant \"[area](https://geopandas.org/en/stable/docs/reference/api/geopandas.GeoSeries.area.html)\" puis \"[length](https://geopandas.org/en/stable/docs/reference/api/geopandas.GeoSeries.length.html)\" sur cet objet :**"
      ],
      "metadata": {
        "id": "D5CSqQgJBcoe"
      }
    },
    {
      "cell_type": "code",
      "source": [
        "# Calculons la superficie :\n",
        "print(f\"La superficie de la géométrie des deux buffers est de {int(buffered_points_union_gdf.area[0])} mètres carrés\")\n",
        "\n",
        "# Calculons le périmètre :\n",
        "print(f\"Le périmètre de la géométrie des deux buffers est de {int(buffered_points_union_gdf.length[0])} mètres\")"
      ],
      "metadata": {
        "id": "7zki6AL1D4I5"
      },
      "execution_count": null,
      "outputs": []
    },
    {
      "cell_type": "code",
      "source": [
        "# On peut aussi exporter cet objet pour l'utiliser dans une autre application :\n",
        "buffered_points_union_gdf.to_file(\"/content/buffers_union.geojson\", driver='GeoJSON')"
      ],
      "metadata": {
        "id": "kLyHbLpyDnYa"
      },
      "execution_count": null,
      "outputs": []
    },
    {
      "cell_type": "markdown",
      "source": [
        "### **1.5 Quelle est la superficie de la zone située à la fois à moins de 500m de la station Acadie, et à moins de 500m de la station Outremont ?**"
      ],
      "metadata": {
        "id": "ikSko-ATFIzT"
      }
    },
    {
      "cell_type": "markdown",
      "source": [
        "**Nous pouvons utiliser la fonction \"[intersection](https://geopandas.org/en/stable/docs/reference/api/geopandas.GeoSeries.intersection.html)\" sur la GeoDataFrame où les tampons sont séparés (c'est à dire, pas sur la version \"union\")**"
      ],
      "metadata": {
        "id": "uv9i5qvFFxRp"
      }
    },
    {
      "cell_type": "code",
      "source": [
        "# Créer la géométrie correspondant à l'intersection des polygones du GeoDataFrame en utilisant la méthode intersect()\n",
        "buffered_points_intersect = buffered_points[0].intersection(buffered_points[1])\n",
        "\n",
        "# Calculons la superficie de cette géométrie\n",
        "surf = buffered_points_intersect.area\n",
        "print(f\"La superficie de l'intersection des deux buffers est de {int(surf)} mètres carrés\")"
      ],
      "metadata": {
        "id": "ivmRGS73Gnlk"
      },
      "execution_count": null,
      "outputs": []
    },
    {
      "cell_type": "code",
      "source": [
        "# Créer une GeoDataFrame à partir de cette géométrie (pour pouvoir bénéficier des méthodes de GeoPandas)\n",
        "buffered_points_intersect_gdf = gpd.GeoDataFrame(geometry=[buffered_points_intersect])\n",
        "buffered_points_intersect_gdf.crs = 'EPSG:32188'\n",
        "\n",
        "buffered_points_intersect_gdf.plot()"
      ],
      "metadata": {
        "id": "TR5E49qMx62v"
      },
      "execution_count": null,
      "outputs": []
    },
    {
      "cell_type": "markdown",
      "source": [
        "### **1.6 Quelle est la superficie des deux buffers à l'exeption de leur zone commune ?**"
      ],
      "metadata": {
        "id": "FG8qwJYomTDq"
      }
    },
    {
      "cell_type": "code",
      "source": [
        "buffered_points[0].difference(buffered_points[1]) # prendre une entité et lui appliquer la méthode \"différence\" à laquelle on passe une autre entité"
      ],
      "metadata": {
        "id": "6BlfptKHl-Gi"
      },
      "execution_count": null,
      "outputs": []
    },
    {
      "cell_type": "code",
      "source": [
        "buffered_points[1].difference(buffered_points[0])"
      ],
      "metadata": {
        "id": "n5DVy2xgmANc"
      },
      "execution_count": null,
      "outputs": []
    },
    {
      "cell_type": "code",
      "source": [
        "surf = buffered_points[0].difference(buffered_points[1]).area + buffered_points[1].difference(buffered_points[0]).area\n",
        "print(f\"La superficie des deux buffers, à l'exeption de leur zone commune, est de {int(surf)} mètres carrés\")"
      ],
      "metadata": {
        "id": "94tJtjy-l3V9"
      },
      "execution_count": null,
      "outputs": []
    },
    {
      "cell_type": "code",
      "source": [
        "# On peut le faire plus rapidement avec \"symmetric_difference\" : https://geopandas.org/en/stable/docs/reference/api/geopandas.GeoSeries.symmetric_difference.html#geopandas.GeoSeries.symmetric_difference\n",
        "buffered_points[0].symmetric_difference(buffered_points[1]).area"
      ],
      "metadata": {
        "id": "aiZhkE1Z1V1c"
      },
      "execution_count": null,
      "outputs": []
    },
    {
      "cell_type": "markdown",
      "source": [
        "## **2. Une application un peu plus poussée**"
      ],
      "metadata": {
        "id": "_AxxM4GnH_v_"
      }
    },
    {
      "cell_type": "markdown",
      "source": [
        "Nous avons vu une application simple des opérations de \"**buffer**\", d'**union**, d'**intersection**, et de **différence**, et des calculs de **superficie** et de **périmètres**.\n",
        "Allons plus loin avec une application plus poussée : essayons de calculer des statistiques sur une base de données en fonction de distances par rapport aux éléments d'une autre base de données.\n",
        "\n",
        "Plus précisément, nous allons prendre une base de données spatiale de prix de biens immobiliers, et explorer le rapport entre ces prix et leur distance aux stations de métro de Montréal."
      ],
      "metadata": {
        "id": "N8uT4rnSmevJ"
      }
    },
    {
      "cell_type": "markdown",
      "source": [
        "### **1.2 Chargeons les données**"
      ],
      "metadata": {
        "id": "xst38gxM-g65"
      }
    },
    {
      "cell_type": "markdown",
      "source": [
        " Chargeons tout d'abord les données sur les biens immobiliers en vente pour 2023 :"
      ],
      "metadata": {
        "id": "HfAAbqPuEc0_"
      }
    },
    {
      "cell_type": "code",
      "source": [
        "# On charge le fichier contenant les données spatiales à analyser dans une GDF\n",
        "immo2023 = gpd.read_file('/content/data_immo_quebec_2023.geojson')\n",
        "immo2023.crs = 'EPSG:4326'\n",
        "\n",
        "# On reprojette la GDF vers EPSG:32188 (MTM Zone 8), on pourrait évidemment utiliser d'autres systèmes de projection (ex: EPSG:3798 pour Lambert MTQ)\n",
        "immo2023 = immo2023.to_crs('epsg:32188')"
      ],
      "metadata": {
        "id": "d2WMNJ9TC-PT"
      },
      "execution_count": null,
      "outputs": []
    },
    {
      "cell_type": "code",
      "source": [
        "# Cartographions rapidement ces données\n",
        "immo2023.plot(figsize=(10,10), markersize=.5)"
      ],
      "metadata": {
        "id": "oyvN9HK9Ia0K"
      },
      "execution_count": null,
      "outputs": []
    },
    {
      "cell_type": "markdown",
      "source": [
        "**Comme nous ne nous interressons qu'aux données de l'île de Montréal, excluons les points qui sont situés à l'extérieur. Pour accomplir cela, on peut numériser le contour de l'île avec QGIS ou geojson.io** (un fichier masque_mtl.geojson a été préparé pour ça), et \"clipper\" les points par rapport à celui-ci."
      ],
      "metadata": {
        "id": "iuGTrYX--ygk"
      }
    },
    {
      "cell_type": "code",
      "source": [
        "# Charger un fichier GeoJSON contenant un masque de l'île de Montréal\n",
        "masque = gpd.read_file('/content/masque_mtl.geojson')\n",
        "masque.crs = 'EPSG:4326'\n",
        "\n",
        "# On reprojette le GDF vers EPSG:32188 (MTM Zone 8)\n",
        "masque = masque.to_crs('epsg:32188')\n",
        "masque.plot()"
      ],
      "metadata": {
        "id": "0LSa7AkTX97l"
      },
      "execution_count": null,
      "outputs": []
    },
    {
      "cell_type": "code",
      "source": [
        "# On découpe (ou \"clippe\") les données avec le masque de Montréal\n",
        "immo2023 = immo2023.clip(masque) # on passe le masque de découpage à la méthode clip appliquée à la GDF des données à découper."
      ],
      "metadata": {
        "id": "pXq30llhYzVM"
      },
      "execution_count": null,
      "outputs": []
    },
    {
      "cell_type": "code",
      "source": [
        "immo2023.plot()"
      ],
      "metadata": {
        "id": "8B6-SRenyc1k"
      },
      "execution_count": null,
      "outputs": []
    },
    {
      "cell_type": "markdown",
      "source": [
        "**Lisons maintenant la carte des stations de métro de la STM**"
      ],
      "metadata": {
        "id": "DhZvAkmUBRFS"
      }
    },
    {
      "cell_type": "code",
      "source": [
        "# Charger un fichier GeoJSON contenant les stations de métro de Montréal (https://www.stm.info/fr/a-propos/developpeurs)\n",
        "stm = gpd.read_file('/content/stm_metro.geojson')\n",
        "stm.crs = 'EPSG:4326'\n",
        "\n",
        "# On reprojette le GDF vers EPSG:32188 (MTM Zone 8)\n",
        "stm = stm.to_crs('epsg:32188')"
      ],
      "metadata": {
        "id": "tH-c78NYIu9t"
      },
      "execution_count": null,
      "outputs": []
    },
    {
      "cell_type": "code",
      "source": [
        "# Cartographions rapidement ces données :\n",
        "stm.plot(figsize=(10,10),markersize=2)"
      ],
      "metadata": {
        "id": "42ip4cScHb6J"
      },
      "execution_count": null,
      "outputs": []
    },
    {
      "cell_type": "code",
      "source": [
        "# Créer un buffer de 500 mètres autour des stations de métro\n",
        "buffered_stm = stm.buffer(500)"
      ],
      "metadata": {
        "id": "yADmb-lsRiut"
      },
      "execution_count": null,
      "outputs": []
    },
    {
      "cell_type": "code",
      "source": [
        "# Créer la géométrie correspondant à l'agregation des polygones du GeoDataFrame\n",
        "buffered_stm = buffered_stm.union_all()\n",
        "\n",
        "# Créer une GeoDataFrame à partir de cette géométrie\n",
        "buffered_stm = gpd.GeoDataFrame(crs=stm.crs, geometry=[buffered_stm])"
      ],
      "metadata": {
        "id": "nsQOJ4fQM18L"
      },
      "execution_count": null,
      "outputs": []
    },
    {
      "cell_type": "code",
      "source": [
        "# Cartographier le buffer agrégé :\n",
        "buffered_stm.plot(figsize=(10,10), alpha=.5)"
      ],
      "metadata": {
        "id": "WADMU5qBPJCs"
      },
      "execution_count": null,
      "outputs": []
    },
    {
      "cell_type": "markdown",
      "source": [
        "### **2.3. Faire une jointure spatiale pour calculer les prix à l'intérieur des buffers**"
      ],
      "metadata": {
        "id": "gVu1m8WWDQNk"
      }
    },
    {
      "cell_type": "markdown",
      "source": [
        "**Nous voudrions sélectionner les biens immobiliers qui sont géographiquement localisés à l'intérieur d'une géométrie.**"
      ],
      "metadata": {
        "id": "d_cXlQJfEs1l"
      }
    },
    {
      "cell_type": "code",
      "source": [
        "# Effectuer la jointure spatiale\n",
        "buffered_stm_immo = immo2023.sjoin(buffered_stm, how=\"inner\", predicate='within')"
      ],
      "metadata": {
        "id": "6QXuNqm7R92c"
      },
      "execution_count": null,
      "outputs": []
    },
    {
      "cell_type": "code",
      "source": [
        "# Visualisons le résultat\n",
        "buffered_stm_immo.plot(figsize=(10,10), markersize=.5)"
      ],
      "metadata": {
        "id": "hdy8nIzMa6qj"
      },
      "execution_count": null,
      "outputs": []
    },
    {
      "cell_type": "code",
      "source": [
        "# On peut manipuler nos données comme n'importe quelle DataFrame\n",
        "buffered_stm_immo.info()"
      ],
      "metadata": {
        "id": "uWkSbcWOV93T"
      },
      "execution_count": null,
      "outputs": []
    },
    {
      "cell_type": "code",
      "source": [
        "# Pour retirer des colonnes inutiles\n",
        "buffered_stm_immo = buffered_stm_immo.drop(['BedRoom', 'FullAddress', 'lat', 'lon', 'index_right'], axis=1)"
      ],
      "metadata": {
        "id": "dWhWCchpXkyT"
      },
      "execution_count": null,
      "outputs": []
    },
    {
      "cell_type": "code",
      "source": [
        "# Si on ne veut garder que les annonces dont les prix sont suppérieurs à 40000$\n",
        "buffered_stm_immo = buffered_stm_immo[\n",
        "    buffered_stm_immo['Prix'] > 40000\n",
        "    ]"
      ],
      "metadata": {
        "id": "zkvx7PO8Xmss"
      },
      "execution_count": null,
      "outputs": []
    },
    {
      "cell_type": "code",
      "source": [
        "# Calculer des statistiques\n",
        "print(buffered_stm_immo['Prix'].mean())\n",
        "print(buffered_stm_immo['Prix'].median())"
      ],
      "metadata": {
        "id": "MOA1CYeYXprT"
      },
      "execution_count": null,
      "outputs": []
    },
    {
      "cell_type": "code",
      "source": [
        "print(f\"Le prix médian des biens immobiliers situés à moins de 500m d'une station de métro est de {round(buffered_stm_immo['Prix'].median())}$\")\n",
        "print(f\"Le prix médian des biens immobiliers est de {round(immo2023['Prix'].median())}$\")"
      ],
      "metadata": {
        "id": "Iw9IZYdy3OWz"
      },
      "execution_count": null,
      "outputs": []
    },
    {
      "cell_type": "markdown",
      "source": [
        "### **2.4. Et si nous voulions automatiser tout ça ?**"
      ],
      "metadata": {
        "id": "8NT1HMqlLekk"
      }
    },
    {
      "cell_type": "code",
      "source": [
        "import seaborn as sns # On importe le module de visualisation Seaborn...\n",
        "import numpy as np # Et Numpy qui nous sera également utile"
      ],
      "metadata": {
        "id": "lQO2-jzwpQqp"
      },
      "execution_count": null,
      "outputs": []
    },
    {
      "cell_type": "code",
      "source": [
        "distances = range(100,2100,250) # on crée une liste de distances de buffers à travers lesquels calculer nos statistiques\n",
        "\n",
        "prix_moyens = []\n",
        "\n",
        "for dist in distances:\n",
        "    print(f\"Buffer de {dist} mètres autour des stations de métro.\")\n",
        "    stmB = stm.buffer(dist)\n",
        "    stmB = stmB.union_all()\n",
        "    stmB = gpd.GeoDataFrame(crs=stm.crs, geometry=[stmB])\n",
        "\n",
        "    prix_moyens.append(immo2023.sjoin(stmB, how=\"inner\", predicate='within')['Prix'].mean())\n",
        "\n",
        "data = np.array([distances, prix_moyens])\n",
        "data = np.transpose(data)\n",
        "prix_moyens_dist = pd.DataFrame(data, columns=['distances', 'prix_moyens'])\n",
        "\n",
        "sns.scatterplot(data=prix_moyens_dist, x='distances', y='prix_moyens')"
      ],
      "metadata": {
        "id": "iDO0JC6nZU1o"
      },
      "execution_count": null,
      "outputs": []
    }
  ]
}