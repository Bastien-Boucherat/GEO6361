{
  "nbformat": 4,
  "nbformat_minor": 0,
  "metadata": {
    "colab": {
      "provenance": []
    },
    "kernelspec": {
      "name": "python3",
      "display_name": "Python 3"
    }
  },
  "cells": [
    {
      "cell_type": "markdown",
      "source": [
        "**GEO6361, semaine 12 : Réseaux de neurones artificiels** (RNA)\n",
        "\n",
        "Prenons des données immobilières réelles (échantillonnées dans les années 1970... ) et essayons de construire un modèle de prédiction de prix median."
      ],
      "metadata": {
        "id": "4p3fN5zkmWkH"
      }
    },
    {
      "cell_type": "markdown",
      "source": [
        "#**Exemple d'apprentissage automatique par RNA**"
      ],
      "metadata": {
        "id": "uYAQ05rKnLhG"
      }
    },
    {
      "cell_type": "markdown",
      "source": [
        "## **1. Exploration des données**"
      ],
      "metadata": {
        "id": "2R8-pDp7m0YC"
      }
    },
    {
      "cell_type": "markdown",
      "metadata": {
        "id": "qDL1XJdAgmX_"
      },
      "source": [
        "### **1.1 Importons les modules et les données requises pour cette section**\n"
      ]
    },
    {
      "cell_type": "code",
      "metadata": {
        "id": "x2t4QSjdv1Im"
      },
      "source": [
        "import pandas as pd\n",
        "import numpy as np\n",
        "import matplotlib.pyplot as plt\n",
        "import seaborn as sns"
      ],
      "execution_count": 1,
      "outputs": []
    },
    {
      "cell_type": "code",
      "source": [
        "from tensorflow import keras"
      ],
      "metadata": {
        "id": "Pv5w0oNAgxLK"
      },
      "execution_count": 2,
      "outputs": []
    },
    {
      "cell_type": "code",
      "metadata": {
        "id": "INEaeaitv8Oi",
        "colab": {
          "base_uri": "https://localhost:8080/",
          "height": 206
        },
        "outputId": "88c2959c-3c12-437c-afef-de37e0b733c2"
      },
      "source": [
        "# https://www.kaggle.com/datasets/vikrishnan/boston-house-prices\n",
        "# - CRIM per capita crime rate by town\n",
        "# - ZN proportion of residential land zoned for lots over 25,000 sq.ft.\n",
        "# - INDUS proportion of non-retail business acres per town\n",
        "# - CHAS Charles River dummy variable (= 1 if tract bounds river; 0 otherwise)\n",
        "# - NOX nitric oxides concentration (parts per 10 million)\n",
        "# - RM average number of rooms per dwelling\n",
        "# - AGE proportion of owner-occupied units built prior to 1940\n",
        "# - DIS weighted distances to five Boston employment centres\n",
        "# - RAD index of accessibility to radial highways\n",
        "# - TAX full-value property-tax rate per $10,000\n",
        "# - PTRATIO pupil-teacher ratio by town\n",
        "# - B 1000(Bk - 0.63)^2 where Bk is the proportion of blacks by town\n",
        "# - LSTAT % lower status of the population\n",
        "# - MEDV Median value of owner-occupied homes in $1000's\n",
        "\n",
        "noms_colonnes = ['CRIM', 'ZN', 'INDUS', 'CHAS', 'NOX', 'RM', 'AGE', 'DIS', 'RAD', 'TAX', 'PTRATIO', 'B', 'LSTAT', 'MEDV']\n",
        "df = pd.read_csv(\"/content/housing.csv\", header=None, delimiter=r\"\\s+\", names = noms_colonnes)\n",
        "\n",
        "df.head()"
      ],
      "execution_count": 3,
      "outputs": [
        {
          "output_type": "execute_result",
          "data": {
            "text/plain": [
              "      CRIM    ZN  INDUS  CHAS    NOX     RM   AGE     DIS  RAD    TAX  \\\n",
              "0  0.00632  18.0   2.31     0  0.538  6.575  65.2  4.0900    1  296.0   \n",
              "1  0.02731   0.0   7.07     0  0.469  6.421  78.9  4.9671    2  242.0   \n",
              "2  0.02729   0.0   7.07     0  0.469  7.185  61.1  4.9671    2  242.0   \n",
              "3  0.03237   0.0   2.18     0  0.458  6.998  45.8  6.0622    3  222.0   \n",
              "4  0.06905   0.0   2.18     0  0.458  7.147  54.2  6.0622    3  222.0   \n",
              "\n",
              "   PTRATIO       B  LSTAT  MEDV  \n",
              "0     15.3  396.90   4.98  24.0  \n",
              "1     17.8  396.90   9.14  21.6  \n",
              "2     17.8  392.83   4.03  34.7  \n",
              "3     18.7  394.63   2.94  33.4  \n",
              "4     18.7  396.90   5.33  36.2  "
            ],
            "text/html": [
              "\n",
              "  <div id=\"df-5081df8d-57b8-4bd3-ad0a-41edf6ed52e7\" class=\"colab-df-container\">\n",
              "    <div>\n",
              "<style scoped>\n",
              "    .dataframe tbody tr th:only-of-type {\n",
              "        vertical-align: middle;\n",
              "    }\n",
              "\n",
              "    .dataframe tbody tr th {\n",
              "        vertical-align: top;\n",
              "    }\n",
              "\n",
              "    .dataframe thead th {\n",
              "        text-align: right;\n",
              "    }\n",
              "</style>\n",
              "<table border=\"1\" class=\"dataframe\">\n",
              "  <thead>\n",
              "    <tr style=\"text-align: right;\">\n",
              "      <th></th>\n",
              "      <th>CRIM</th>\n",
              "      <th>ZN</th>\n",
              "      <th>INDUS</th>\n",
              "      <th>CHAS</th>\n",
              "      <th>NOX</th>\n",
              "      <th>RM</th>\n",
              "      <th>AGE</th>\n",
              "      <th>DIS</th>\n",
              "      <th>RAD</th>\n",
              "      <th>TAX</th>\n",
              "      <th>PTRATIO</th>\n",
              "      <th>B</th>\n",
              "      <th>LSTAT</th>\n",
              "      <th>MEDV</th>\n",
              "    </tr>\n",
              "  </thead>\n",
              "  <tbody>\n",
              "    <tr>\n",
              "      <th>0</th>\n",
              "      <td>0.00632</td>\n",
              "      <td>18.0</td>\n",
              "      <td>2.31</td>\n",
              "      <td>0</td>\n",
              "      <td>0.538</td>\n",
              "      <td>6.575</td>\n",
              "      <td>65.2</td>\n",
              "      <td>4.0900</td>\n",
              "      <td>1</td>\n",
              "      <td>296.0</td>\n",
              "      <td>15.3</td>\n",
              "      <td>396.90</td>\n",
              "      <td>4.98</td>\n",
              "      <td>24.0</td>\n",
              "    </tr>\n",
              "    <tr>\n",
              "      <th>1</th>\n",
              "      <td>0.02731</td>\n",
              "      <td>0.0</td>\n",
              "      <td>7.07</td>\n",
              "      <td>0</td>\n",
              "      <td>0.469</td>\n",
              "      <td>6.421</td>\n",
              "      <td>78.9</td>\n",
              "      <td>4.9671</td>\n",
              "      <td>2</td>\n",
              "      <td>242.0</td>\n",
              "      <td>17.8</td>\n",
              "      <td>396.90</td>\n",
              "      <td>9.14</td>\n",
              "      <td>21.6</td>\n",
              "    </tr>\n",
              "    <tr>\n",
              "      <th>2</th>\n",
              "      <td>0.02729</td>\n",
              "      <td>0.0</td>\n",
              "      <td>7.07</td>\n",
              "      <td>0</td>\n",
              "      <td>0.469</td>\n",
              "      <td>7.185</td>\n",
              "      <td>61.1</td>\n",
              "      <td>4.9671</td>\n",
              "      <td>2</td>\n",
              "      <td>242.0</td>\n",
              "      <td>17.8</td>\n",
              "      <td>392.83</td>\n",
              "      <td>4.03</td>\n",
              "      <td>34.7</td>\n",
              "    </tr>\n",
              "    <tr>\n",
              "      <th>3</th>\n",
              "      <td>0.03237</td>\n",
              "      <td>0.0</td>\n",
              "      <td>2.18</td>\n",
              "      <td>0</td>\n",
              "      <td>0.458</td>\n",
              "      <td>6.998</td>\n",
              "      <td>45.8</td>\n",
              "      <td>6.0622</td>\n",
              "      <td>3</td>\n",
              "      <td>222.0</td>\n",
              "      <td>18.7</td>\n",
              "      <td>394.63</td>\n",
              "      <td>2.94</td>\n",
              "      <td>33.4</td>\n",
              "    </tr>\n",
              "    <tr>\n",
              "      <th>4</th>\n",
              "      <td>0.06905</td>\n",
              "      <td>0.0</td>\n",
              "      <td>2.18</td>\n",
              "      <td>0</td>\n",
              "      <td>0.458</td>\n",
              "      <td>7.147</td>\n",
              "      <td>54.2</td>\n",
              "      <td>6.0622</td>\n",
              "      <td>3</td>\n",
              "      <td>222.0</td>\n",
              "      <td>18.7</td>\n",
              "      <td>396.90</td>\n",
              "      <td>5.33</td>\n",
              "      <td>36.2</td>\n",
              "    </tr>\n",
              "  </tbody>\n",
              "</table>\n",
              "</div>\n",
              "    <div class=\"colab-df-buttons\">\n",
              "\n",
              "  <div class=\"colab-df-container\">\n",
              "    <button class=\"colab-df-convert\" onclick=\"convertToInteractive('df-5081df8d-57b8-4bd3-ad0a-41edf6ed52e7')\"\n",
              "            title=\"Convert this dataframe to an interactive table.\"\n",
              "            style=\"display:none;\">\n",
              "\n",
              "  <svg xmlns=\"http://www.w3.org/2000/svg\" height=\"24px\" viewBox=\"0 -960 960 960\">\n",
              "    <path d=\"M120-120v-720h720v720H120Zm60-500h600v-160H180v160Zm220 220h160v-160H400v160Zm0 220h160v-160H400v160ZM180-400h160v-160H180v160Zm440 0h160v-160H620v160ZM180-180h160v-160H180v160Zm440 0h160v-160H620v160Z\"/>\n",
              "  </svg>\n",
              "    </button>\n",
              "\n",
              "  <style>\n",
              "    .colab-df-container {\n",
              "      display:flex;\n",
              "      gap: 12px;\n",
              "    }\n",
              "\n",
              "    .colab-df-convert {\n",
              "      background-color: #E8F0FE;\n",
              "      border: none;\n",
              "      border-radius: 50%;\n",
              "      cursor: pointer;\n",
              "      display: none;\n",
              "      fill: #1967D2;\n",
              "      height: 32px;\n",
              "      padding: 0 0 0 0;\n",
              "      width: 32px;\n",
              "    }\n",
              "\n",
              "    .colab-df-convert:hover {\n",
              "      background-color: #E2EBFA;\n",
              "      box-shadow: 0px 1px 2px rgba(60, 64, 67, 0.3), 0px 1px 3px 1px rgba(60, 64, 67, 0.15);\n",
              "      fill: #174EA6;\n",
              "    }\n",
              "\n",
              "    .colab-df-buttons div {\n",
              "      margin-bottom: 4px;\n",
              "    }\n",
              "\n",
              "    [theme=dark] .colab-df-convert {\n",
              "      background-color: #3B4455;\n",
              "      fill: #D2E3FC;\n",
              "    }\n",
              "\n",
              "    [theme=dark] .colab-df-convert:hover {\n",
              "      background-color: #434B5C;\n",
              "      box-shadow: 0px 1px 3px 1px rgba(0, 0, 0, 0.15);\n",
              "      filter: drop-shadow(0px 1px 2px rgba(0, 0, 0, 0.3));\n",
              "      fill: #FFFFFF;\n",
              "    }\n",
              "  </style>\n",
              "\n",
              "    <script>\n",
              "      const buttonEl =\n",
              "        document.querySelector('#df-5081df8d-57b8-4bd3-ad0a-41edf6ed52e7 button.colab-df-convert');\n",
              "      buttonEl.style.display =\n",
              "        google.colab.kernel.accessAllowed ? 'block' : 'none';\n",
              "\n",
              "      async function convertToInteractive(key) {\n",
              "        const element = document.querySelector('#df-5081df8d-57b8-4bd3-ad0a-41edf6ed52e7');\n",
              "        const dataTable =\n",
              "          await google.colab.kernel.invokeFunction('convertToInteractive',\n",
              "                                                    [key], {});\n",
              "        if (!dataTable) return;\n",
              "\n",
              "        const docLinkHtml = 'Like what you see? Visit the ' +\n",
              "          '<a target=\"_blank\" href=https://colab.research.google.com/notebooks/data_table.ipynb>data table notebook</a>'\n",
              "          + ' to learn more about interactive tables.';\n",
              "        element.innerHTML = '';\n",
              "        dataTable['output_type'] = 'display_data';\n",
              "        await google.colab.output.renderOutput(dataTable, element);\n",
              "        const docLink = document.createElement('div');\n",
              "        docLink.innerHTML = docLinkHtml;\n",
              "        element.appendChild(docLink);\n",
              "      }\n",
              "    </script>\n",
              "  </div>\n",
              "\n",
              "\n",
              "<div id=\"df-e84be51e-b89d-4036-993f-cef8cbe2b11e\">\n",
              "  <button class=\"colab-df-quickchart\" onclick=\"quickchart('df-e84be51e-b89d-4036-993f-cef8cbe2b11e')\"\n",
              "            title=\"Suggest charts\"\n",
              "            style=\"display:none;\">\n",
              "\n",
              "<svg xmlns=\"http://www.w3.org/2000/svg\" height=\"24px\"viewBox=\"0 0 24 24\"\n",
              "     width=\"24px\">\n",
              "    <g>\n",
              "        <path d=\"M19 3H5c-1.1 0-2 .9-2 2v14c0 1.1.9 2 2 2h14c1.1 0 2-.9 2-2V5c0-1.1-.9-2-2-2zM9 17H7v-7h2v7zm4 0h-2V7h2v10zm4 0h-2v-4h2v4z\"/>\n",
              "    </g>\n",
              "</svg>\n",
              "  </button>\n",
              "\n",
              "<style>\n",
              "  .colab-df-quickchart {\n",
              "      --bg-color: #E8F0FE;\n",
              "      --fill-color: #1967D2;\n",
              "      --hover-bg-color: #E2EBFA;\n",
              "      --hover-fill-color: #174EA6;\n",
              "      --disabled-fill-color: #AAA;\n",
              "      --disabled-bg-color: #DDD;\n",
              "  }\n",
              "\n",
              "  [theme=dark] .colab-df-quickchart {\n",
              "      --bg-color: #3B4455;\n",
              "      --fill-color: #D2E3FC;\n",
              "      --hover-bg-color: #434B5C;\n",
              "      --hover-fill-color: #FFFFFF;\n",
              "      --disabled-bg-color: #3B4455;\n",
              "      --disabled-fill-color: #666;\n",
              "  }\n",
              "\n",
              "  .colab-df-quickchart {\n",
              "    background-color: var(--bg-color);\n",
              "    border: none;\n",
              "    border-radius: 50%;\n",
              "    cursor: pointer;\n",
              "    display: none;\n",
              "    fill: var(--fill-color);\n",
              "    height: 32px;\n",
              "    padding: 0;\n",
              "    width: 32px;\n",
              "  }\n",
              "\n",
              "  .colab-df-quickchart:hover {\n",
              "    background-color: var(--hover-bg-color);\n",
              "    box-shadow: 0 1px 2px rgba(60, 64, 67, 0.3), 0 1px 3px 1px rgba(60, 64, 67, 0.15);\n",
              "    fill: var(--button-hover-fill-color);\n",
              "  }\n",
              "\n",
              "  .colab-df-quickchart-complete:disabled,\n",
              "  .colab-df-quickchart-complete:disabled:hover {\n",
              "    background-color: var(--disabled-bg-color);\n",
              "    fill: var(--disabled-fill-color);\n",
              "    box-shadow: none;\n",
              "  }\n",
              "\n",
              "  .colab-df-spinner {\n",
              "    border: 2px solid var(--fill-color);\n",
              "    border-color: transparent;\n",
              "    border-bottom-color: var(--fill-color);\n",
              "    animation:\n",
              "      spin 1s steps(1) infinite;\n",
              "  }\n",
              "\n",
              "  @keyframes spin {\n",
              "    0% {\n",
              "      border-color: transparent;\n",
              "      border-bottom-color: var(--fill-color);\n",
              "      border-left-color: var(--fill-color);\n",
              "    }\n",
              "    20% {\n",
              "      border-color: transparent;\n",
              "      border-left-color: var(--fill-color);\n",
              "      border-top-color: var(--fill-color);\n",
              "    }\n",
              "    30% {\n",
              "      border-color: transparent;\n",
              "      border-left-color: var(--fill-color);\n",
              "      border-top-color: var(--fill-color);\n",
              "      border-right-color: var(--fill-color);\n",
              "    }\n",
              "    40% {\n",
              "      border-color: transparent;\n",
              "      border-right-color: var(--fill-color);\n",
              "      border-top-color: var(--fill-color);\n",
              "    }\n",
              "    60% {\n",
              "      border-color: transparent;\n",
              "      border-right-color: var(--fill-color);\n",
              "    }\n",
              "    80% {\n",
              "      border-color: transparent;\n",
              "      border-right-color: var(--fill-color);\n",
              "      border-bottom-color: var(--fill-color);\n",
              "    }\n",
              "    90% {\n",
              "      border-color: transparent;\n",
              "      border-bottom-color: var(--fill-color);\n",
              "    }\n",
              "  }\n",
              "</style>\n",
              "\n",
              "  <script>\n",
              "    async function quickchart(key) {\n",
              "      const quickchartButtonEl =\n",
              "        document.querySelector('#' + key + ' button');\n",
              "      quickchartButtonEl.disabled = true;  // To prevent multiple clicks.\n",
              "      quickchartButtonEl.classList.add('colab-df-spinner');\n",
              "      try {\n",
              "        const charts = await google.colab.kernel.invokeFunction(\n",
              "            'suggestCharts', [key], {});\n",
              "      } catch (error) {\n",
              "        console.error('Error during call to suggestCharts:', error);\n",
              "      }\n",
              "      quickchartButtonEl.classList.remove('colab-df-spinner');\n",
              "      quickchartButtonEl.classList.add('colab-df-quickchart-complete');\n",
              "    }\n",
              "    (() => {\n",
              "      let quickchartButtonEl =\n",
              "        document.querySelector('#df-e84be51e-b89d-4036-993f-cef8cbe2b11e button');\n",
              "      quickchartButtonEl.style.display =\n",
              "        google.colab.kernel.accessAllowed ? 'block' : 'none';\n",
              "    })();\n",
              "  </script>\n",
              "</div>\n",
              "\n",
              "    </div>\n",
              "  </div>\n"
            ],
            "application/vnd.google.colaboratory.intrinsic+json": {
              "type": "dataframe",
              "variable_name": "df",
              "summary": "{\n  \"name\": \"df\",\n  \"rows\": 506,\n  \"fields\": [\n    {\n      \"column\": \"CRIM\",\n      \"properties\": {\n        \"dtype\": \"number\",\n        \"std\": 8.601545105332487,\n        \"min\": 0.00632,\n        \"max\": 88.9762,\n        \"num_unique_values\": 504,\n        \"samples\": [\n          0.09178,\n          0.05644,\n          0.10574\n        ],\n        \"semantic_type\": \"\",\n        \"description\": \"\"\n      }\n    },\n    {\n      \"column\": \"ZN\",\n      \"properties\": {\n        \"dtype\": \"number\",\n        \"std\": 23.322452994515036,\n        \"min\": 0.0,\n        \"max\": 100.0,\n        \"num_unique_values\": 26,\n        \"samples\": [\n          25.0,\n          30.0,\n          18.0\n        ],\n        \"semantic_type\": \"\",\n        \"description\": \"\"\n      }\n    },\n    {\n      \"column\": \"INDUS\",\n      \"properties\": {\n        \"dtype\": \"number\",\n        \"std\": 6.8603529408975845,\n        \"min\": 0.46,\n        \"max\": 27.74,\n        \"num_unique_values\": 76,\n        \"samples\": [\n          8.14,\n          1.47,\n          1.22\n        ],\n        \"semantic_type\": \"\",\n        \"description\": \"\"\n      }\n    },\n    {\n      \"column\": \"CHAS\",\n      \"properties\": {\n        \"dtype\": \"number\",\n        \"std\": 0,\n        \"min\": 0,\n        \"max\": 1,\n        \"num_unique_values\": 2,\n        \"samples\": [\n          1,\n          0\n        ],\n        \"semantic_type\": \"\",\n        \"description\": \"\"\n      }\n    },\n    {\n      \"column\": \"NOX\",\n      \"properties\": {\n        \"dtype\": \"number\",\n        \"std\": 0.11587767566755611,\n        \"min\": 0.385,\n        \"max\": 0.871,\n        \"num_unique_values\": 81,\n        \"samples\": [\n          0.401,\n          0.538\n        ],\n        \"semantic_type\": \"\",\n        \"description\": \"\"\n      }\n    },\n    {\n      \"column\": \"RM\",\n      \"properties\": {\n        \"dtype\": \"number\",\n        \"std\": 0.7026171434153237,\n        \"min\": 3.561,\n        \"max\": 8.78,\n        \"num_unique_values\": 446,\n        \"samples\": [\n          6.849,\n          4.88\n        ],\n        \"semantic_type\": \"\",\n        \"description\": \"\"\n      }\n    },\n    {\n      \"column\": \"AGE\",\n      \"properties\": {\n        \"dtype\": \"number\",\n        \"std\": 28.148861406903638,\n        \"min\": 2.9,\n        \"max\": 100.0,\n        \"num_unique_values\": 356,\n        \"samples\": [\n          51.8,\n          33.8\n        ],\n        \"semantic_type\": \"\",\n        \"description\": \"\"\n      }\n    },\n    {\n      \"column\": \"DIS\",\n      \"properties\": {\n        \"dtype\": \"number\",\n        \"std\": 2.1057101266276104,\n        \"min\": 1.1296,\n        \"max\": 12.1265,\n        \"num_unique_values\": 412,\n        \"samples\": [\n          2.2955,\n          4.2515\n        ],\n        \"semantic_type\": \"\",\n        \"description\": \"\"\n      }\n    },\n    {\n      \"column\": \"RAD\",\n      \"properties\": {\n        \"dtype\": \"number\",\n        \"std\": 8,\n        \"min\": 1,\n        \"max\": 24,\n        \"num_unique_values\": 9,\n        \"samples\": [\n          7,\n          2\n        ],\n        \"semantic_type\": \"\",\n        \"description\": \"\"\n      }\n    },\n    {\n      \"column\": \"TAX\",\n      \"properties\": {\n        \"dtype\": \"number\",\n        \"std\": 168.53711605495926,\n        \"min\": 187.0,\n        \"max\": 711.0,\n        \"num_unique_values\": 66,\n        \"samples\": [\n          370.0,\n          666.0\n        ],\n        \"semantic_type\": \"\",\n        \"description\": \"\"\n      }\n    },\n    {\n      \"column\": \"PTRATIO\",\n      \"properties\": {\n        \"dtype\": \"number\",\n        \"std\": 2.164945523714446,\n        \"min\": 12.6,\n        \"max\": 22.0,\n        \"num_unique_values\": 46,\n        \"samples\": [\n          19.6,\n          15.6\n        ],\n        \"semantic_type\": \"\",\n        \"description\": \"\"\n      }\n    },\n    {\n      \"column\": \"B\",\n      \"properties\": {\n        \"dtype\": \"number\",\n        \"std\": 91.29486438415779,\n        \"min\": 0.32,\n        \"max\": 396.9,\n        \"num_unique_values\": 357,\n        \"samples\": [\n          396.24,\n          395.11\n        ],\n        \"semantic_type\": \"\",\n        \"description\": \"\"\n      }\n    },\n    {\n      \"column\": \"LSTAT\",\n      \"properties\": {\n        \"dtype\": \"number\",\n        \"std\": 7.141061511348571,\n        \"min\": 1.73,\n        \"max\": 37.97,\n        \"num_unique_values\": 455,\n        \"samples\": [\n          6.15,\n          4.32\n        ],\n        \"semantic_type\": \"\",\n        \"description\": \"\"\n      }\n    },\n    {\n      \"column\": \"MEDV\",\n      \"properties\": {\n        \"dtype\": \"number\",\n        \"std\": 9.19710408737982,\n        \"min\": 5.0,\n        \"max\": 50.0,\n        \"num_unique_values\": 229,\n        \"samples\": [\n          14.1,\n          22.5\n        ],\n        \"semantic_type\": \"\",\n        \"description\": \"\"\n      }\n    }\n  ]\n}"
            }
          },
          "metadata": {},
          "execution_count": 3
        }
      ]
    },
    {
      "cell_type": "code",
      "source": [
        "# Retirons la colonne B (voir https://github.com/scikit-learn/scikit-learn/issues/16155, https://towardsdatascience.com/things-you-didnt-know-about-the-boston-housing-dataset-2e87a6f960e8, https://medium.com/@docintangible/racist-data-destruction-113e3eff54a8)\n",
        "df = df.('B', axis=1)"
      ],
      "metadata": {
        "id": "WIj5vyrdktk8"
      },
      "execution_count": 5,
      "outputs": []
    },
    {
      "cell_type": "markdown",
      "metadata": {
        "id": "l_PZrGxXhYmw"
      },
      "source": [
        "### **1.2 Explorons les données**"
      ]
    },
    {
      "cell_type": "code",
      "metadata": {
        "id": "fLsqKUdIPOQa"
      },
      "source": [
        "df.head()"
      ],
      "execution_count": null,
      "outputs": []
    },
    {
      "cell_type": "code",
      "source": [
        "# Vérifions le nombre de données manquantes avec isnull().sum():\n",
        "df."
      ],
      "metadata": {
        "id": "k92CJFH9lCxQ"
      },
      "execution_count": null,
      "outputs": []
    },
    {
      "cell_type": "code",
      "source": [
        "# utilisons la méthode describe()\n",
        "df."
      ],
      "metadata": {
        "id": "3xfiBw2UjJs_"
      },
      "execution_count": null,
      "outputs": []
    },
    {
      "cell_type": "code",
      "source": [
        "# Distribution des variables\n",
        "df.hist(\n",
        "    bins=50,\n",
        "    figsize=(12,10)\n",
        "    )"
      ],
      "metadata": {
        "id": "El1wLlNvjcEp"
      },
      "execution_count": null,
      "outputs": []
    },
    {
      "cell_type": "code",
      "source": [
        "# Corrélogramme\n",
        "plt.figure(figsize=(12, 10))\n",
        "sns.heatmap(\n",
        "    df.corr(),\n",
        "    annot=True,\n",
        "    cmap='PiYG',\n",
        "    center=0\n",
        "    )\n",
        "plt.show()"
      ],
      "metadata": {
        "id": "9zVi4-7ml0-u"
      },
      "execution_count": null,
      "outputs": []
    },
    {
      "cell_type": "markdown",
      "metadata": {
        "id": "oddmyKmhiOZM"
      },
      "source": [
        "Préparation des listes X et y (que je mets dans des arrays NumPy)"
      ]
    },
    {
      "cell_type": "code",
      "source": [
        "# \"X\" est une array 2D contenant les valeurs des variables qui pourraient prédire le prix médians\n",
        "X = df.drop(['MEDV'], axis = 1).values # Nous retirons la variable à prédire, et transformons le DF en array NumPy avec .values"
      ],
      "metadata": {
        "id": "H_rz2KeSm_xS"
      },
      "execution_count": 12,
      "outputs": []
    },
    {
      "cell_type": "code",
      "source": [
        "X"
      ],
      "metadata": {
        "id": "Z5AOezxDyjYG"
      },
      "execution_count": null,
      "outputs": []
    },
    {
      "cell_type": "code",
      "metadata": {
        "id": "NpM5AUk4ziD3"
      },
      "source": [
        "# \"y\" est une array 1D contenant les valeurs des prix médians\n",
        "y = df['MEDV'].values"
      ],
      "execution_count": 14,
      "outputs": []
    },
    {
      "cell_type": "code",
      "source": [
        "y"
      ],
      "metadata": {
        "id": "A67ot02Uyr_g"
      },
      "execution_count": null,
      "outputs": []
    },
    {
      "cell_type": "markdown",
      "metadata": {
        "id": "RUmpGKYVh84V"
      },
      "source": [
        "## **2. Contruction du modèle**"
      ]
    },
    {
      "cell_type": "markdown",
      "source": [
        "### **2.1 Séparation des données d’entrainement et des données de test**"
      ],
      "metadata": {
        "id": "O0x5c4EAoAyN"
      }
    },
    {
      "cell_type": "code",
      "metadata": {
        "id": "F0068l8Ny0U5"
      },
      "source": [
        "# On importe la méthode de SKlearn qui sépare aléatoirement notre jeu de données entre les données d'entrainement et les données de test\n",
        "from sklearn.model_selection import train_test_split"
      ],
      "execution_count": 16,
      "outputs": []
    },
    {
      "cell_type": "code",
      "metadata": {
        "id": "YMcciHLvzq1I"
      },
      "source": [
        "# On sépare le jeu de données de manière à garder 2/3 des données pour l'entrainement du modèle, et 1/3 pour le test du modèle\n",
        "X_train, X_test, y_train, y_test = (X, y, test_size=0.33)"
      ],
      "execution_count": 18,
      "outputs": []
    },
    {
      "cell_type": "markdown",
      "metadata": {
        "id": "p3wXdAwliVkV"
      },
      "source": [
        "### **2.2 Étape facultative (mais qui permet de faire converger plus rapidement le modèle) : normaliser les données**"
      ]
    },
    {
      "cell_type": "code",
      "source": [
        "# Nous créons une couche qui normalise les données selon les moyennes et écarts-types des variables (de manière à ce que la moyenne des variables soit toujours égale à 0 et l'écart type égal à 1) :\n",
        "norm_layer = keras.layers.Normalization()\n",
        "norm_layer.adapt(X)"
      ],
      "metadata": {
        "id": "Mb6G5XTudOhB"
      },
      "execution_count": 19,
      "outputs": []
    },
    {
      "cell_type": "markdown",
      "metadata": {
        "id": "1HHtxIdmilli"
      },
      "source": [
        "### **2.3 Construction de l’architecture du réseau de neurones**"
      ]
    },
    {
      "cell_type": "code",
      "metadata": {
        "id": "kOlW0Z0j2Jg8"
      },
      "source": [
        "from tensorflow.keras.models import Sequential\n",
        "from tensorflow.keras.layers import Dense"
      ],
      "execution_count": 20,
      "outputs": []
    },
    {
      "cell_type": "markdown",
      "metadata": {
        "id": "lPRIyQ9Gn8qB"
      },
      "source": [
        "Création d'un modèle vide de type séquentiel (dans lequel les calculs se propagnent de gauche à droite)\n",
        "\n"
      ]
    },
    {
      "cell_type": "code",
      "metadata": {
        "id": "1trsCmur205V"
      },
      "source": [
        "model = Sequential()"
      ],
      "execution_count": 21,
      "outputs": []
    },
    {
      "cell_type": "markdown",
      "source": [
        "Ajouter la couche d'entrée normalisée"
      ],
      "metadata": {
        "id": "Hqu3i4L6diNj"
      }
    },
    {
      "cell_type": "code",
      "source": [
        "model.add(norm_layer)"
      ],
      "metadata": {
        "id": "HEDjUW4bddMD"
      },
      "execution_count": 22,
      "outputs": []
    },
    {
      "cell_type": "markdown",
      "metadata": {
        "id": "7fdnXxDIotu1"
      },
      "source": [
        "Création des couches et de leurs fonctions d'activation : https://towardsdatascience.com/deep-learning-which-loss-and-activation-functions-should-i-use-ac02f1c56aa8, https://riptutorial.com/fr/machine-learning/example/31624/fonctions-d-activation"
      ]
    },
    {
      "cell_type": "code",
      "metadata": {
        "id": "Cy2COtehn0g7"
      },
      "source": [
        "# Ajout d'une première couche cachée\n",
        "# Le nombre de neurones par couche est à déterminer en fonction du nombre de caractéristiques d'entrée, mais c'est également en partie un exercice d'essai/erreur : https://medium.com/geekculture/introduction-to-neural-network-2f8b8221fbd3\n",
        "# Comme fonction d'activation, on utilise une des fonctions d'activation les plus simples et les plus communes : ReLU, qui est une unité de rectificateur linéraire (f(x)=0 quand x<0 et f(x)=x quand x>0.)\n",
        "# Ici, on choisit d'avoir 9 neurones (les données d'entrée ont 12 variables)\n",
        "model.add(Dense(9, input_dim=12, activation='relu'))\n",
        "\n",
        "# Si on souhaite ajouter d'autres couches cachées (l'ordre des couches est déterminée par l'ordre de l'appel à la méthode \"add\")\n",
        "model.add(Dense(9, activation='relu'))\n",
        "# model.add(Dense(9,activation='relu'))"
      ],
      "execution_count": null,
      "outputs": []
    },
    {
      "cell_type": "markdown",
      "metadata": {
        "id": "D1OdzRAGoBrJ"
      },
      "source": [
        "Création du neurone \"résultat\". On a besoin d'un seul résultat (température), on ne lui donne donc qu'un neurone"
      ]
    },
    {
      "cell_type": "code",
      "metadata": {
        "id": "4rfLj8rgn3qW"
      },
      "source": [
        "model.add(Dense(1, activation='linear'))"
      ],
      "execution_count": 24,
      "outputs": []
    },
    {
      "cell_type": "markdown",
      "metadata": {
        "id": "v5w21cwRoLhs"
      },
      "source": [
        "On compile le réseau avec un optimiseur et une méthode de calcul d'erreur"
      ]
    },
    {
      "cell_type": "code",
      "metadata": {
        "id": "MX0yT0mrn7Hi"
      },
      "source": [
        "model.compile(\n",
        "    optimizer='Adam', # Fonction de gradient de descente permettant d'optimiser, une itération après l'autre, les poids et biais du réseau (pour en savoir plus https://www.geeksforgeeks.org/intuition-of-adam-optimizer/)\n",
        "    loss='mse' # \"Mean Square Error\" calcule l'erreur moyenne quadratique entre les données d'entrée et les résultats connus\n",
        "    )"
      ],
      "execution_count": 25,
      "outputs": []
    },
    {
      "cell_type": "markdown",
      "metadata": {
        "id": "-KNfT451pIKu"
      },
      "source": [
        "### **2.4 Optimisation du réseau (calcul des poids et des biais)**"
      ]
    },
    {
      "cell_type": "code",
      "source": [
        "# Entraînement du modèle\n",
        "model.fit(\n",
        "    X_train, # Variables d'entrée\n",
        "    y_train, # Résultats correspondant\n",
        "    epochs=500, # Nombre d'époques\n",
        "    verbose=1\n",
        "    )"
      ],
      "metadata": {
        "id": "BKL578igZc4Z"
      },
      "execution_count": null,
      "outputs": []
    },
    {
      "cell_type": "markdown",
      "metadata": {
        "id": "gw2zTE82pRYL"
      },
      "source": [
        "Affichage de l'historique de l'optimisation"
      ]
    },
    {
      "cell_type": "code",
      "source": [
        "# Visualisons l'évolution de l'optimisation du modèle\n",
        "df_loss = pd.DataFrame(model.history.history)\n",
        "df_loss['epoch'] = model.history.epoch\n",
        "# loss_df.plot()\n",
        "\n",
        "\n",
        "plt.figure()\n",
        "plt.xlabel('Epoch')\n",
        "plt.ylabel('Erreur moyenne quadratique (en milliers de dollars^2)')\n",
        "plt.plot(df_loss['epoch'], df_loss['loss'], label='Erreur données d\\'entrainement')\n",
        "plt.legend()\n",
        "# plt.ylim([0,50])"
      ],
      "metadata": {
        "id": "jvqIILQCl2DR"
      },
      "execution_count": null,
      "outputs": []
    },
    {
      "cell_type": "markdown",
      "metadata": {
        "id": "kC92Mc_HnNe2"
      },
      "source": [
        "## **3. Évaluation de la qualité du modèle**"
      ]
    },
    {
      "cell_type": "markdown",
      "metadata": {
        "id": "Gbb-roFXpsUq"
      },
      "source": [
        "Prédiction des prix médians avec les données de test (et non les données d'entrainement)"
      ]
    },
    {
      "cell_type": "code",
      "metadata": {
        "id": "1D3jcSE39L02"
      },
      "source": [
        "# Utilisation du modèle pour prédire des valeurs de sortie\n",
        "test_predictions = model.predict(X_test)"
      ],
      "execution_count": null,
      "outputs": []
    },
    {
      "cell_type": "code",
      "metadata": {
        "id": "qGsr-8Me9tnU"
      },
      "source": [
        "# On construit un tableau pour comparer les résultats de prédiction et les résultats effectivement observés\n",
        "test_predictions = pd.Series(test_predictions.reshape(len(X_test,)))\n",
        "pred_df = pd.DataFrame(y_test,columns=['Test y'])\n",
        "pred_df = pd.concat([pred_df,test_predictions],axis=1)\n",
        "pred_df.columns = ['Test y','Model predictions']"
      ],
      "execution_count": 29,
      "outputs": []
    },
    {
      "cell_type": "code",
      "source": [
        "pred_df"
      ],
      "metadata": {
        "id": "J6Jqm6cdg4_z"
      },
      "execution_count": null,
      "outputs": []
    },
    {
      "cell_type": "markdown",
      "metadata": {
        "id": "qkvaMQj_gay2"
      },
      "source": [
        "Graphique des données observées (Test y) par rapport aux données prédites par le modèle :"
      ]
    },
    {
      "cell_type": "code",
      "metadata": {
        "id": "FZueu9CkAy1A"
      },
      "source": [
        "sns.scatterplot(x='Test y',y='Model predictions',data=pred_df)"
      ],
      "execution_count": null,
      "outputs": []
    },
    {
      "cell_type": "markdown",
      "metadata": {
        "id": "DCc-vEUKp93v"
      },
      "source": [
        "Importation de la fonction Sklearn pour calculer les erreurs"
      ]
    },
    {
      "cell_type": "code",
      "metadata": {
        "id": "Jr5L41VwBN_-"
      },
      "source": [
        "from sklearn.metrics import mean_absolute_error, mean_squared_error"
      ],
      "execution_count": 31,
      "outputs": []
    },
    {
      "cell_type": "markdown",
      "metadata": {
        "id": "C9LRF_l4gHVc"
      },
      "source": [
        "Nous voici avec une erreur moyenne absolue de :"
      ]
    },
    {
      "cell_type": "code",
      "metadata": {
        "id": "O1ZQbksIDb2A",
        "outputId": "ce8da98a-f7f1-445f-8c02-88e85ec8d5c0",
        "colab": {
          "base_uri": "https://localhost:8080/"
        }
      },
      "source": [
        "mean_absolute_error(pred_df['Test y'],pred_df['Model predictions'])"
      ],
      "execution_count": 32,
      "outputs": [
        {
          "output_type": "execute_result",
          "data": {
            "text/plain": [
              "2.534411252187398"
            ]
          },
          "metadata": {},
          "execution_count": 32
        }
      ]
    },
    {
      "cell_type": "markdown",
      "metadata": {
        "id": "PSkc0ubqgOD4"
      },
      "source": [
        "À comparer avec la moyenne des prix (pour se faire une idée de la qualité du modèle)"
      ]
    },
    {
      "cell_type": "code",
      "metadata": {
        "id": "JYopVnHRD4m_",
        "outputId": "f0368efd-0120-49f8-85db-489d5d8f244d",
        "colab": {
          "base_uri": "https://localhost:8080/"
        }
      },
      "source": [
        "df['MEDV'].mean()"
      ],
      "execution_count": 33,
      "outputs": [
        {
          "output_type": "execute_result",
          "data": {
            "text/plain": [
              "22.532806324110677"
            ]
          },
          "metadata": {},
          "execution_count": 33
        }
      ]
    },
    {
      "cell_type": "markdown",
      "metadata": {
        "id": "PWpCwnnNgT4Y"
      },
      "source": [
        "Le modèle n'est donc pas TRÈS bon, mais 1) on a appris des choses, et 2) on peut modifier la structure du RNA pour essayer de l'améliorer :)"
      ]
    },
    {
      "cell_type": "markdown",
      "metadata": {
        "id": "_DbnBEvn917k"
      },
      "source": [
        "Pour utiliser le modèle avec de nouvelles données, on passe une liste des valeurs des 12 variables d'entrée (dans notre cas, 5 enregistrements contenant chacun 12 variables) :"
      ]
    },
    {
      "cell_type": "code",
      "metadata": {
        "id": "zNW3mXtf8cEE"
      },
      "source": [
        "print(y_test[:5])\n",
        "\n",
        "print(model.predict(X_test[:5]))"
      ],
      "execution_count": null,
      "outputs": []
    },
    {
      "cell_type": "markdown",
      "metadata": {
        "id": "bKnls7VV_CiE"
      },
      "source": [
        "Pour sauvegarder notre modèle :"
      ]
    },
    {
      "cell_type": "code",
      "metadata": {
        "id": "CFwZRa9Y9qFU"
      },
      "source": [
        "model.save('/content/modele_Boston.keras') # crée un fichier au format spécifique à Keras\n",
        "# model.export('/content/modele_Boston') # crée un dossier, mais pas possible de le réimporter facilement dans Keras"
      ],
      "execution_count": 35,
      "outputs": []
    },
    {
      "cell_type": "markdown",
      "metadata": {
        "id": "V4HUJJok_g7V"
      },
      "source": [
        "Pour charger un modèle existant :"
      ]
    },
    {
      "cell_type": "code",
      "metadata": {
        "id": "F7jwgYiu_Ixf"
      },
      "source": [
        "from tensorflow.keras.models import load_model\n",
        "loaded_model = load_model('modele_Boston.keras')"
      ],
      "execution_count": 36,
      "outputs": []
    },
    {
      "cell_type": "code",
      "metadata": {
        "id": "eYWn66Mg_3pH"
      },
      "source": [
        "# liste_val = [........]\n",
        "loaded_model.predict(X_test[:5])"
      ],
      "execution_count": null,
      "outputs": []
    }
  ]
}