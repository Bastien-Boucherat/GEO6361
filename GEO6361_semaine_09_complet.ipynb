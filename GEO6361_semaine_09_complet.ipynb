{
  "nbformat": 4,
  "nbformat_minor": 0,
  "metadata": {
    "colab": {
      "private_outputs": true,
      "provenance": []
    },
    "kernelspec": {
      "name": "python3",
      "display_name": "Python 3"
    },
    "language_info": {
      "name": "python"
    }
  },
  "cells": [
    {
      "cell_type": "markdown",
      "source": [
        "**GEO6361, semaine 9 : Les opérations spatiales sur des images matricielles**\n",
        "\n",
        "Cette semaine, nous allons nous intéresser à quelques opérations de base à effectuer sur des images matricielles grâce au module **Rasterio**."
      ],
      "metadata": {
        "id": "fc7Gt5uo62-Z"
      }
    },
    {
      "cell_type": "markdown",
      "source": [
        "## **9. Opérations spatiales avec Rasterio**"
      ],
      "metadata": {
        "id": "VORjTC-q7Nii"
      }
    },
    {
      "cell_type": "markdown",
      "source": [
        "### **9.1 Installons et importons les modules requis**"
      ],
      "metadata": {
        "id": "SXtuu5Ce6gwj"
      }
    },
    {
      "cell_type": "code",
      "source": [
        "%%capture\n",
        "!pip install rasterio"
      ],
      "metadata": {
        "id": "BH1jlFYkRFOm"
      },
      "execution_count": null,
      "outputs": []
    },
    {
      "cell_type": "code",
      "source": [
        "import rasterio # le module Rasterio https://rasterio.readthedocs.io/en/latest/intro.html\n",
        "import rasterio.plot # le sous-module de rasterio permettant de visualiser des données\n",
        "import matplotlib.pyplot as plt # Matplotlib\n",
        "import numpy as np # NumPY\n",
        "import json # Json, pour manipuler les GeoJSON comme des dictionnaires Python"
      ],
      "metadata": {
        "id": "HXQM--vZ6tDI"
      },
      "execution_count": null,
      "outputs": []
    },
    {
      "cell_type": "markdown",
      "source": [
        "### **9.2 Chargement de données matricielles avec RasterIO**"
      ],
      "metadata": {
        "id": "kbrLjfHz6pkI"
      }
    },
    {
      "cell_type": "markdown",
      "source": [
        "#### **Importons un geotiff**"
      ],
      "metadata": {
        "id": "8vNH30KapTeA"
      }
    },
    {
      "cell_type": "markdown",
      "source": [
        "On importe notre image avec la méthode \"open\" de raterio :"
      ],
      "metadata": {
        "id": "EO5N-hFw-J-d"
      }
    },
    {
      "cell_type": "code",
      "source": [
        "# On importe notre image avec la méthode \"open\" de raterio. Nous obtenons un objet image couleur spécifique à rasterio.\n",
        "img = rasterio.open('/content/MOS_CZ_KR_250.tif')"
      ],
      "metadata": {
        "id": "B1BEIdDvpQM1"
      },
      "execution_count": null,
      "outputs": []
    },
    {
      "cell_type": "markdown",
      "source": [
        "On peut rapidement visualiser cette image avec la fonction **plot.show** de Rasterio :"
      ],
      "metadata": {
        "id": "xMluoMlA-d7n"
      }
    },
    {
      "cell_type": "code",
      "source": [
        "plt.figure(figsize = (10,10))\n",
        "rasterio.plot.show(img)"
      ],
      "metadata": {
        "id": "4hSsr1dHpV2L"
      },
      "execution_count": null,
      "outputs": []
    },
    {
      "cell_type": "markdown",
      "source": [
        "#### **Explorons notre geotiff**"
      ],
      "metadata": {
        "id": "yVbsOms6DvFE"
      }
    },
    {
      "cell_type": "markdown",
      "source": [
        "Nous obtenons un **objet** Rasterio auquel sont associées de nombreuses méthodes"
      ],
      "metadata": {
        "id": "Ctnoys9X-YFs"
      }
    },
    {
      "cell_type": "code",
      "source": [
        "type(img)"
      ],
      "metadata": {
        "id": "Pe04feFOq_K5"
      },
      "execution_count": null,
      "outputs": []
    },
    {
      "cell_type": "code",
      "source": [
        "print(img.name)\n",
        "print(img.shape) # quelle est la taille de l'image ?\n",
        "print(img.count) # quel est le nombre de couches ?\n",
        "print(img.bounds) # quelle est l'emprise de la couche dans son système de coordonnées ?\n",
        "print(img.crs) #... d'ailleurs, quel est son système de projection ?\n",
        "print(img.dtypes) # quel est le type des données des pixels de l'image ?\n",
        "print(img.width, img.height) # Largeur, hauteur"
      ],
      "metadata": {
        "id": "Vfs9wlH0_Xdy"
      },
      "execution_count": null,
      "outputs": []
    },
    {
      "cell_type": "code",
      "source": [
        "print(img.profile) # pour obtenir un résumé"
      ],
      "metadata": {
        "id": "AjynR8m3zMoY"
      },
      "execution_count": null,
      "outputs": []
    },
    {
      "cell_type": "markdown",
      "source": [
        "Les objets RasterIO contiennent en fait des **array NumPy**. Nous pouvons y accéder directement de la manière suivante :"
      ],
      "metadata": {
        "id": "VXpFFGK1Aoq8"
      }
    },
    {
      "cell_type": "code",
      "source": [
        "img_np = img.read() # pour obtenir un array NumPY"
      ],
      "metadata": {
        "id": "mfaiaA3NqA4D"
      },
      "execution_count": null,
      "outputs": []
    },
    {
      "cell_type": "markdown",
      "source": [
        "À partir de là, on peut manipuler ces images comme on le ferait avec des array NumPy (cf. semaine 5)"
      ],
      "metadata": {
        "id": "VJO_vIdTA7r1"
      }
    },
    {
      "cell_type": "code",
      "source": [
        "print(\"Dimension de l'array :\", img_np.shape) # pour obtenir les dimensions de l'array\n",
        "print(\"La première bande :\", img_np[0]) # pour accéder à la première bande\n",
        "print(\"Les valeurs min et max des pixel de la bande :\", img_np[0].min(), img_np.max()) # les valeurs minimale et maximale de la bande\n",
        "print(\"La valeur du pixel central de la bande :\",   ) # pour accéder à tel ou tel pixel de la bande\n",
        "print(\"La moyenne des pixels d'une bande :\", np.mean(img_np[0][img_np[0] != 255])) # pour calculer des statistiques classiques sur la première bande\n",
        "\n",
        "plt.imshow(img_np[0], cmap='Greys') # pour afficher une bande"
      ],
      "metadata": {
        "id": "dIECk3OiqFBB"
      },
      "execution_count": null,
      "outputs": []
    },
    {
      "cell_type": "markdown",
      "source": [
        "Pour sortir une sous-partie de l'image :"
      ],
      "metadata": {
        "id": "dDkoM2OCVytt"
      }
    },
    {
      "cell_type": "code",
      "source": [
        "img_cropped = img_np[:, 200:400, 300:500]\n",
        "type(img_cropped)"
      ],
      "metadata": {
        "id": "Gmc8LSHCKl98"
      },
      "execution_count": null,
      "outputs": []
    },
    {
      "cell_type": "code",
      "source": [
        "plt.figure(figsize = (10,10))\n",
        "rasterio.plot.show(img_cropped)"
      ],
      "metadata": {
        "id": "Ja8IhYR1q1rh"
      },
      "execution_count": null,
      "outputs": []
    },
    {
      "cell_type": "markdown",
      "source": [
        "On voit que l'orsque l'on sort les arrays de leur objet hôte Rasterio, le système de coordonnées est perdu. Nous pouvons le retrouver grâce à la propriété **.transform** :"
      ],
      "metadata": {
        "id": "8RX9t6UeIhry"
      }
    },
    {
      "cell_type": "code",
      "source": [
        "tr = img.transform # array décrivant la transformation affine entre les données projetées à l'array NumPY (https://rasterio.readthedocs.io/en/latest/api/rasterio.transform.html)\n",
        "print(tr) # Si vous voulez aller plus loin, le principe des transformations affines est expliqué ici : https://www.youtube.com/watch?v=E3Phj6J287o\n"
      ],
      "metadata": {
        "id": "VkPSkEA_I6ms"
      },
      "execution_count": null,
      "outputs": []
    },
    {
      "cell_type": "code",
      "source": [
        "print(tr * (0, 0)) # convertir les coordonnées du système NumPY (numéro de ligne, numéro de colonne) vers le système de coordonnées\n",
        "print(tr * (img.height, img.width))"
      ],
      "metadata": {
        "id": "j1Tmjmky0Am6"
      },
      "execution_count": null,
      "outputs": []
    },
    {
      "cell_type": "markdown",
      "source": [
        "Et nous pouvons effectuer l'**opération inverse** (passer des coordonnées projetées aux numéros de ligne, colonne)"
      ],
      "metadata": {
        "id": "6aXmNNzsXil0"
      }
    },
    {
      "cell_type": "code",
      "source": [
        "print(img.index(-907000.0, -933000.0))\n",
        "print(img.index(-610000.0, -1411000.0))"
      ],
      "metadata": {
        "id": "AZn-df3MXnfP"
      },
      "execution_count": null,
      "outputs": []
    },
    {
      "cell_type": "markdown",
      "source": [
        "Afficher l'histogramme de l'image :"
      ],
      "metadata": {
        "id": "ahBqT5n6WzoM"
      }
    },
    {
      "cell_type": "code",
      "source": [
        "rasterio.plot.show_hist(img_cropped, bins=50, lw=0.0, stacked=False, alpha=0.3, histtype='stepfilled', title=\"Histogramme des trois bandes\")"
      ],
      "metadata": {
        "id": "M9Ma2ZW7rP-T"
      },
      "execution_count": null,
      "outputs": []
    },
    {
      "cell_type": "markdown",
      "source": [
        "### **9.3. Chargement de geotiff à partir de Earthexplorer**"
      ],
      "metadata": {
        "id": "IqwoWRjavdTN"
      }
    },
    {
      "cell_type": "markdown",
      "source": [
        "On peut parcourir et obtenir les données Landsat sur le site: https://earthexplorer.usgs.gov\n",
        "\n",
        "Quelques paramètres de Landsat:\n",
        "* LC = Land Cover\n",
        "* 08 = Satellite Landsat numéro 8\n",
        "* Path (trajet) et row (ligne) pour la zone capturée\n",
        "* Date de capture\n",
        "* Tiers: 1,2,3 (qualité des données) ou RT (real-time)\n",
        "\n",
        "On peut par la suite explorer les données stockées sur Google et utiliser le lien direct vers une image précise (en fonction des paramètres de landsat, date, etc.)"
      ],
      "metadata": {
        "id": "jD5831Rkgt0i"
      }
    },
    {
      "cell_type": "code",
      "source": [
        "# Exemple Bande 4\n",
        "img_test = rasterio.open('https://storage.googleapis.com/gcp-public-data-landsat/LC08/01/014/028/LC08_L1TP_014028_20211029_20211109_01_T1/LC08_L1TP_014028_20211029_20211109_01_T1_B4.TIF')"
      ],
      "metadata": {
        "id": "aGh30I5wcGUW"
      },
      "execution_count": null,
      "outputs": []
    },
    {
      "cell_type": "code",
      "source": [
        "rasterio.plot.show(img_test)"
      ],
      "metadata": {
        "id": "A3b2cq04RFRe"
      },
      "execution_count": null,
      "outputs": []
    },
    {
      "cell_type": "code",
      "source": [
        "id = 'LC08_L1TP_014028_20211029_20211109_01_T1' # Montréal <- attention, image nocturne\n",
        "#id = 'LC08_L1TP_047026_20150614_20180131_01_T1' # Vancouver\n",
        "\n",
        "# Reconstruire une URL de type suivant pour chaque bande B4, B3, B2, et B5:\n",
        "# https://storage.googleapis.com/gcp-public-data-landsat/LC08/01/014/028/LC08_L1TP_014028_20211029_20211109_01_T1/LC08_L1TP_014028_20211029_20211109_01_T1_B4.TIF\n",
        "\n",
        "\n",
        "lc = id.split('_')[0] # land cover (LC)\n",
        "trajet = id.split('_')[2][:3] #path number https://landsat.usgs.gov/landsat_acq\n",
        "ligne = id.split('_')[2][3:] #row number\n",
        "num = id.split('_')[5]\n",
        "\n",
        "print(lc, num, trajet, ligne)\n",
        "\n",
        "bandes = ['B4', 'B3', 'B2', 'B5'] # https://www.usgs.gov/faqs/what-are-band-designations-landsat-satellites\n",
        "\n",
        "image = []\n",
        "for bande in bandes:\n",
        "    print(f\"Bande:{bande}\")\n",
        "    path = f'https://storage.googleapis.com/gcp-public-data-landsat/{lc}/{num}/{trajet}/{ligne}/{id}/{id}_{bande}.TIF'\n",
        "    print(path)\n",
        "    img = rasterio.open(path)\n",
        "\n",
        "    img_data = img.read(1) # récupère une bande de l'image sous forme d'array NumPY, l'indexage des bandes commence à 1 (cf) https://rasterio.readthedocs.io/en/stable/topics/reading.html)\n",
        "    image.append(img_data) # collige chaque image dans une liste Python"
      ],
      "metadata": {
        "id": "HGG6xZA_rgwK"
      },
      "execution_count": null,
      "outputs": []
    },
    {
      "cell_type": "code",
      "source": [
        "print(image)\n",
        "print(image[0].shape) # dimensions de la couche en pixels\n",
        "print(image[0].shape[0]) # dimension sur l'axe des x (en pixels)\n",
        "print(image[0].shape[1]) # dimension sur l'axe des y (en pixels)"
      ],
      "metadata": {
        "id": "t3n4vjtpUryN"
      },
      "execution_count": null,
      "outputs": []
    },
    {
      "cell_type": "markdown",
      "source": [
        "### **9.4. Création d'une composition colorée (pour une analyse NDVI) :**"
      ],
      "metadata": {
        "id": "Dfbg1RKig1Sm"
      }
    },
    {
      "cell_type": "markdown",
      "source": [
        "**Normalisation des bandes :**"
      ],
      "metadata": {
        "id": "ixL_4o96Dihi"
      }
    },
    {
      "cell_type": "code",
      "source": [
        "from skimage import  img_as_ubyte\n",
        "from skimage import exposure\n",
        "\n",
        "normaliser = True\n",
        "\n",
        "# Création d'un array 3D pour accueillir trois bandes\n",
        "channels = np.empty([3, image[0].shape[0], image[0].shape[1]],dtype=np.uint8)\n",
        "\n",
        "# On remplit notre array couche par couche\n",
        "for index, im in enumerate([image[3], image[0], image[1]]): # On passe ici les bandes composant notre image en (fausses) couleurs B5 (proche infra-rouge) dans le canal rouge, B4 (rouge) dans le canal vert, et B3 (vert) dans le canal bleu\n",
        "    if normaliser:\n",
        "        stretched = exposure.equalize_hist(im) # facultatif : les valeurs sont normalisées\n",
        "        channels[index,:,:] = img_as_ubyte(stretched) # convertit en entier non-signé sur 8 bits (valeur de 0 à 255) https://scikit-image.org/docs/stable/api/skimage.html\n",
        "    else:\n",
        "        channels[index,:,:] = im"
      ],
      "metadata": {
        "id": "Fq2C3GbsCkaM"
      },
      "execution_count": null,
      "outputs": []
    },
    {
      "cell_type": "markdown",
      "source": [
        "**Affichons nos bandes :**"
      ],
      "metadata": {
        "id": "Zb7_OdRsPlgy"
      }
    },
    {
      "cell_type": "code",
      "source": [
        "fig, (axr, axg, axb) = plt.subplots(1,3, figsize=(21,7))\n",
        "rasterio.plot.show((channels[0]), ax=axr, cmap='Greys', title='Proche infrarouge (B5)')\n",
        "rasterio.plot.show((channels[1]), ax=axg, cmap='Greys', title='Rouge (B4)')\n",
        "rasterio.plot.show((channels[2]), ax=axb, cmap='Greys', title='Vert (B3)')\n",
        "plt.show()"
      ],
      "metadata": {
        "id": "yGlmNfjrDj_b"
      },
      "execution_count": null,
      "outputs": []
    },
    {
      "cell_type": "markdown",
      "source": [
        "**Exportons le composé au format geotiff :**"
      ],
      "metadata": {
        "id": "taxByJZlhSB8"
      }
    },
    {
      "cell_type": "code",
      "source": [
        "# inspiré de https://geog-312.gishub.org/book/geospatial/rasterio.html\n",
        "with rasterio.open('/content/mtl_comp.tif',\n",
        "                   'w',\n",
        "                   driver='GTiff',\n",
        "                   height=img.height,\n",
        "                   width=img.width,\n",
        "                   count=3,\n",
        "                   dtype=channels.dtype,\n",
        "                   crs=img.crs,\n",
        "                   transform=img.transform,\n",
        "                   nodata=0.0\n",
        "                   ) as dst:\n",
        "        dst.write(channels)\n",
        "        keys=['2','3','4']\n",
        "        for index,chan_name in enumerate(keys):\n",
        "            dst.update_tags(index+1,name=chan_name)"
      ],
      "metadata": {
        "id": "Yd7WxpiECkM0"
      },
      "execution_count": null,
      "outputs": []
    },
    {
      "cell_type": "markdown",
      "source": [
        "**ou au format jpg (plus léger car compression avec perte) mais on perd les informations spatiales:**"
      ],
      "metadata": {
        "id": "XDl3VQXqhp_X"
      }
    },
    {
      "cell_type": "code",
      "source": [
        "with rasterio.open('/content/mtl_comp.tif') as infile:\n",
        "    profile=infile.profile\n",
        "    raster=infile.read()\n",
        "    # produisons un jpeg\n",
        "    profile['driver']='JPEG'\n",
        "    jpeg_filename = '/content/mtl_comp.jpeg'\n",
        "    with rasterio.open(jpeg_filename, 'w', **profile) as dst:\n",
        "        dst.write(raster)"
      ],
      "metadata": {
        "id": "cLo8i6wSG4TF"
      },
      "execution_count": null,
      "outputs": []
    },
    {
      "cell_type": "markdown",
      "source": [
        "### **9.5. Découpage d'une image (\"clipping\")**"
      ],
      "metadata": {
        "id": "7GB54YBShwVT"
      }
    },
    {
      "cell_type": "markdown",
      "source": [
        "**Installons Geopandas :**"
      ],
      "metadata": {
        "id": "MK41grziiCu8"
      }
    },
    {
      "cell_type": "code",
      "source": [
        "import geopandas as gpd\n",
        "import json\n",
        "import rasterio.mask"
      ],
      "metadata": {
        "id": "2vjPOtu9RZ8u"
      },
      "execution_count": null,
      "outputs": []
    },
    {
      "cell_type": "markdown",
      "source": [
        "**On ré-importe le composé coloré geotiff :**"
      ],
      "metadata": {
        "id": "qBVWhU0sx1Il"
      }
    },
    {
      "cell_type": "code",
      "source": [
        "mtl_comp = rasterio.open('/content/mtl_comp.tif')"
      ],
      "metadata": {
        "id": "fQmQ2aDdk5VZ"
      },
      "execution_count": null,
      "outputs": []
    },
    {
      "cell_type": "code",
      "source": [
        "plt.figure(figsize = (10,10))\n",
        "rasterio.plot.show(mtl_comp)"
      ],
      "metadata": {
        "id": "4Kn8Xq2IlGDf"
      },
      "execution_count": null,
      "outputs": []
    },
    {
      "cell_type": "markdown",
      "source": [
        "**Importons un masque pour découper l'image matricielle :**"
      ],
      "metadata": {
        "id": "Mldah_p7QbOQ"
      }
    },
    {
      "cell_type": "code",
      "source": [
        "masque_gdf = gpd.read_file('/content/masque_mtl.geojson')\n",
        "print(masque_gdf.crs)\n",
        "masque_gdf = masque_gdf.to_crs(mtl_comp.crs)\n",
        "masque_gdf.plot()"
      ],
      "metadata": {
        "id": "mF-PQ3V4Q2Mt"
      },
      "execution_count": null,
      "outputs": []
    },
    {
      "cell_type": "markdown",
      "source": [
        "**Rasterio a besoin d'un GeoJSON, on lui donne donc un GeoJSON :**"
      ],
      "metadata": {
        "id": "rEDYVaD7QpKl"
      }
    },
    {
      "cell_type": "code",
      "source": [
        "masque = [json.loads(masque_gdf.to_json())['features'][0]['geometry']] # Cf la composition d'un fichier json"
      ],
      "metadata": {
        "id": "d7gBwpWDXpqP"
      },
      "execution_count": null,
      "outputs": []
    },
    {
      "cell_type": "markdown",
      "source": [
        "**Utilisation de la fonction \"mask\" de Rasterio :**"
      ],
      "metadata": {
        "id": "p01ywZhYQ73t"
      }
    },
    {
      "cell_type": "code",
      "source": [
        "mtl_comp_clipped = rasterio.mask.mask(mtl_comp, masque, crop=True)"
      ],
      "metadata": {
        "id": "JQcZ_pu-UTrZ"
      },
      "execution_count": null,
      "outputs": []
    },
    {
      "cell_type": "code",
      "source": [
        "mtl_comp_clipped[0][0]"
      ],
      "metadata": {
        "id": "9uWlV8sblt9m"
      },
      "execution_count": null,
      "outputs": []
    },
    {
      "cell_type": "code",
      "source": [
        "plt.imshow(mtl_comp_clipped[0][0], cmap='Greys')"
      ],
      "metadata": {
        "id": "tf7E4I-olhUr"
      },
      "execution_count": null,
      "outputs": []
    },
    {
      "cell_type": "markdown",
      "source": [
        "### **9.6. Calcul d'un NDVI (Normalized difference vegetation index)**"
      ],
      "metadata": {
        "id": "YtKOdSpLRPGw"
      }
    },
    {
      "cell_type": "markdown",
      "source": [
        "https://en.wikipedia.org/wiki/Normalized_difference_vegetation_index"
      ],
      "metadata": {
        "id": "r4KUwKiTRp37"
      }
    },
    {
      "cell_type": "markdown",
      "source": [
        "Quel est le type de nos données ?"
      ],
      "metadata": {
        "id": "R0hEuwLkYTjW"
      }
    },
    {
      "cell_type": "code",
      "source": [
        "mtl_comp_clipped[0].dtype"
      ],
      "metadata": {
        "id": "q0zER7CDSPSo"
      },
      "execution_count": null,
      "outputs": []
    },
    {
      "cell_type": "markdown",
      "source": [
        "Comme nous allons effectuer des divisions sur nos valeurs de pixels, nous devons effectuer les calculs sur des entiers (et pas des réels)"
      ],
      "metadata": {
        "id": "PgTsDNv5R730"
      }
    },
    {
      "cell_type": "code",
      "source": [
        "b5_clipped = mtl_comp_clipped[0][0].astype('float32') # Convertissons la couche PIR en réels\n",
        "b4_clipped = mtl_comp_clipped[0][1].astype('float32') # Convertissons la couche rouge en réels"
      ],
      "metadata": {
        "id": "m2QugDO9y62t"
      },
      "execution_count": null,
      "outputs": []
    },
    {
      "cell_type": "code",
      "source": [
        "b5_clipped.dtype"
      ],
      "metadata": {
        "id": "N8jlq9cpTIS9"
      },
      "execution_count": null,
      "outputs": []
    },
    {
      "cell_type": "markdown",
      "source": [
        "**Calcul du NDVI :**"
      ],
      "metadata": {
        "id": "a_kGymYNTPdA"
      }
    },
    {
      "cell_type": "code",
      "source": [
        "# On configure NumPy pour ignorer les divisions par zéro\n",
        "np.seterr(divide='ignore', invalid='ignore')"
      ],
      "metadata": {
        "id": "pHTTiNLXAODP"
      },
      "execution_count": null,
      "outputs": []
    },
    {
      "cell_type": "code",
      "source": [
        "# Calcul de l'indice (avec ou sans NumPy)\n",
        "# mtl_ndvi = (b5_clipped - b4_clipped)/(b5_clipped + b4_clipped)\n",
        "mtl_ndvi = np.divide(np.subtract(b5_clipped, b4_clipped),np.add(b5_clipped, b4_clipped))"
      ],
      "metadata": {
        "id": "LONSj97YBaFz"
      },
      "execution_count": null,
      "outputs": []
    },
    {
      "cell_type": "code",
      "source": [
        "# Afficher le résultat\n",
        "plt.figure(figsize = (10,10))\n",
        "plt.imshow(mtl_ndvi, cmap='viridis', interpolation='bilinear') # https://matplotlib.org/stable/tutorials/colors/colormaps.html\n",
        "plt.colorbar()"
      ],
      "metadata": {
        "id": "qKUQXWAT2bnF"
      },
      "execution_count": null,
      "outputs": []
    },
    {
      "cell_type": "markdown",
      "source": [
        "**Visualisation de l'histogramme :**"
      ],
      "metadata": {
        "id": "92BKdTOnTz0u"
      }
    },
    {
      "cell_type": "code",
      "source": [
        "# Pour interpréter : https://ipad.fas.usda.gov/cropexplorer/Definitions/spotveg.htm#:~:text=Normalized%20Difference%20Vegetation%20Index%20(NDVI)%3A&text=In%20general%2C%20NDVI%20values%20range,vegetation%20(0.6%20and%20above).\n",
        "\n",
        "from rasterio.plot import show_hist\n",
        "show_hist(mtl_ndvi, bins=50, lw=0.0, stacked=False, alpha=0.3, histtype='stepfilled', title=\"Histogram\")"
      ],
      "metadata": {
        "id": "DiBVsTAm-ZuO"
      },
      "execution_count": null,
      "outputs": []
    }
  ]
}